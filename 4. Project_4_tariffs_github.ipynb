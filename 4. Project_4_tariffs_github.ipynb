{
 "cells": [
  {
   "cell_type": "markdown",
   "id": "1d61c1b6",
   "metadata": {
    "toc": true
   },
   "source": [
    "<h1>Содержание<span class=\"tocSkip\"></span></h1>\n",
    "<div class=\"toc\"><ul class=\"toc-item\"><li><span><a href=\"#Изучение-данных-из-файлов\" data-toc-modified-id=\"Изучение-данных-из-файлов-1\"><span class=\"toc-item-num\">1&nbsp;&nbsp;</span>Изучение данных из файлов</a></span><ul class=\"toc-item\"><li><span><a href=\"#Вывод-по-изученным-данным\" data-toc-modified-id=\"Вывод-по-изученным-данным-1.1\"><span class=\"toc-item-num\">1.1&nbsp;&nbsp;</span>Вывод по изученным данным</a></span></li></ul></li><li><span><a href=\"#Предобработка-данных\" data-toc-modified-id=\"Предобработка-данных-2\"><span class=\"toc-item-num\">2&nbsp;&nbsp;</span>Предобработка данных</a></span><ul class=\"toc-item\"><li><span><a href=\"#Проверка-данных-на-аномалии-и-исправления\" data-toc-modified-id=\"Проверка-данных-на-аномалии-и-исправления-2.1\"><span class=\"toc-item-num\">2.1&nbsp;&nbsp;</span>Проверка данных на аномалии и исправления</a></span></li><li><span><a href=\"#Вывод-по-проверка-данных-на-аномалии-и-исправления\" data-toc-modified-id=\"Вывод-по-проверка-данных-на-аномалии-и-исправления-2.2\"><span class=\"toc-item-num\">2.2&nbsp;&nbsp;</span>Вывод по проверка данных на аномалии и исправления</a></span></li><li><span><a href=\"#Замена-типов-данных\" data-toc-modified-id=\"Замена-типов-данных-2.3\"><span class=\"toc-item-num\">2.3&nbsp;&nbsp;</span>Замена типов данных</a></span></li><li><span><a href=\"#Вывод-по-замене-типов-данных\" data-toc-modified-id=\"Вывод-по-замене-типов-данных-2.4\"><span class=\"toc-item-num\">2.4&nbsp;&nbsp;</span>Вывод по замене типов данных</a></span></li><li><span><a href=\"#Объединение-данных-из-5-файлов-в-единый-DataFrame-и-подсчет-необходимых-величин\" data-toc-modified-id=\"Объединение-данных-из-5-файлов-в-единый-DataFrame-и-подсчет-необходимых-величин-2.5\"><span class=\"toc-item-num\">2.5&nbsp;&nbsp;</span>Объединение данных из 5 файлов в единый DataFrame и подсчет необходимых величин</a></span><ul class=\"toc-item\"><li><span><a href=\"#Форматирование-таблицы-&quot;Звонки&quot;\" data-toc-modified-id=\"Форматирование-таблицы-&quot;Звонки&quot;-2.5.1\"><span class=\"toc-item-num\">2.5.1&nbsp;&nbsp;</span>Форматирование таблицы \"Звонки\"</a></span></li><li><span><a href=\"#Форматирование-таблицы-&quot;Интернет&quot;\" data-toc-modified-id=\"Форматирование-таблицы-&quot;Интернет&quot;-2.5.2\"><span class=\"toc-item-num\">2.5.2&nbsp;&nbsp;</span>Форматирование таблицы \"Интернет\"</a></span></li><li><span><a href=\"#Форматирование-таблицы-&quot;Сообщения&quot;\" data-toc-modified-id=\"Форматирование-таблицы-&quot;Сообщения&quot;-2.5.3\"><span class=\"toc-item-num\">2.5.3&nbsp;&nbsp;</span>Форматирование таблицы \"Сообщения\"</a></span></li><li><span><a href=\"#Форматирование-таблицы-&quot;Информация-о-пользователях&quot;\" data-toc-modified-id=\"Форматирование-таблицы-&quot;Информация-о-пользователях&quot;-2.5.4\"><span class=\"toc-item-num\">2.5.4&nbsp;&nbsp;</span>Форматирование таблицы \"Информация о пользователях\"</a></span></li><li><span><a href=\"#Объединим-таблицы-для-проведения-анализа\" data-toc-modified-id=\"Объединим-таблицы-для-проведения-анализа-2.5.5\"><span class=\"toc-item-num\">2.5.5&nbsp;&nbsp;</span>Объединим таблицы для проведения анализа</a></span></li></ul></li><li><span><a href=\"#Вывод-по-объединенным-и-дополненным-данным\" data-toc-modified-id=\"Вывод-по-объединенным-и-дополненным-данным-2.6\"><span class=\"toc-item-num\">2.6&nbsp;&nbsp;</span>Вывод по объединенным и дополненным данным</a></span></li></ul></li><li><span><a href=\"#Анализ-данных\" data-toc-modified-id=\"Анализ-данных-3\"><span class=\"toc-item-num\">3&nbsp;&nbsp;</span>Анализ данных</a></span><ul class=\"toc-item\"><li><span><a href=\"#Минут-в-месяц:-гистограммы,-диаграммы-рассеиваия-и-значения-дисперсии-и-стандартного-отклонения\" data-toc-modified-id=\"Минут-в-месяц:-гистограммы,-диаграммы-рассеиваия-и-значения-дисперсии-и-стандартного-отклонения-3.1\"><span class=\"toc-item-num\">3.1&nbsp;&nbsp;</span>Минут в месяц: гистограммы, диаграммы рассеиваия и значения дисперсии и стандартного отклонения</a></span><ul class=\"toc-item\"><li><span><a href=\"#Вывод-по-разделу-&quot;Минут-в-месяц:-гистограммы,-диаграммы-рассеиваия-и-значения-дисперсии-и-стандартного-отклонения&quot;\" data-toc-modified-id=\"Вывод-по-разделу-&quot;Минут-в-месяц:-гистограммы,-диаграммы-рассеиваия-и-значения-дисперсии-и-стандартного-отклонения&quot;-3.1.1\"><span class=\"toc-item-num\">3.1.1&nbsp;&nbsp;</span>Вывод по разделу \"Минут в месяц: гистограммы, диаграммы рассеиваия и значения дисперсии и стандартного отклонения\"</a></span></li></ul></li><li><span><a href=\"#Интернет-трафика-в-месяц:-гистограммы,-диаграммы-рассеиваия-и-значения-дисперсии-и-стандартного-отклонения\" data-toc-modified-id=\"Интернет-трафика-в-месяц:-гистограммы,-диаграммы-рассеиваия-и-значения-дисперсии-и-стандартного-отклонения-3.2\"><span class=\"toc-item-num\">3.2&nbsp;&nbsp;</span>Интернет-трафика в месяц: гистограммы, диаграммы рассеиваия и значения дисперсии и стандартного отклонения</a></span><ul class=\"toc-item\"><li><span><a href=\"#Вывод-по-разделу-&quot;Интернет-трафика-в-месяц:-гистограммы,-диаграммы-рассеиваия-и-значения-дисперсии-и-стандартного-отклонения&quot;\" data-toc-modified-id=\"Вывод-по-разделу-&quot;Интернет-трафика-в-месяц:-гистограммы,-диаграммы-рассеиваия-и-значения-дисперсии-и-стандартного-отклонения&quot;-3.2.1\"><span class=\"toc-item-num\">3.2.1&nbsp;&nbsp;</span>Вывод по разделу \"Интернет-трафика в месяц: гистограммы, диаграммы рассеиваия и значения дисперсии и стандартного отклонения\"</a></span></li></ul></li><li><span><a href=\"#Сообщений-в-месяц:-гистограммы,-диаграммы-рассеиваия-и-значения-дисперсии-и-стандартного-отклонения\" data-toc-modified-id=\"Сообщений-в-месяц:-гистограммы,-диаграммы-рассеиваия-и-значения-дисперсии-и-стандартного-отклонения-3.3\"><span class=\"toc-item-num\">3.3&nbsp;&nbsp;</span>Сообщений в месяц: гистограммы, диаграммы рассеиваия и значения дисперсии и стандартного отклонения</a></span><ul class=\"toc-item\"><li><span><a href=\"#Вывод-по-разделу-&quot;Сообщений-в-месяц:-гистограммы,-диаграммы-рассеиваия-и-значения-дисперсии-и-стандартного-отклонения&quot;\" data-toc-modified-id=\"Вывод-по-разделу-&quot;Сообщений-в-месяц:-гистограммы,-диаграммы-рассеиваия-и-значения-дисперсии-и-стандартного-отклонения&quot;-3.3.1\"><span class=\"toc-item-num\">3.3.1&nbsp;&nbsp;</span>Вывод по разделу \"Сообщений в месяц: гистограммы, диаграммы рассеиваия и значения дисперсии и стандартного отклонения\"</a></span></li></ul></li><li><span><a href=\"#Выручка-в-месяц-(какой-тариф-выгоднее-для-оператора):-гистограммы,-диаграммы-рассеиваия-и-значения-дисперсии-и-стандартного-отклонения\" data-toc-modified-id=\"Выручка-в-месяц-(какой-тариф-выгоднее-для-оператора):-гистограммы,-диаграммы-рассеиваия-и-значения-дисперсии-и-стандартного-отклонения-3.4\"><span class=\"toc-item-num\">3.4&nbsp;&nbsp;</span>Выручка в месяц (какой тариф выгоднее для оператора): гистограммы, диаграммы рассеиваия и значения дисперсии и стандартного отклонения</a></span><ul class=\"toc-item\"><li><span><a href=\"#Вывод-по-разделу-&quot;Выручка-в-месяц-(какой-тариф-выгоднее-для-оператора):-гистограммы,-диаграммы-рассеиваия-и-значения-дисперсии-и-стандартного-отклонения&quot;\" data-toc-modified-id=\"Вывод-по-разделу-&quot;Выручка-в-месяц-(какой-тариф-выгоднее-для-оператора):-гистограммы,-диаграммы-рассеиваия-и-значения-дисперсии-и-стандартного-отклонения&quot;-3.4.1\"><span class=\"toc-item-num\">3.4.1&nbsp;&nbsp;</span>Вывод по разделу \"Выручка в месяц (какой тариф выгоднее для оператора): гистограммы, диаграммы рассеиваия и значения дисперсии и стандартного отклонения\"</a></span></li></ul></li></ul></li><li><span><a href=\"#Проверка-гипотез\" data-toc-modified-id=\"Проверка-гипотез-4\"><span class=\"toc-item-num\">4&nbsp;&nbsp;</span>Проверка гипотез</a></span><ul class=\"toc-item\"><li><span><a href=\"#Гипотеза-№1:-Средняя-выручка-пользователей-тарифов-&quot;Ультра&quot;-и-&quot;Смарт&quot;-различаются\" data-toc-modified-id=\"Гипотеза-№1:-Средняя-выручка-пользователей-тарифов-&quot;Ультра&quot;-и-&quot;Смарт&quot;-различаются-4.1\"><span class=\"toc-item-num\">4.1&nbsp;&nbsp;</span>Гипотеза №1: Средняя выручка пользователей тарифов \"Ультра\" и \"Смарт\" различаются</a></span><ul class=\"toc-item\"><li><span><a href=\"#Вывод-по-гипотезе-№1:\" data-toc-modified-id=\"Вывод-по-гипотезе-№1:-4.1.1\"><span class=\"toc-item-num\">4.1.1&nbsp;&nbsp;</span>Вывод по гипотезе №1:</a></span></li></ul></li><li><span><a href=\"#Гипотеза-№2:-Средняя-выручка-пользователей-из-Москвы-отличается-от-выручки-пользователей-из-других-регионов\" data-toc-modified-id=\"Гипотеза-№2:-Средняя-выручка-пользователей-из-Москвы-отличается-от-выручки-пользователей-из-других-регионов-4.2\"><span class=\"toc-item-num\">4.2&nbsp;&nbsp;</span>Гипотеза №2: Средняя выручка пользователей из Москвы отличается от выручки пользователей из других регионов</a></span></li></ul></li><li><span><a href=\"#Общий-вывод-по-исследованию-тарифных-планов-у-сотового-оператора\" data-toc-modified-id=\"Общий-вывод-по-исследованию-тарифных-планов-у-сотового-оператора-5\"><span class=\"toc-item-num\">5&nbsp;&nbsp;</span>Общий вывод по исследованию тарифных планов у сотового оператора</a></span></li></ul></div>"
   ]
  },
  {
   "cell_type": "markdown",
   "id": "64b4226e",
   "metadata": {},
   "source": [
    "# Исследование тарифных планов у сотового оператора"
   ]
  },
  {
   "cell_type": "markdown",
   "id": "c31c25c9",
   "metadata": {},
   "source": [
    "Федеральный оператор состовой связи предлагает клиентам два тарифных плана:\n",
    "\n",
    "1. Тариф **Смарт**\n",
    "- Ежемесячная плата: 550 рублей\n",
    "- Включено 500 минут разговора, 50 сообщений и 15 Гб интернет-трафика\n",
    "- Стоимость услуг сверх тарифного пакета:\n",
    "    - минута разговора: 3 рубля\n",
    "    - сообщение: 3 рубля\n",
    "    - 1Гб интернет-трафика: 200 рублей\n",
    "2. Тариф **Ультра**\n",
    "- Ежемесячная плата: 1950 рублей\n",
    "- Включено 3000 минут разговора, 1000 сообщений и 30 Гб интернет-трафика\n",
    "- Стоимость услуг сверх тарифного пакета:\n",
    "    - минута разговора: 1 рубля\n",
    "    - сообщение: 1 рубля\n",
    "    - 1Гб интернет-трафика: 150 рублей\n",
    "\n",
    "Для корректировки рекламного бюджета, коммерческий департамент хочет понять, какой тариф приносит больше денег.\n",
    "\n",
    "**Цель исследования** — провести анализ данных 500 пользователей, проанализаровать их поведение, сделать вывод - ***какой тариф лучше*** и проверить гипотезы:\n",
    "1. Средняя выручка пользователей тарифов \"Ультра\" и \"Смарт\" различаются\n",
    "2. Средняя выручка пользователей из Москвы отличается от выручки пользователей из других регионов\n",
    "\n",
    "***Примечание по оператору сотовой связи:***\n",
    "- округляет секунды до минут,\n",
    "- окуругляет мегабайты до гигабайт,\n",
    "- каждый звонок округляется отдельно,\n",
    "- для веб-трафика отдельные сессии не считаются, общая сумма за месяц округляется в большую сторону.\n",
    "\n",
    "**План работы:**\n",
    "1. Изучение файлов с данными\n",
    "2. Предобработка данных\n",
    "    - проверка на аномалии и исправления\n",
    "    - замена типов данных\n",
    "    - объединение данных\n",
    "3. Анализ данных\n",
    "4. Проверка гипотез"
   ]
  },
  {
   "cell_type": "markdown",
   "id": "b23a0fea",
   "metadata": {},
   "source": [
    "## Изучение данных из файлов"
   ]
  },
  {
   "cell_type": "markdown",
   "id": "580d4c77",
   "metadata": {},
   "source": [
    "Подгружаем библиотеки, которые будем использовать в данном исследовании:"
   ]
  },
  {
   "cell_type": "code",
   "execution_count": 1,
   "id": "176480a3",
   "metadata": {},
   "outputs": [],
   "source": [
    "import os\n",
    "import pandas as pd\n",
    "import numpy as np\n",
    "import matplotlib.pyplot as plt\n",
    "import seaborn as sns\n",
    "import math\n",
    "from scipy import stats as st"
   ]
  },
  {
   "cell_type": "markdown",
   "id": "7d2690ca",
   "metadata": {},
   "source": [
    "Снимем ограничение отображения колонок:"
   ]
  },
  {
   "cell_type": "code",
   "execution_count": 2,
   "id": "12c004c3",
   "metadata": {},
   "outputs": [],
   "source": [
    "pd.set_option('display.max_columns', None)"
   ]
  },
  {
   "cell_type": "markdown",
   "id": "95832265",
   "metadata": {},
   "source": [
    "Нам предоставлены 5 DataSet-ов с разными данными по 500 пользователям. Изучим полученные данные в каждом из этих файлов. Сохраним их в одноименные переменные:"
   ]
  },
  {
   "cell_type": "code",
   "execution_count": 3,
   "id": "96dd47a8",
   "metadata": {},
   "outputs": [],
   "source": [
    "import os\n",
    "\n",
    "pth1 = 'datasets/calls.csv'\n",
    "pth2 = '/datasets/calls.csv'\n",
    "\n",
    "if os.path.exists(pth1):\n",
    "    df_calls = pd.read_csv(pth1)\n",
    "elif os.path.exists(pth2):\n",
    "    df_calls = pd.read_csv(pth2)\n",
    "else:\n",
    "    print('Something is wrong')\n",
    "    \n",
    "pth1 = 'datasets/internet.csv'\n",
    "pth2 = '/datasets/internet.csv'\n",
    "\n",
    "if os.path.exists(pth1):\n",
    "    df_internet = pd.read_csv(pth1)\n",
    "elif os.path.exists(pth2):\n",
    "    df_internet = pd.read_csv(pth2)\n",
    "else:\n",
    "    print('Something is wrong')\n",
    "    \n",
    "pth1 = 'datasets/messages.csv'\n",
    "pth2 = '/datasets/messages.csv'\n",
    "\n",
    "if os.path.exists(pth1):\n",
    "    df_messages = pd.read_csv(pth1)\n",
    "elif os.path.exists(pth2):\n",
    "    df_messages = pd.read_csv(pth2)\n",
    "else:\n",
    "    print('Something is wrong')\n",
    "    \n",
    "pth1 = 'datasets/tariffs.csv'\n",
    "pth2 = '/datasets/tariffs.csv'\n",
    "\n",
    "if os.path.exists(pth1):\n",
    "    df_tariffs = pd.read_csv(pth1)\n",
    "elif os.path.exists(pth2):\n",
    "    df_tariffs = pd.read_csv(pth2)\n",
    "else:\n",
    "    print('Something is wrong')\n",
    "    \n",
    "pth1 = 'datasets/users.csv'\n",
    "pth2 = '/datasets/users.csv'\n",
    "\n",
    "if os.path.exists(pth1):\n",
    "    df_users = pd.read_csv(pth1)\n",
    "elif os.path.exists(pth2):\n",
    "    df_users = pd.read_csv(pth2)\n",
    "else:\n",
    "    print('Something is wrong')"
   ]
  },
  {
   "cell_type": "markdown",
   "id": "7273bd59",
   "metadata": {},
   "source": [
    "Выведем основные данные по **Звонкам**:"
   ]
  },
  {
   "cell_type": "code",
   "execution_count": 4,
   "id": "408223d2",
   "metadata": {},
   "outputs": [
    {
     "data": {
      "text/html": [
       "<div>\n",
       "<style scoped>\n",
       "    .dataframe tbody tr th:only-of-type {\n",
       "        vertical-align: middle;\n",
       "    }\n",
       "\n",
       "    .dataframe tbody tr th {\n",
       "        vertical-align: top;\n",
       "    }\n",
       "\n",
       "    .dataframe thead th {\n",
       "        text-align: right;\n",
       "    }\n",
       "</style>\n",
       "<table border=\"1\" class=\"dataframe\">\n",
       "  <thead>\n",
       "    <tr style=\"text-align: right;\">\n",
       "      <th></th>\n",
       "      <th>id</th>\n",
       "      <th>call_date</th>\n",
       "      <th>duration</th>\n",
       "      <th>user_id</th>\n",
       "    </tr>\n",
       "  </thead>\n",
       "  <tbody>\n",
       "    <tr>\n",
       "      <td>0</td>\n",
       "      <td>1000_0</td>\n",
       "      <td>2018-07-25</td>\n",
       "      <td>0.00</td>\n",
       "      <td>1000</td>\n",
       "    </tr>\n",
       "    <tr>\n",
       "      <td>1</td>\n",
       "      <td>1000_1</td>\n",
       "      <td>2018-08-17</td>\n",
       "      <td>0.00</td>\n",
       "      <td>1000</td>\n",
       "    </tr>\n",
       "    <tr>\n",
       "      <td>2</td>\n",
       "      <td>1000_2</td>\n",
       "      <td>2018-06-11</td>\n",
       "      <td>2.85</td>\n",
       "      <td>1000</td>\n",
       "    </tr>\n",
       "    <tr>\n",
       "      <td>3</td>\n",
       "      <td>1000_3</td>\n",
       "      <td>2018-09-21</td>\n",
       "      <td>13.80</td>\n",
       "      <td>1000</td>\n",
       "    </tr>\n",
       "    <tr>\n",
       "      <td>4</td>\n",
       "      <td>1000_4</td>\n",
       "      <td>2018-12-15</td>\n",
       "      <td>5.18</td>\n",
       "      <td>1000</td>\n",
       "    </tr>\n",
       "  </tbody>\n",
       "</table>\n",
       "</div>"
      ],
      "text/plain": [
       "       id   call_date  duration  user_id\n",
       "0  1000_0  2018-07-25      0.00     1000\n",
       "1  1000_1  2018-08-17      0.00     1000\n",
       "2  1000_2  2018-06-11      2.85     1000\n",
       "3  1000_3  2018-09-21     13.80     1000\n",
       "4  1000_4  2018-12-15      5.18     1000"
      ]
     },
     "execution_count": 4,
     "metadata": {},
     "output_type": "execute_result"
    }
   ],
   "source": [
    "df_calls.head()"
   ]
  },
  {
   "cell_type": "code",
   "execution_count": 5,
   "id": "b00de95f",
   "metadata": {
    "scrolled": true
   },
   "outputs": [
    {
     "name": "stdout",
     "output_type": "stream",
     "text": [
      "<class 'pandas.core.frame.DataFrame'>\n",
      "RangeIndex: 202607 entries, 0 to 202606\n",
      "Data columns (total 4 columns):\n",
      "id           202607 non-null object\n",
      "call_date    202607 non-null object\n",
      "duration     202607 non-null float64\n",
      "user_id      202607 non-null int64\n",
      "dtypes: float64(1), int64(1), object(2)\n",
      "memory usage: 6.2+ MB\n"
     ]
    }
   ],
   "source": [
    "df_calls.info()"
   ]
  },
  {
   "cell_type": "code",
   "execution_count": 6,
   "id": "dd59a7a2",
   "metadata": {},
   "outputs": [
    {
     "data": {
      "text/html": [
       "<div>\n",
       "<style scoped>\n",
       "    .dataframe tbody tr th:only-of-type {\n",
       "        vertical-align: middle;\n",
       "    }\n",
       "\n",
       "    .dataframe tbody tr th {\n",
       "        vertical-align: top;\n",
       "    }\n",
       "\n",
       "    .dataframe thead th {\n",
       "        text-align: right;\n",
       "    }\n",
       "</style>\n",
       "<table border=\"1\" class=\"dataframe\">\n",
       "  <thead>\n",
       "    <tr style=\"text-align: right;\">\n",
       "      <th></th>\n",
       "      <th>duration</th>\n",
       "      <th>user_id</th>\n",
       "    </tr>\n",
       "  </thead>\n",
       "  <tbody>\n",
       "    <tr>\n",
       "      <td>count</td>\n",
       "      <td>202607.000000</td>\n",
       "      <td>202607.000000</td>\n",
       "    </tr>\n",
       "    <tr>\n",
       "      <td>mean</td>\n",
       "      <td>6.755887</td>\n",
       "      <td>1253.940619</td>\n",
       "    </tr>\n",
       "    <tr>\n",
       "      <td>std</td>\n",
       "      <td>5.843365</td>\n",
       "      <td>144.722751</td>\n",
       "    </tr>\n",
       "    <tr>\n",
       "      <td>min</td>\n",
       "      <td>0.000000</td>\n",
       "      <td>1000.000000</td>\n",
       "    </tr>\n",
       "    <tr>\n",
       "      <td>25%</td>\n",
       "      <td>1.300000</td>\n",
       "      <td>1126.000000</td>\n",
       "    </tr>\n",
       "    <tr>\n",
       "      <td>50%</td>\n",
       "      <td>6.000000</td>\n",
       "      <td>1260.000000</td>\n",
       "    </tr>\n",
       "    <tr>\n",
       "      <td>75%</td>\n",
       "      <td>10.700000</td>\n",
       "      <td>1379.000000</td>\n",
       "    </tr>\n",
       "    <tr>\n",
       "      <td>max</td>\n",
       "      <td>38.000000</td>\n",
       "      <td>1499.000000</td>\n",
       "    </tr>\n",
       "  </tbody>\n",
       "</table>\n",
       "</div>"
      ],
      "text/plain": [
       "            duration        user_id\n",
       "count  202607.000000  202607.000000\n",
       "mean        6.755887    1253.940619\n",
       "std         5.843365     144.722751\n",
       "min         0.000000    1000.000000\n",
       "25%         1.300000    1126.000000\n",
       "50%         6.000000    1260.000000\n",
       "75%        10.700000    1379.000000\n",
       "max        38.000000    1499.000000"
      ]
     },
     "execution_count": 6,
     "metadata": {},
     "output_type": "execute_result"
    }
   ],
   "source": [
    "df_calls.describe()"
   ]
  },
  {
   "cell_type": "markdown",
   "id": "d7033909",
   "metadata": {},
   "source": [
    "В таблице `df_calls` содержится информация о ***звонках***. Согласно документации, в таблице следующие столбцы:\n",
    "- `id` - уникальный номер звонка\n",
    "- `call_date` - дата звонка\n",
    "- `duration` - длительность звонка в минутах\n",
    "- `user_id` - идентификатор пользователя, сделавшего звонок\n",
    "\n",
    "По первичным данным видим следующие особенности:\n",
    "1. Наблюдения, требуемые редактуры:\n",
    "- столбец с датой имеет формат не отвечающий внутреннему содержанию\n",
    "- данные о длительности звонка указаны в вещественном типе, по условиям задач необходимо привести к целочисленному значению с округлением в большую сторону\n",
    "2. Общие наблюдения:\n",
    "- пропущенных данных нет\n",
    "- количество пользователей по графе `user_id` - 500\n",
    "- медиана(6 минут) ниже чем среднее значение (6,75 минут) - из-за выбросов по звонкам большего по времени разговора\n"
   ]
  },
  {
   "cell_type": "markdown",
   "id": "29a37e34",
   "metadata": {},
   "source": [
    "Основные данные по пользованию **Интернет**:"
   ]
  },
  {
   "cell_type": "code",
   "execution_count": 7,
   "id": "dd2ffa42",
   "metadata": {},
   "outputs": [
    {
     "data": {
      "text/html": [
       "<div>\n",
       "<style scoped>\n",
       "    .dataframe tbody tr th:only-of-type {\n",
       "        vertical-align: middle;\n",
       "    }\n",
       "\n",
       "    .dataframe tbody tr th {\n",
       "        vertical-align: top;\n",
       "    }\n",
       "\n",
       "    .dataframe thead th {\n",
       "        text-align: right;\n",
       "    }\n",
       "</style>\n",
       "<table border=\"1\" class=\"dataframe\">\n",
       "  <thead>\n",
       "    <tr style=\"text-align: right;\">\n",
       "      <th></th>\n",
       "      <th>Unnamed: 0</th>\n",
       "      <th>id</th>\n",
       "      <th>mb_used</th>\n",
       "      <th>session_date</th>\n",
       "      <th>user_id</th>\n",
       "    </tr>\n",
       "  </thead>\n",
       "  <tbody>\n",
       "    <tr>\n",
       "      <td>0</td>\n",
       "      <td>0</td>\n",
       "      <td>1000_0</td>\n",
       "      <td>112.95</td>\n",
       "      <td>2018-11-25</td>\n",
       "      <td>1000</td>\n",
       "    </tr>\n",
       "    <tr>\n",
       "      <td>1</td>\n",
       "      <td>1</td>\n",
       "      <td>1000_1</td>\n",
       "      <td>1052.81</td>\n",
       "      <td>2018-09-07</td>\n",
       "      <td>1000</td>\n",
       "    </tr>\n",
       "    <tr>\n",
       "      <td>2</td>\n",
       "      <td>2</td>\n",
       "      <td>1000_2</td>\n",
       "      <td>1197.26</td>\n",
       "      <td>2018-06-25</td>\n",
       "      <td>1000</td>\n",
       "    </tr>\n",
       "    <tr>\n",
       "      <td>3</td>\n",
       "      <td>3</td>\n",
       "      <td>1000_3</td>\n",
       "      <td>550.27</td>\n",
       "      <td>2018-08-22</td>\n",
       "      <td>1000</td>\n",
       "    </tr>\n",
       "    <tr>\n",
       "      <td>4</td>\n",
       "      <td>4</td>\n",
       "      <td>1000_4</td>\n",
       "      <td>302.56</td>\n",
       "      <td>2018-09-24</td>\n",
       "      <td>1000</td>\n",
       "    </tr>\n",
       "  </tbody>\n",
       "</table>\n",
       "</div>"
      ],
      "text/plain": [
       "   Unnamed: 0      id  mb_used session_date  user_id\n",
       "0           0  1000_0   112.95   2018-11-25     1000\n",
       "1           1  1000_1  1052.81   2018-09-07     1000\n",
       "2           2  1000_2  1197.26   2018-06-25     1000\n",
       "3           3  1000_3   550.27   2018-08-22     1000\n",
       "4           4  1000_4   302.56   2018-09-24     1000"
      ]
     },
     "execution_count": 7,
     "metadata": {},
     "output_type": "execute_result"
    }
   ],
   "source": [
    "df_internet.head()"
   ]
  },
  {
   "cell_type": "code",
   "execution_count": 8,
   "id": "a11938fe",
   "metadata": {},
   "outputs": [
    {
     "name": "stdout",
     "output_type": "stream",
     "text": [
      "<class 'pandas.core.frame.DataFrame'>\n",
      "RangeIndex: 149396 entries, 0 to 149395\n",
      "Data columns (total 5 columns):\n",
      "Unnamed: 0      149396 non-null int64\n",
      "id              149396 non-null object\n",
      "mb_used         149396 non-null float64\n",
      "session_date    149396 non-null object\n",
      "user_id         149396 non-null int64\n",
      "dtypes: float64(1), int64(2), object(2)\n",
      "memory usage: 5.7+ MB\n"
     ]
    }
   ],
   "source": [
    "df_internet.info()"
   ]
  },
  {
   "cell_type": "code",
   "execution_count": 9,
   "id": "205fa3a2",
   "metadata": {},
   "outputs": [
    {
     "data": {
      "text/html": [
       "<div>\n",
       "<style scoped>\n",
       "    .dataframe tbody tr th:only-of-type {\n",
       "        vertical-align: middle;\n",
       "    }\n",
       "\n",
       "    .dataframe tbody tr th {\n",
       "        vertical-align: top;\n",
       "    }\n",
       "\n",
       "    .dataframe thead th {\n",
       "        text-align: right;\n",
       "    }\n",
       "</style>\n",
       "<table border=\"1\" class=\"dataframe\">\n",
       "  <thead>\n",
       "    <tr style=\"text-align: right;\">\n",
       "      <th></th>\n",
       "      <th>Unnamed: 0</th>\n",
       "      <th>mb_used</th>\n",
       "      <th>user_id</th>\n",
       "    </tr>\n",
       "  </thead>\n",
       "  <tbody>\n",
       "    <tr>\n",
       "      <td>count</td>\n",
       "      <td>149396.000000</td>\n",
       "      <td>149396.000000</td>\n",
       "      <td>149396.000000</td>\n",
       "    </tr>\n",
       "    <tr>\n",
       "      <td>mean</td>\n",
       "      <td>74697.500000</td>\n",
       "      <td>370.192426</td>\n",
       "      <td>1252.099842</td>\n",
       "    </tr>\n",
       "    <tr>\n",
       "      <td>std</td>\n",
       "      <td>43127.054745</td>\n",
       "      <td>278.300951</td>\n",
       "      <td>144.050823</td>\n",
       "    </tr>\n",
       "    <tr>\n",
       "      <td>min</td>\n",
       "      <td>0.000000</td>\n",
       "      <td>0.000000</td>\n",
       "      <td>1000.000000</td>\n",
       "    </tr>\n",
       "    <tr>\n",
       "      <td>25%</td>\n",
       "      <td>37348.750000</td>\n",
       "      <td>138.187500</td>\n",
       "      <td>1130.000000</td>\n",
       "    </tr>\n",
       "    <tr>\n",
       "      <td>50%</td>\n",
       "      <td>74697.500000</td>\n",
       "      <td>348.015000</td>\n",
       "      <td>1251.000000</td>\n",
       "    </tr>\n",
       "    <tr>\n",
       "      <td>75%</td>\n",
       "      <td>112046.250000</td>\n",
       "      <td>559.552500</td>\n",
       "      <td>1380.000000</td>\n",
       "    </tr>\n",
       "    <tr>\n",
       "      <td>max</td>\n",
       "      <td>149395.000000</td>\n",
       "      <td>1724.830000</td>\n",
       "      <td>1499.000000</td>\n",
       "    </tr>\n",
       "  </tbody>\n",
       "</table>\n",
       "</div>"
      ],
      "text/plain": [
       "          Unnamed: 0        mb_used        user_id\n",
       "count  149396.000000  149396.000000  149396.000000\n",
       "mean    74697.500000     370.192426    1252.099842\n",
       "std     43127.054745     278.300951     144.050823\n",
       "min         0.000000       0.000000    1000.000000\n",
       "25%     37348.750000     138.187500    1130.000000\n",
       "50%     74697.500000     348.015000    1251.000000\n",
       "75%    112046.250000     559.552500    1380.000000\n",
       "max    149395.000000    1724.830000    1499.000000"
      ]
     },
     "execution_count": 9,
     "metadata": {},
     "output_type": "execute_result"
    }
   ],
   "source": [
    "df_internet.describe()"
   ]
  },
  {
   "cell_type": "markdown",
   "id": "72d83426",
   "metadata": {},
   "source": [
    "В таблице `df_internet` содержится информация об интернет-сессиях. Согласно документации, в таблице следующие столбцы:\n",
    "- `id` - уникальный номер сессии\n",
    "- `mb_used` - объем потраченного за сессию интернет-трафика (в мегабайтах)\n",
    "- `session_date` - дата интернет-сессии\n",
    "- `user_id` - идентификатор пользователя\n",
    "\n",
    "По первичным данным видим следующие особенности:\n",
    "1. Наблюдения, требуемые редактуры:\n",
    "- столбец с датой имеет формат не отвечающий внутреннему содержанию\n",
    "- столбец `Unnamed: 0` не имеет функционального значения и повторяет индексы\n",
    "- объем потраченного трафика указан в мегабайтах, для решения задач будут использованы гигабайты\n",
    "2. Общие наблюдения:\n",
    "- пропущенных данных нет\n",
    "- количество пользователей по графе `user_id` - 500\n",
    "- медиана пользования интернетом за одну сессию (около 350 Мб) чуть ниже чем, среднее значение (370 Мб) - из-за выбросов по сессиям в большую сторону"
   ]
  },
  {
   "cell_type": "markdown",
   "id": "9b0948b9",
   "metadata": {},
   "source": [
    "Основные данные по **Сообщениям**:"
   ]
  },
  {
   "cell_type": "code",
   "execution_count": 10,
   "id": "19d81f3d",
   "metadata": {},
   "outputs": [
    {
     "data": {
      "text/html": [
       "<div>\n",
       "<style scoped>\n",
       "    .dataframe tbody tr th:only-of-type {\n",
       "        vertical-align: middle;\n",
       "    }\n",
       "\n",
       "    .dataframe tbody tr th {\n",
       "        vertical-align: top;\n",
       "    }\n",
       "\n",
       "    .dataframe thead th {\n",
       "        text-align: right;\n",
       "    }\n",
       "</style>\n",
       "<table border=\"1\" class=\"dataframe\">\n",
       "  <thead>\n",
       "    <tr style=\"text-align: right;\">\n",
       "      <th></th>\n",
       "      <th>id</th>\n",
       "      <th>message_date</th>\n",
       "      <th>user_id</th>\n",
       "    </tr>\n",
       "  </thead>\n",
       "  <tbody>\n",
       "    <tr>\n",
       "      <td>0</td>\n",
       "      <td>1000_0</td>\n",
       "      <td>2018-06-27</td>\n",
       "      <td>1000</td>\n",
       "    </tr>\n",
       "    <tr>\n",
       "      <td>1</td>\n",
       "      <td>1000_1</td>\n",
       "      <td>2018-10-08</td>\n",
       "      <td>1000</td>\n",
       "    </tr>\n",
       "    <tr>\n",
       "      <td>2</td>\n",
       "      <td>1000_2</td>\n",
       "      <td>2018-08-04</td>\n",
       "      <td>1000</td>\n",
       "    </tr>\n",
       "    <tr>\n",
       "      <td>3</td>\n",
       "      <td>1000_3</td>\n",
       "      <td>2018-06-16</td>\n",
       "      <td>1000</td>\n",
       "    </tr>\n",
       "    <tr>\n",
       "      <td>4</td>\n",
       "      <td>1000_4</td>\n",
       "      <td>2018-12-05</td>\n",
       "      <td>1000</td>\n",
       "    </tr>\n",
       "  </tbody>\n",
       "</table>\n",
       "</div>"
      ],
      "text/plain": [
       "       id message_date  user_id\n",
       "0  1000_0   2018-06-27     1000\n",
       "1  1000_1   2018-10-08     1000\n",
       "2  1000_2   2018-08-04     1000\n",
       "3  1000_3   2018-06-16     1000\n",
       "4  1000_4   2018-12-05     1000"
      ]
     },
     "execution_count": 10,
     "metadata": {},
     "output_type": "execute_result"
    }
   ],
   "source": [
    "df_messages.head()"
   ]
  },
  {
   "cell_type": "code",
   "execution_count": 11,
   "id": "b7872776",
   "metadata": {
    "scrolled": true
   },
   "outputs": [
    {
     "name": "stdout",
     "output_type": "stream",
     "text": [
      "<class 'pandas.core.frame.DataFrame'>\n",
      "RangeIndex: 123036 entries, 0 to 123035\n",
      "Data columns (total 3 columns):\n",
      "id              123036 non-null object\n",
      "message_date    123036 non-null object\n",
      "user_id         123036 non-null int64\n",
      "dtypes: int64(1), object(2)\n",
      "memory usage: 2.8+ MB\n"
     ]
    }
   ],
   "source": [
    "df_messages.info()"
   ]
  },
  {
   "cell_type": "code",
   "execution_count": 12,
   "id": "d495ef8b",
   "metadata": {},
   "outputs": [
    {
     "data": {
      "text/html": [
       "<div>\n",
       "<style scoped>\n",
       "    .dataframe tbody tr th:only-of-type {\n",
       "        vertical-align: middle;\n",
       "    }\n",
       "\n",
       "    .dataframe tbody tr th {\n",
       "        vertical-align: top;\n",
       "    }\n",
       "\n",
       "    .dataframe thead th {\n",
       "        text-align: right;\n",
       "    }\n",
       "</style>\n",
       "<table border=\"1\" class=\"dataframe\">\n",
       "  <thead>\n",
       "    <tr style=\"text-align: right;\">\n",
       "      <th></th>\n",
       "      <th>user_id</th>\n",
       "    </tr>\n",
       "  </thead>\n",
       "  <tbody>\n",
       "    <tr>\n",
       "      <td>count</td>\n",
       "      <td>123036.000000</td>\n",
       "    </tr>\n",
       "    <tr>\n",
       "      <td>mean</td>\n",
       "      <td>1256.989410</td>\n",
       "    </tr>\n",
       "    <tr>\n",
       "      <td>std</td>\n",
       "      <td>143.523967</td>\n",
       "    </tr>\n",
       "    <tr>\n",
       "      <td>min</td>\n",
       "      <td>1000.000000</td>\n",
       "    </tr>\n",
       "    <tr>\n",
       "      <td>25%</td>\n",
       "      <td>1134.000000</td>\n",
       "    </tr>\n",
       "    <tr>\n",
       "      <td>50%</td>\n",
       "      <td>1271.000000</td>\n",
       "    </tr>\n",
       "    <tr>\n",
       "      <td>75%</td>\n",
       "      <td>1381.000000</td>\n",
       "    </tr>\n",
       "    <tr>\n",
       "      <td>max</td>\n",
       "      <td>1499.000000</td>\n",
       "    </tr>\n",
       "  </tbody>\n",
       "</table>\n",
       "</div>"
      ],
      "text/plain": [
       "             user_id\n",
       "count  123036.000000\n",
       "mean     1256.989410\n",
       "std       143.523967\n",
       "min      1000.000000\n",
       "25%      1134.000000\n",
       "50%      1271.000000\n",
       "75%      1381.000000\n",
       "max      1499.000000"
      ]
     },
     "execution_count": 12,
     "metadata": {},
     "output_type": "execute_result"
    }
   ],
   "source": [
    "df_messages.describe()"
   ]
  },
  {
   "cell_type": "markdown",
   "id": "c0fee92e",
   "metadata": {},
   "source": [
    "В таблице `df_messages` содержится информация о сообщениях. Согласно документации, в таблице следующие столбцы:\n",
    "- `id` - уникальный номер сообщения\n",
    "- `message_date` - дата сообщения\n",
    "- `user_id` - идентификатор пользователя, отправившего сообщение\n",
    "\n",
    "По первичным данным видим следующие особенности:\n",
    "1. Наблюдения, требуемые редактуры:\n",
    "- столбец с датой имеет формат не отвечающий внутреннему содержанию\n",
    "- количество сообщений не указано\n",
    "2. Общие наблюдения:\n",
    "- пропущенных данных нет\n",
    "- количество пользователей по графе `user_id` - 500"
   ]
  },
  {
   "cell_type": "markdown",
   "id": "eb08b3a8",
   "metadata": {},
   "source": [
    "Основные данные по **Тарифам**:"
   ]
  },
  {
   "cell_type": "code",
   "execution_count": 13,
   "id": "4588a054",
   "metadata": {},
   "outputs": [
    {
     "data": {
      "text/html": [
       "<div>\n",
       "<style scoped>\n",
       "    .dataframe tbody tr th:only-of-type {\n",
       "        vertical-align: middle;\n",
       "    }\n",
       "\n",
       "    .dataframe tbody tr th {\n",
       "        vertical-align: top;\n",
       "    }\n",
       "\n",
       "    .dataframe thead th {\n",
       "        text-align: right;\n",
       "    }\n",
       "</style>\n",
       "<table border=\"1\" class=\"dataframe\">\n",
       "  <thead>\n",
       "    <tr style=\"text-align: right;\">\n",
       "      <th></th>\n",
       "      <th>messages_included</th>\n",
       "      <th>mb_per_month_included</th>\n",
       "      <th>minutes_included</th>\n",
       "      <th>rub_monthly_fee</th>\n",
       "      <th>rub_per_gb</th>\n",
       "      <th>rub_per_message</th>\n",
       "      <th>rub_per_minute</th>\n",
       "      <th>tariff_name</th>\n",
       "    </tr>\n",
       "  </thead>\n",
       "  <tbody>\n",
       "    <tr>\n",
       "      <td>0</td>\n",
       "      <td>50</td>\n",
       "      <td>15360</td>\n",
       "      <td>500</td>\n",
       "      <td>550</td>\n",
       "      <td>200</td>\n",
       "      <td>3</td>\n",
       "      <td>3</td>\n",
       "      <td>smart</td>\n",
       "    </tr>\n",
       "    <tr>\n",
       "      <td>1</td>\n",
       "      <td>1000</td>\n",
       "      <td>30720</td>\n",
       "      <td>3000</td>\n",
       "      <td>1950</td>\n",
       "      <td>150</td>\n",
       "      <td>1</td>\n",
       "      <td>1</td>\n",
       "      <td>ultra</td>\n",
       "    </tr>\n",
       "  </tbody>\n",
       "</table>\n",
       "</div>"
      ],
      "text/plain": [
       "   messages_included  mb_per_month_included  minutes_included  \\\n",
       "0                 50                  15360               500   \n",
       "1               1000                  30720              3000   \n",
       "\n",
       "   rub_monthly_fee  rub_per_gb  rub_per_message  rub_per_minute tariff_name  \n",
       "0              550         200                3               3       smart  \n",
       "1             1950         150                1               1       ultra  "
      ]
     },
     "execution_count": 13,
     "metadata": {},
     "output_type": "execute_result"
    }
   ],
   "source": [
    "df_tariffs.head()"
   ]
  },
  {
   "cell_type": "code",
   "execution_count": 14,
   "id": "adce66ea",
   "metadata": {},
   "outputs": [
    {
     "name": "stdout",
     "output_type": "stream",
     "text": [
      "<class 'pandas.core.frame.DataFrame'>\n",
      "RangeIndex: 2 entries, 0 to 1\n",
      "Data columns (total 8 columns):\n",
      "messages_included        2 non-null int64\n",
      "mb_per_month_included    2 non-null int64\n",
      "minutes_included         2 non-null int64\n",
      "rub_monthly_fee          2 non-null int64\n",
      "rub_per_gb               2 non-null int64\n",
      "rub_per_message          2 non-null int64\n",
      "rub_per_minute           2 non-null int64\n",
      "tariff_name              2 non-null object\n",
      "dtypes: int64(7), object(1)\n",
      "memory usage: 256.0+ bytes\n"
     ]
    }
   ],
   "source": [
    "df_tariffs.info()"
   ]
  },
  {
   "cell_type": "markdown",
   "id": "4ff332e5",
   "metadata": {},
   "source": [
    "В таблице `df_tariffs` содержится информация о тарифах. Согласно документации, в таблице следующие столбцы:\n",
    "- `tariff_name` - название тарифа\n",
    "- `rub_monthly_fee` - ежемесячная абонентская плата в рублях\n",
    "- `minutes_included` - количество минут разговорав месяц, включенных в абонентскую плату\n",
    "- `messages_included` - количество сообщений месяц, включенных в абонентскую плату\n",
    "- `mb_per_month_included` - объем интернет-трафика, включенных в абонентскую плату (в мегабайтах)\n",
    "- `rub_per_minute` - стоимость минуты разговора сверх тарифного пакета\n",
    "- `rub_per_message` - стоимость отправки сообщения сверх тарифного пакета\n",
    "- `rub_per_gb`- стоимость дополнительного гигабайта интернет-трафика сверх тарифного пакета (1 гигабайт = 1024 мегабайта)\n",
    "\n",
    "По первичным данным видим следующие особенности:\n",
    "1. Общие наблюдения:\n",
    "- пропущенных данных нет\n",
    "- описание каждой колонки соответствует стандартыми значениями для проведения исследования"
   ]
  },
  {
   "cell_type": "markdown",
   "id": "d247c7f0",
   "metadata": {},
   "source": [
    "Основные данные по **Пользователям**:"
   ]
  },
  {
   "cell_type": "code",
   "execution_count": 15,
   "id": "ed6a0b6c",
   "metadata": {},
   "outputs": [
    {
     "data": {
      "text/html": [
       "<div>\n",
       "<style scoped>\n",
       "    .dataframe tbody tr th:only-of-type {\n",
       "        vertical-align: middle;\n",
       "    }\n",
       "\n",
       "    .dataframe tbody tr th {\n",
       "        vertical-align: top;\n",
       "    }\n",
       "\n",
       "    .dataframe thead th {\n",
       "        text-align: right;\n",
       "    }\n",
       "</style>\n",
       "<table border=\"1\" class=\"dataframe\">\n",
       "  <thead>\n",
       "    <tr style=\"text-align: right;\">\n",
       "      <th></th>\n",
       "      <th>user_id</th>\n",
       "      <th>age</th>\n",
       "      <th>churn_date</th>\n",
       "      <th>city</th>\n",
       "      <th>first_name</th>\n",
       "      <th>last_name</th>\n",
       "      <th>reg_date</th>\n",
       "      <th>tariff</th>\n",
       "    </tr>\n",
       "  </thead>\n",
       "  <tbody>\n",
       "    <tr>\n",
       "      <td>0</td>\n",
       "      <td>1000</td>\n",
       "      <td>52</td>\n",
       "      <td>NaN</td>\n",
       "      <td>Краснодар</td>\n",
       "      <td>Рафаил</td>\n",
       "      <td>Верещагин</td>\n",
       "      <td>2018-05-25</td>\n",
       "      <td>ultra</td>\n",
       "    </tr>\n",
       "    <tr>\n",
       "      <td>1</td>\n",
       "      <td>1001</td>\n",
       "      <td>41</td>\n",
       "      <td>NaN</td>\n",
       "      <td>Москва</td>\n",
       "      <td>Иван</td>\n",
       "      <td>Ежов</td>\n",
       "      <td>2018-11-01</td>\n",
       "      <td>smart</td>\n",
       "    </tr>\n",
       "    <tr>\n",
       "      <td>2</td>\n",
       "      <td>1002</td>\n",
       "      <td>59</td>\n",
       "      <td>NaN</td>\n",
       "      <td>Стерлитамак</td>\n",
       "      <td>Евгений</td>\n",
       "      <td>Абрамович</td>\n",
       "      <td>2018-06-17</td>\n",
       "      <td>smart</td>\n",
       "    </tr>\n",
       "    <tr>\n",
       "      <td>3</td>\n",
       "      <td>1003</td>\n",
       "      <td>23</td>\n",
       "      <td>NaN</td>\n",
       "      <td>Москва</td>\n",
       "      <td>Белла</td>\n",
       "      <td>Белякова</td>\n",
       "      <td>2018-08-17</td>\n",
       "      <td>ultra</td>\n",
       "    </tr>\n",
       "    <tr>\n",
       "      <td>4</td>\n",
       "      <td>1004</td>\n",
       "      <td>68</td>\n",
       "      <td>NaN</td>\n",
       "      <td>Новокузнецк</td>\n",
       "      <td>Татьяна</td>\n",
       "      <td>Авдеенко</td>\n",
       "      <td>2018-05-14</td>\n",
       "      <td>ultra</td>\n",
       "    </tr>\n",
       "  </tbody>\n",
       "</table>\n",
       "</div>"
      ],
      "text/plain": [
       "   user_id  age churn_date         city first_name  last_name    reg_date  \\\n",
       "0     1000   52        NaN    Краснодар     Рафаил  Верещагин  2018-05-25   \n",
       "1     1001   41        NaN       Москва       Иван       Ежов  2018-11-01   \n",
       "2     1002   59        NaN  Стерлитамак    Евгений  Абрамович  2018-06-17   \n",
       "3     1003   23        NaN       Москва      Белла   Белякова  2018-08-17   \n",
       "4     1004   68        NaN  Новокузнецк    Татьяна   Авдеенко  2018-05-14   \n",
       "\n",
       "  tariff  \n",
       "0  ultra  \n",
       "1  smart  \n",
       "2  smart  \n",
       "3  ultra  \n",
       "4  ultra  "
      ]
     },
     "execution_count": 15,
     "metadata": {},
     "output_type": "execute_result"
    }
   ],
   "source": [
    "df_users.head()"
   ]
  },
  {
   "cell_type": "code",
   "execution_count": 16,
   "id": "37072469",
   "metadata": {},
   "outputs": [
    {
     "name": "stdout",
     "output_type": "stream",
     "text": [
      "<class 'pandas.core.frame.DataFrame'>\n",
      "RangeIndex: 500 entries, 0 to 499\n",
      "Data columns (total 8 columns):\n",
      "user_id       500 non-null int64\n",
      "age           500 non-null int64\n",
      "churn_date    38 non-null object\n",
      "city          500 non-null object\n",
      "first_name    500 non-null object\n",
      "last_name     500 non-null object\n",
      "reg_date      500 non-null object\n",
      "tariff        500 non-null object\n",
      "dtypes: int64(2), object(6)\n",
      "memory usage: 31.4+ KB\n"
     ]
    }
   ],
   "source": [
    "df_users.info()"
   ]
  },
  {
   "cell_type": "code",
   "execution_count": 17,
   "id": "a14c9373",
   "metadata": {},
   "outputs": [
    {
     "data": {
      "text/html": [
       "<div>\n",
       "<style scoped>\n",
       "    .dataframe tbody tr th:only-of-type {\n",
       "        vertical-align: middle;\n",
       "    }\n",
       "\n",
       "    .dataframe tbody tr th {\n",
       "        vertical-align: top;\n",
       "    }\n",
       "\n",
       "    .dataframe thead th {\n",
       "        text-align: right;\n",
       "    }\n",
       "</style>\n",
       "<table border=\"1\" class=\"dataframe\">\n",
       "  <thead>\n",
       "    <tr style=\"text-align: right;\">\n",
       "      <th></th>\n",
       "      <th>user_id</th>\n",
       "      <th>age</th>\n",
       "    </tr>\n",
       "  </thead>\n",
       "  <tbody>\n",
       "    <tr>\n",
       "      <td>count</td>\n",
       "      <td>500.000000</td>\n",
       "      <td>500.00000</td>\n",
       "    </tr>\n",
       "    <tr>\n",
       "      <td>mean</td>\n",
       "      <td>1249.500000</td>\n",
       "      <td>46.58800</td>\n",
       "    </tr>\n",
       "    <tr>\n",
       "      <td>std</td>\n",
       "      <td>144.481833</td>\n",
       "      <td>16.66763</td>\n",
       "    </tr>\n",
       "    <tr>\n",
       "      <td>min</td>\n",
       "      <td>1000.000000</td>\n",
       "      <td>18.00000</td>\n",
       "    </tr>\n",
       "    <tr>\n",
       "      <td>25%</td>\n",
       "      <td>1124.750000</td>\n",
       "      <td>32.00000</td>\n",
       "    </tr>\n",
       "    <tr>\n",
       "      <td>50%</td>\n",
       "      <td>1249.500000</td>\n",
       "      <td>46.00000</td>\n",
       "    </tr>\n",
       "    <tr>\n",
       "      <td>75%</td>\n",
       "      <td>1374.250000</td>\n",
       "      <td>62.00000</td>\n",
       "    </tr>\n",
       "    <tr>\n",
       "      <td>max</td>\n",
       "      <td>1499.000000</td>\n",
       "      <td>75.00000</td>\n",
       "    </tr>\n",
       "  </tbody>\n",
       "</table>\n",
       "</div>"
      ],
      "text/plain": [
       "           user_id        age\n",
       "count   500.000000  500.00000\n",
       "mean   1249.500000   46.58800\n",
       "std     144.481833   16.66763\n",
       "min    1000.000000   18.00000\n",
       "25%    1124.750000   32.00000\n",
       "50%    1249.500000   46.00000\n",
       "75%    1374.250000   62.00000\n",
       "max    1499.000000   75.00000"
      ]
     },
     "execution_count": 17,
     "metadata": {},
     "output_type": "execute_result"
    }
   ],
   "source": [
    "df_users.describe()"
   ]
  },
  {
   "cell_type": "markdown",
   "id": "d580448a",
   "metadata": {},
   "source": [
    "В таблице `df_users` содержится информация о пользователях. Согласно документации, в таблице следующие столбцы:\n",
    "- `user_id` - уникальный идентификатор пользователя\n",
    "- `first_name` - имя пользователя\n",
    "- `last_name` - фамилия пользователя\n",
    "- `age` - возраст пользователя\n",
    "- `reg_date` - дата подключения тарифа (день, месяц, год)\n",
    "- `chern_date` - дата прекаращения пользования тарифом (пропущенные значения - тариф действовал на момент выгрузки данных)\n",
    "- `city` - город проживания пользователя\n",
    "- `tariff`- название тарифного плана\n",
    "\n",
    "По первичным данным видим следующие особенности:\n",
    "1. Наблюдения, требуемые редактуры:\n",
    "- столбцы с датой имеют формат не отвечающий внутреннему содержанию\n",
    "- пустые данные в графе даты прекращения пользования тарифом\n",
    "2. Общие наблюдения:\n",
    "- количество пользователей по графе `user_id` - 500\n",
    "- средний возраст пользователей мобильной сетью из представленной выборки 46 лет с близким по значениям распределением в обе стороны от среднего\n",
    "- самый молодой пользователь - 18 лет, самый возрастной - 75 лет"
   ]
  },
  {
   "cell_type": "markdown",
   "id": "67f8bdb9",
   "metadata": {},
   "source": [
    "### Вывод по изученным данным"
   ]
  },
  {
   "cell_type": "markdown",
   "id": "a2438267",
   "metadata": {},
   "source": [
    "В каждой отдельной таблице указаны данные о тратах пользователей внутренними ресурсами тарифов \"Смарт\" и \"Ультра\": \n",
    "- данные о звонках\n",
    "- данные о пользовании интернет-трафика\n",
    "- дынные о сообщениях. \n",
    "\n",
    "В двух оставшихся таблицах представлены: \n",
    "- данные о тарифах, которыми пользуются клиенты \n",
    "- данные о клиентах.\n",
    "\n",
    "Последние две колонки будут выполнять вспомогательную функцию.\n",
    "\n",
    "Предварительно заключаем, что данных достаточно для проведения исследования и проверки гипотез. Для обработки данных требуется устранить обнаруженные на этапах обзора и обработки данных ошибки, пропуски и другие аномалии. \n",
    "\n",
    "Переходим к этапу **предобработки данных**."
   ]
  },
  {
   "cell_type": "markdown",
   "id": "3c53d556",
   "metadata": {},
   "source": [
    "## Предобработка данных"
   ]
  },
  {
   "cell_type": "markdown",
   "id": "76ca592f",
   "metadata": {},
   "source": [
    "### Проверка данных на аномалии и исправления"
   ]
  },
  {
   "cell_type": "markdown",
   "id": "fdc60b29",
   "metadata": {},
   "source": [
    "Проведем проверку по каждой из 4х таблиц где требуются изменения:"
   ]
  },
  {
   "cell_type": "markdown",
   "id": "3831e50a",
   "metadata": {},
   "source": [
    "**Звонки**"
   ]
  },
  {
   "cell_type": "markdown",
   "id": "6c2a7ad7",
   "metadata": {},
   "source": [
    "Избавимся от ненужных столбцов в датафрейме (идентификатор сессии в будущем нам не понадобится):"
   ]
  },
  {
   "cell_type": "code",
   "execution_count": 18,
   "id": "fe2d0754",
   "metadata": {},
   "outputs": [],
   "source": [
    "df_calls = df_calls[['user_id','call_date','duration']]"
   ]
  },
  {
   "cell_type": "markdown",
   "id": "5546ea8f",
   "metadata": {},
   "source": [
    "Изменим формат даты для группировки данных по месяцам:"
   ]
  },
  {
   "cell_type": "code",
   "execution_count": 19,
   "id": "60dc4c01",
   "metadata": {},
   "outputs": [],
   "source": [
    "df_calls['call_date'] = pd.to_datetime(\n",
    "    df_calls['call_date'], format='%Y-%m-%d')"
   ]
  },
  {
   "cell_type": "markdown",
   "id": "dd669227",
   "metadata": {},
   "source": [
    "Выясним начало периода и конец для определения временных рамок выборки данных:"
   ]
  },
  {
   "cell_type": "code",
   "execution_count": 20,
   "id": "0ca61185",
   "metadata": {},
   "outputs": [
    {
     "name": "stdout",
     "output_type": "stream",
     "text": [
      "2018-01-01 00:00:00 2018-12-31 00:00:00\n"
     ]
    },
    {
     "data": {
      "text/plain": [
       "Timedelta('364 days 00:00:00')"
      ]
     },
     "execution_count": 20,
     "metadata": {},
     "output_type": "execute_result"
    }
   ],
   "source": [
    "print(df_calls['call_date'].min(), \n",
    "      df_calls['call_date'].max())\n",
    "df_calls['call_date'].max() - df_calls['call_date'].min()"
   ]
  },
  {
   "cell_type": "markdown",
   "id": "e55e3944",
   "metadata": {},
   "source": [
    "Заключаем, что исследование проходило в течении 1 года."
   ]
  },
  {
   "cell_type": "markdown",
   "id": "1b073a53",
   "metadata": {},
   "source": [
    "Округляем данные по каждому вызову из колонки `duration` до целого числа с округлением в большую сторону по условиям тарифа:"
   ]
  },
  {
   "cell_type": "code",
   "execution_count": 21,
   "id": "173274fb",
   "metadata": {},
   "outputs": [],
   "source": [
    "df_calls['duration'] = np.ceil(df_calls['duration'])"
   ]
  },
  {
   "cell_type": "markdown",
   "id": "a0738de0",
   "metadata": {},
   "source": [
    "**Интернет**"
   ]
  },
  {
   "cell_type": "markdown",
   "id": "f69b99d8",
   "metadata": {},
   "source": [
    "Избавимся от ненужных столбцов в датафрейме (идентификатор сессии в будущем нам не понадобится):"
   ]
  },
  {
   "cell_type": "code",
   "execution_count": 22,
   "id": "15331717",
   "metadata": {},
   "outputs": [],
   "source": [
    "df_internet = df_internet[['mb_used','session_date','user_id']]"
   ]
  },
  {
   "cell_type": "markdown",
   "id": "0a8b193a",
   "metadata": {},
   "source": [
    "Изменим формат даты для группировки данных по месяцам:"
   ]
  },
  {
   "cell_type": "code",
   "execution_count": 23,
   "id": "63ef29dd",
   "metadata": {},
   "outputs": [],
   "source": [
    "df_internet['session_date'] = pd.to_datetime(\n",
    "    df_internet['session_date'], format='%Y-%m-%d')"
   ]
  },
  {
   "cell_type": "markdown",
   "id": "68b34da9",
   "metadata": {},
   "source": [
    "Переведем данные в столбце `mb_used` из Мб в Гб (разделим на 1024):"
   ]
  },
  {
   "cell_type": "code",
   "execution_count": 24,
   "id": "052c5228",
   "metadata": {},
   "outputs": [],
   "source": [
    "df_internet['mb_used'] = df_internet['mb_used']/1024"
   ]
  },
  {
   "cell_type": "markdown",
   "id": "b967fd7b",
   "metadata": {},
   "source": [
    "Изменим название исправленных значений использованного трафика в соответствии с изменениями:"
   ]
  },
  {
   "cell_type": "code",
   "execution_count": 25,
   "id": "2afcecfe",
   "metadata": {},
   "outputs": [],
   "source": [
    "df_internet.rename(\n",
    "    columns = {\n",
    "        'mb_used' : 'gb_used', \n",
    "        }, \n",
    "    inplace = True\n",
    ") "
   ]
  },
  {
   "cell_type": "markdown",
   "id": "6dfeb587",
   "metadata": {},
   "source": [
    "**Сообщения**"
   ]
  },
  {
   "cell_type": "markdown",
   "id": "f92ecbfb",
   "metadata": {},
   "source": [
    "Избавимся от ненужных столбцов в датафрейме (идентификатор сессии в будущем нам не понадобится):"
   ]
  },
  {
   "cell_type": "code",
   "execution_count": 26,
   "id": "16f583cb",
   "metadata": {},
   "outputs": [],
   "source": [
    "df_messages = df_messages[['message_date','user_id']]"
   ]
  },
  {
   "cell_type": "markdown",
   "id": "825ecf11",
   "metadata": {},
   "source": [
    "Изменим формат даты для группировки данных по месяцам:"
   ]
  },
  {
   "cell_type": "code",
   "execution_count": 27,
   "id": "7e6f6f8e",
   "metadata": {},
   "outputs": [],
   "source": [
    "df_messages['message_date'] = pd.to_datetime(\n",
    "    df_messages['message_date'], format='%Y-%m-%d')"
   ]
  },
  {
   "cell_type": "markdown",
   "id": "ca949889",
   "metadata": {},
   "source": [
    "**Тарифы**:"
   ]
  },
  {
   "cell_type": "markdown",
   "id": "c2dacbbb",
   "metadata": {},
   "source": [
    "Переведем данные в столбце `mb_used` из Мб в Гб (разделим на 1024):"
   ]
  },
  {
   "cell_type": "code",
   "execution_count": 28,
   "id": "ec4d751d",
   "metadata": {},
   "outputs": [
    {
     "data": {
      "text/html": [
       "<div>\n",
       "<style scoped>\n",
       "    .dataframe tbody tr th:only-of-type {\n",
       "        vertical-align: middle;\n",
       "    }\n",
       "\n",
       "    .dataframe tbody tr th {\n",
       "        vertical-align: top;\n",
       "    }\n",
       "\n",
       "    .dataframe thead th {\n",
       "        text-align: right;\n",
       "    }\n",
       "</style>\n",
       "<table border=\"1\" class=\"dataframe\">\n",
       "  <thead>\n",
       "    <tr style=\"text-align: right;\">\n",
       "      <th></th>\n",
       "      <th>messages_included</th>\n",
       "      <th>mb_per_month_included</th>\n",
       "      <th>minutes_included</th>\n",
       "      <th>rub_monthly_fee</th>\n",
       "      <th>rub_per_gb</th>\n",
       "      <th>rub_per_message</th>\n",
       "      <th>rub_per_minute</th>\n",
       "      <th>tariff_name</th>\n",
       "    </tr>\n",
       "  </thead>\n",
       "  <tbody>\n",
       "    <tr>\n",
       "      <td>0</td>\n",
       "      <td>50</td>\n",
       "      <td>15.0</td>\n",
       "      <td>500</td>\n",
       "      <td>550</td>\n",
       "      <td>200</td>\n",
       "      <td>3</td>\n",
       "      <td>3</td>\n",
       "      <td>smart</td>\n",
       "    </tr>\n",
       "    <tr>\n",
       "      <td>1</td>\n",
       "      <td>1000</td>\n",
       "      <td>30.0</td>\n",
       "      <td>3000</td>\n",
       "      <td>1950</td>\n",
       "      <td>150</td>\n",
       "      <td>1</td>\n",
       "      <td>1</td>\n",
       "      <td>ultra</td>\n",
       "    </tr>\n",
       "  </tbody>\n",
       "</table>\n",
       "</div>"
      ],
      "text/plain": [
       "   messages_included  mb_per_month_included  minutes_included  \\\n",
       "0                 50                   15.0               500   \n",
       "1               1000                   30.0              3000   \n",
       "\n",
       "   rub_monthly_fee  rub_per_gb  rub_per_message  rub_per_minute tariff_name  \n",
       "0              550         200                3               3       smart  \n",
       "1             1950         150                1               1       ultra  "
      ]
     },
     "execution_count": 28,
     "metadata": {},
     "output_type": "execute_result"
    }
   ],
   "source": [
    "df_tariffs['mb_per_month_included'] = df_tariffs[\n",
    "    'mb_per_month_included']/1024\n",
    "df_tariffs"
   ]
  },
  {
   "cell_type": "markdown",
   "id": "1b97ba74",
   "metadata": {},
   "source": [
    "Изменим название исправленных значений использованного трафика в соответствии с изменениями. Также заменим значение названия тарифа для общего идентификатора столбца:"
   ]
  },
  {
   "cell_type": "code",
   "execution_count": 29,
   "id": "742a5d4e",
   "metadata": {},
   "outputs": [],
   "source": [
    "df_tariffs.rename(\n",
    "    columns = {\n",
    "        'mb_per_month_included' : 'gb_per_month_included',\n",
    "        'tariff_name' : 'tariff'\n",
    "        }, \n",
    "    inplace = True\n",
    ") "
   ]
  },
  {
   "cell_type": "markdown",
   "id": "9510cc6a",
   "metadata": {},
   "source": [
    "**Информация о пользователях**"
   ]
  },
  {
   "cell_type": "markdown",
   "id": "8d0dbbbb",
   "metadata": {},
   "source": [
    "Избавимся от ненужных столбцов в датафрейме. В данном случае для исследования не нужны Имя и Фамилия клиента:"
   ]
  },
  {
   "cell_type": "code",
   "execution_count": 30,
   "id": "6a32f1f0",
   "metadata": {},
   "outputs": [],
   "source": [
    "df_users = df_users[\n",
    "    ['user_id',\n",
    "     'age',\n",
    "     'reg_date',\n",
    "     'churn_date',\n",
    "     'city',\n",
    "     'tariff']\n",
    "]"
   ]
  },
  {
   "cell_type": "markdown",
   "id": "73369b9e",
   "metadata": {},
   "source": [
    "Изменим формат даты для группировки данных по месяцам:"
   ]
  },
  {
   "cell_type": "code",
   "execution_count": 31,
   "id": "b862e91f",
   "metadata": {},
   "outputs": [],
   "source": [
    "df_users['reg_date'] = pd.to_datetime( #дата регистрации тарифа\n",
    "    df_users['reg_date'], format='%Y-%m-%d')\n",
    "df_users['churn_date'] = pd.to_datetime( #дата отключения тарифа\n",
    "    df_users['churn_date'], format='%Y-%m-%d')"
   ]
  },
  {
   "cell_type": "markdown",
   "id": "f6248282",
   "metadata": {},
   "source": [
    "### Вывод по проверка данных на аномалии и исправления"
   ]
  },
  {
   "cell_type": "markdown",
   "id": "6fb4bff9",
   "metadata": {},
   "source": [
    "В каждой из рассмотренных таблиц заменили формат даты и привели ее к единому значению, избавились от тех столбцов, что в дальнейшем использоваться не будут, привели значения в столбцах к единой системе исчисления (Гб, мин.).\n",
    "\n",
    "Пропущенные значения нельзя заменить значениями, оставим пропуски с заменой типа данных."
   ]
  },
  {
   "cell_type": "markdown",
   "id": "11207be3",
   "metadata": {},
   "source": [
    "### Замена типов данных"
   ]
  },
  {
   "cell_type": "markdown",
   "id": "27eb0ac2",
   "metadata": {},
   "source": [
    "Рассмотрим каждую таблицу и внесем изменения в типы данных там, где это необходимо:"
   ]
  },
  {
   "cell_type": "markdown",
   "id": "eea43af6",
   "metadata": {},
   "source": [
    "**Звонки**"
   ]
  },
  {
   "cell_type": "markdown",
   "id": "7a7010c8",
   "metadata": {},
   "source": [
    "Заменим вещественный тип данных на целочисленный в столбце `duration`:"
   ]
  },
  {
   "cell_type": "code",
   "execution_count": 32,
   "id": "a02ea641",
   "metadata": {},
   "outputs": [],
   "source": [
    "df_calls['duration'] = df_calls['duration'].astype('int64')"
   ]
  },
  {
   "cell_type": "markdown",
   "id": "526f8526",
   "metadata": {},
   "source": [
    "**Тарифы**"
   ]
  },
  {
   "cell_type": "markdown",
   "id": "1d2c3269",
   "metadata": {},
   "source": [
    "Заменим вещественный тип данных на целочисленный в столбце `gb_per_month_included`:"
   ]
  },
  {
   "cell_type": "code",
   "execution_count": 33,
   "id": "04f17111",
   "metadata": {},
   "outputs": [],
   "source": [
    "df_tariffs['gb_per_month_included'] = df_tariffs[\n",
    "    'gb_per_month_included'].astype('int64')"
   ]
  },
  {
   "cell_type": "markdown",
   "id": "3c632b38",
   "metadata": {},
   "source": [
    "### Вывод по замене типов данных"
   ]
  },
  {
   "cell_type": "markdown",
   "id": "ba1b4d3a",
   "metadata": {},
   "source": [
    "Заменили необходимые колонки из вещественных типов в целочисленные в таблицах звонков и тарифов."
   ]
  },
  {
   "cell_type": "markdown",
   "id": "28da4401",
   "metadata": {},
   "source": [
    "### Объединение данных из 5 файлов в единый DataFrame и подсчет необходимых величин"
   ]
  },
  {
   "cell_type": "markdown",
   "id": "d2a427e8",
   "metadata": {},
   "source": [
    "Для начала необходимо привести в единый вид каждую таблицу, для дальнейшего объединения"
   ]
  },
  {
   "cell_type": "markdown",
   "id": "3fb923db",
   "metadata": {},
   "source": [
    "#### Форматирование таблицы \"Звонки\""
   ]
  },
  {
   "cell_type": "markdown",
   "id": "e22b3dd8",
   "metadata": {},
   "source": [
    "В предобработке данных мы получили данные по каждому совершенному звонку. Округлим даты до месяца"
   ]
  },
  {
   "cell_type": "code",
   "execution_count": 34,
   "id": "7b9018b7",
   "metadata": {},
   "outputs": [],
   "source": [
    "df_calls['call_date'] = df_calls['call_date'].dt.to_period('M')"
   ]
  },
  {
   "cell_type": "markdown",
   "id": "262b356b",
   "metadata": {},
   "source": [
    "Создадим сводную таблицу по количеству потраченных минут пользователем в месяц:"
   ]
  },
  {
   "cell_type": "code",
   "execution_count": 35,
   "id": "9fc66940",
   "metadata": {},
   "outputs": [],
   "source": [
    "calls_per_month_sum = df_calls.pivot_table(\n",
    "    index=['user_id', 'call_date'],\n",
    "    values='duration', \n",
    "    aggfunc='sum'\n",
    ").reset_index()"
   ]
  },
  {
   "cell_type": "markdown",
   "id": "e8a7261f",
   "metadata": {},
   "source": [
    "Количество совершенных звонков в месяц:"
   ]
  },
  {
   "cell_type": "code",
   "execution_count": 36,
   "id": "788d53bb",
   "metadata": {},
   "outputs": [],
   "source": [
    "calls_per_month_count = df_calls.pivot_table(\n",
    "    index=['user_id', 'call_date'],\n",
    "    values='duration', \n",
    "    aggfunc='count'\n",
    ").reset_index()"
   ]
  },
  {
   "cell_type": "code",
   "execution_count": 37,
   "id": "da34dd45",
   "metadata": {
    "scrolled": false
   },
   "outputs": [
    {
     "data": {
      "text/html": [
       "<div>\n",
       "<style scoped>\n",
       "    .dataframe tbody tr th:only-of-type {\n",
       "        vertical-align: middle;\n",
       "    }\n",
       "\n",
       "    .dataframe tbody tr th {\n",
       "        vertical-align: top;\n",
       "    }\n",
       "\n",
       "    .dataframe thead th {\n",
       "        text-align: right;\n",
       "    }\n",
       "</style>\n",
       "<table border=\"1\" class=\"dataframe\">\n",
       "  <thead>\n",
       "    <tr style=\"text-align: right;\">\n",
       "      <th></th>\n",
       "      <th>user_id</th>\n",
       "      <th>month</th>\n",
       "      <th>calls_duration</th>\n",
       "    </tr>\n",
       "  </thead>\n",
       "  <tbody>\n",
       "    <tr>\n",
       "      <td>0</td>\n",
       "      <td>1000</td>\n",
       "      <td>2018-05</td>\n",
       "      <td>159</td>\n",
       "    </tr>\n",
       "    <tr>\n",
       "      <td>1</td>\n",
       "      <td>1000</td>\n",
       "      <td>2018-06</td>\n",
       "      <td>172</td>\n",
       "    </tr>\n",
       "    <tr>\n",
       "      <td>2</td>\n",
       "      <td>1000</td>\n",
       "      <td>2018-07</td>\n",
       "      <td>340</td>\n",
       "    </tr>\n",
       "    <tr>\n",
       "      <td>3</td>\n",
       "      <td>1000</td>\n",
       "      <td>2018-08</td>\n",
       "      <td>408</td>\n",
       "    </tr>\n",
       "    <tr>\n",
       "      <td>4</td>\n",
       "      <td>1000</td>\n",
       "      <td>2018-09</td>\n",
       "      <td>466</td>\n",
       "    </tr>\n",
       "    <tr>\n",
       "      <td>...</td>\n",
       "      <td>...</td>\n",
       "      <td>...</td>\n",
       "      <td>...</td>\n",
       "    </tr>\n",
       "    <tr>\n",
       "      <td>3169</td>\n",
       "      <td>1498</td>\n",
       "      <td>2018-10</td>\n",
       "      <td>247</td>\n",
       "    </tr>\n",
       "    <tr>\n",
       "      <td>3170</td>\n",
       "      <td>1499</td>\n",
       "      <td>2018-09</td>\n",
       "      <td>70</td>\n",
       "    </tr>\n",
       "    <tr>\n",
       "      <td>3171</td>\n",
       "      <td>1499</td>\n",
       "      <td>2018-10</td>\n",
       "      <td>449</td>\n",
       "    </tr>\n",
       "    <tr>\n",
       "      <td>3172</td>\n",
       "      <td>1499</td>\n",
       "      <td>2018-11</td>\n",
       "      <td>612</td>\n",
       "    </tr>\n",
       "    <tr>\n",
       "      <td>3173</td>\n",
       "      <td>1499</td>\n",
       "      <td>2018-12</td>\n",
       "      <td>492</td>\n",
       "    </tr>\n",
       "  </tbody>\n",
       "</table>\n",
       "<p>3174 rows × 3 columns</p>\n",
       "</div>"
      ],
      "text/plain": [
       "      user_id    month  calls_duration\n",
       "0        1000  2018-05             159\n",
       "1        1000  2018-06             172\n",
       "2        1000  2018-07             340\n",
       "3        1000  2018-08             408\n",
       "4        1000  2018-09             466\n",
       "...       ...      ...             ...\n",
       "3169     1498  2018-10             247\n",
       "3170     1499  2018-09              70\n",
       "3171     1499  2018-10             449\n",
       "3172     1499  2018-11             612\n",
       "3173     1499  2018-12             492\n",
       "\n",
       "[3174 rows x 3 columns]"
      ]
     },
     "execution_count": 37,
     "metadata": {},
     "output_type": "execute_result"
    }
   ],
   "source": [
    "calls_per_month_sum.rename(\n",
    "    columns={\n",
    "        'duration':'calls_duration',\n",
    "        'call_date':'month'\n",
    "    },\n",
    "    inplace=True\n",
    ")\n",
    "calls_per_month_sum"
   ]
  },
  {
   "cell_type": "markdown",
   "id": "6618352a",
   "metadata": {},
   "source": [
    "Полученная таблица показывает расход минут в месяц каждого пользователя.\n",
    "\n",
    "Заметны следующие расхождения от условия:\n",
    "- из 500 пользователей в таблице присутствую 492\n",
    "- данные даны не по каждому месяцу, каждый клиент начинал пользоваться в разное время\n",
    "- первый и последний (у тех кто отключил связь) месяц пользования у каждого клиента не отвечает статистике за месяц пользования"
   ]
  },
  {
   "cell_type": "markdown",
   "id": "e3323c96",
   "metadata": {},
   "source": [
    "#### Форматирование таблицы \"Интернет\""
   ]
  },
  {
   "cell_type": "markdown",
   "id": "35c195d9",
   "metadata": {},
   "source": [
    "В предобработке данных получили значения пользования интернетом. Округлим даты до месяца, также как и в таблице со Звонками."
   ]
  },
  {
   "cell_type": "code",
   "execution_count": 38,
   "id": "c6e3680e",
   "metadata": {},
   "outputs": [],
   "source": [
    "df_internet['session_date'] = df_internet['session_date'].dt.to_period('M')"
   ]
  },
  {
   "cell_type": "markdown",
   "id": "b302816b",
   "metadata": {},
   "source": [
    "Создаем сводную таблицу по количеству потраченного трафика пользователем в месяц:"
   ]
  },
  {
   "cell_type": "code",
   "execution_count": 39,
   "id": "526285fb",
   "metadata": {},
   "outputs": [],
   "source": [
    "internet_per_month = df_internet.pivot_table(\n",
    "    index=['user_id', 'session_date'],\n",
    "    values='gb_used', \n",
    "    aggfunc='sum'\n",
    ").reset_index()"
   ]
  },
  {
   "cell_type": "markdown",
   "id": "2d6e5d17",
   "metadata": {},
   "source": [
    "Округляем значения до Гб в большую сторону по условию тарифа:"
   ]
  },
  {
   "cell_type": "code",
   "execution_count": 40,
   "id": "c5c730ba",
   "metadata": {},
   "outputs": [],
   "source": [
    "internet_per_month['gb_used'] = np.ceil(internet_per_month['gb_used'])"
   ]
  },
  {
   "cell_type": "markdown",
   "id": "ba1e0557",
   "metadata": {},
   "source": [
    "Для дальнейшей работы заменим название месяца для единого вида с другими таблицами"
   ]
  },
  {
   "cell_type": "code",
   "execution_count": 41,
   "id": "6343d315",
   "metadata": {},
   "outputs": [],
   "source": [
    "internet_per_month.rename(\n",
    "    columns={\n",
    "        'session_date':'month'\n",
    "    },\n",
    "    inplace=True\n",
    ")"
   ]
  },
  {
   "cell_type": "markdown",
   "id": "d8a00fd4",
   "metadata": {},
   "source": [
    "Полученная таблица показывает расход интернет-трафика в месяц каждого пользователя.\n",
    "\n",
    "Заметны следующие расхождения от условия:\n",
    "- из 500 пользователей в таблице присутствую 497\n",
    "- данные не по каждому месяцу, каждый клиент начинал пользоваться в разное время\n",
    "- первый и последний (у тех кто отключил связь) месяц пользования у каждого клиента не отвечает статистике за месяц пользования"
   ]
  },
  {
   "cell_type": "markdown",
   "id": "cf00b358",
   "metadata": {},
   "source": [
    "#### Форматирование таблицы \"Сообщения\""
   ]
  },
  {
   "cell_type": "markdown",
   "id": "9b3b1b26",
   "metadata": {},
   "source": [
    "В предобработке данных получили значения отправленных сообщений. Округлим даты до месяца, также как и в таблицах ранее."
   ]
  },
  {
   "cell_type": "code",
   "execution_count": 42,
   "id": "305b5ff7",
   "metadata": {},
   "outputs": [],
   "source": [
    "df_messages['message_date'] = df_messages['message_date'].dt.to_period('M')"
   ]
  },
  {
   "cell_type": "markdown",
   "id": "4baa833d",
   "metadata": {},
   "source": [
    "Для упрощенного подсчета количества сообщений добавим количество сообщений в таблицу"
   ]
  },
  {
   "cell_type": "code",
   "execution_count": 43,
   "id": "fd653b2f",
   "metadata": {},
   "outputs": [],
   "source": [
    "df_messages['messages'] = 1"
   ]
  },
  {
   "cell_type": "markdown",
   "id": "29605be4",
   "metadata": {},
   "source": [
    "Создаем сводную таблицу по количеству отправленных сообщений пользователем в месяц:"
   ]
  },
  {
   "cell_type": "code",
   "execution_count": 44,
   "id": "3908b192",
   "metadata": {},
   "outputs": [],
   "source": [
    "messages_per_month = df_messages.pivot_table(\n",
    "    index=['user_id', 'message_date'],\n",
    "    values='messages',\n",
    "    aggfunc='count'\n",
    ").reset_index()"
   ]
  },
  {
   "cell_type": "markdown",
   "id": "98c1c4b7",
   "metadata": {},
   "source": [
    "Для дальнейшей работы заменим название месяца для единого вида с другими таблицами"
   ]
  },
  {
   "cell_type": "code",
   "execution_count": 45,
   "id": "ebbc79d9",
   "metadata": {},
   "outputs": [],
   "source": [
    "messages_per_month.rename(\n",
    "    columns={\n",
    "        'message_date':'month'\n",
    "    },\n",
    "    inplace=True\n",
    ")"
   ]
  },
  {
   "cell_type": "markdown",
   "id": "dc57dafc",
   "metadata": {},
   "source": [
    "#### Форматирование таблицы \"Информация о пользователях\""
   ]
  },
  {
   "cell_type": "markdown",
   "id": "abbf2c7f",
   "metadata": {},
   "source": [
    "Округлим даты до месяца, также как и в таблицах ранее"
   ]
  },
  {
   "cell_type": "code",
   "execution_count": 46,
   "id": "0b910bfa",
   "metadata": {},
   "outputs": [],
   "source": [
    "df_users['reg_date'] = df_users['reg_date'].dt.to_period('M')\n",
    "df_users['churn_date'] = df_users['churn_date'].dt.to_period('M')"
   ]
  },
  {
   "cell_type": "markdown",
   "id": "0f83eed0",
   "metadata": {},
   "source": [
    "#### Объединим таблицы для проведения анализа"
   ]
  },
  {
   "cell_type": "markdown",
   "id": "2cf984a4",
   "metadata": {},
   "source": [
    "Объединим таблицы **\"Звонки\"**, **\"Интернет\"**, **\"Сообщения\"**"
   ]
  },
  {
   "cell_type": "markdown",
   "id": "4ce2d667",
   "metadata": {},
   "source": [
    "Соединяем использование интернета и звонки. Чтобы ничего не потерять применяем атрибуты `how=outer` и соединение производим через 2 колонки `user_id` и `month`:"
   ]
  },
  {
   "cell_type": "code",
   "execution_count": 47,
   "id": "6937ac7c",
   "metadata": {},
   "outputs": [
    {
     "data": {
      "text/html": [
       "<div>\n",
       "<style scoped>\n",
       "    .dataframe tbody tr th:only-of-type {\n",
       "        vertical-align: middle;\n",
       "    }\n",
       "\n",
       "    .dataframe tbody tr th {\n",
       "        vertical-align: top;\n",
       "    }\n",
       "\n",
       "    .dataframe thead th {\n",
       "        text-align: right;\n",
       "    }\n",
       "</style>\n",
       "<table border=\"1\" class=\"dataframe\">\n",
       "  <thead>\n",
       "    <tr style=\"text-align: right;\">\n",
       "      <th></th>\n",
       "      <th>user_id</th>\n",
       "      <th>month</th>\n",
       "      <th>gb_used</th>\n",
       "      <th>calls_duration</th>\n",
       "    </tr>\n",
       "  </thead>\n",
       "  <tbody>\n",
       "    <tr>\n",
       "      <td>0</td>\n",
       "      <td>1000</td>\n",
       "      <td>2018-05</td>\n",
       "      <td>3.0</td>\n",
       "      <td>159.0</td>\n",
       "    </tr>\n",
       "    <tr>\n",
       "      <td>1</td>\n",
       "      <td>1000</td>\n",
       "      <td>2018-06</td>\n",
       "      <td>23.0</td>\n",
       "      <td>172.0</td>\n",
       "    </tr>\n",
       "    <tr>\n",
       "      <td>2</td>\n",
       "      <td>1000</td>\n",
       "      <td>2018-07</td>\n",
       "      <td>14.0</td>\n",
       "      <td>340.0</td>\n",
       "    </tr>\n",
       "    <tr>\n",
       "      <td>3</td>\n",
       "      <td>1000</td>\n",
       "      <td>2018-08</td>\n",
       "      <td>14.0</td>\n",
       "      <td>408.0</td>\n",
       "    </tr>\n",
       "    <tr>\n",
       "      <td>4</td>\n",
       "      <td>1000</td>\n",
       "      <td>2018-09</td>\n",
       "      <td>15.0</td>\n",
       "      <td>466.0</td>\n",
       "    </tr>\n",
       "    <tr>\n",
       "      <td>...</td>\n",
       "      <td>...</td>\n",
       "      <td>...</td>\n",
       "      <td>...</td>\n",
       "      <td>...</td>\n",
       "    </tr>\n",
       "    <tr>\n",
       "      <td>3209</td>\n",
       "      <td>1273</td>\n",
       "      <td>2018-11</td>\n",
       "      <td>NaN</td>\n",
       "      <td>272.0</td>\n",
       "    </tr>\n",
       "    <tr>\n",
       "      <td>3210</td>\n",
       "      <td>1273</td>\n",
       "      <td>2018-12</td>\n",
       "      <td>NaN</td>\n",
       "      <td>260.0</td>\n",
       "    </tr>\n",
       "    <tr>\n",
       "      <td>3211</td>\n",
       "      <td>1377</td>\n",
       "      <td>2018-02</td>\n",
       "      <td>NaN</td>\n",
       "      <td>179.0</td>\n",
       "    </tr>\n",
       "    <tr>\n",
       "      <td>3212</td>\n",
       "      <td>1392</td>\n",
       "      <td>2018-02</td>\n",
       "      <td>NaN</td>\n",
       "      <td>13.0</td>\n",
       "    </tr>\n",
       "    <tr>\n",
       "      <td>3213</td>\n",
       "      <td>1446</td>\n",
       "      <td>2018-08</td>\n",
       "      <td>NaN</td>\n",
       "      <td>50.0</td>\n",
       "    </tr>\n",
       "  </tbody>\n",
       "</table>\n",
       "<p>3214 rows × 4 columns</p>\n",
       "</div>"
      ],
      "text/plain": [
       "      user_id    month  gb_used  calls_duration\n",
       "0        1000  2018-05      3.0           159.0\n",
       "1        1000  2018-06     23.0           172.0\n",
       "2        1000  2018-07     14.0           340.0\n",
       "3        1000  2018-08     14.0           408.0\n",
       "4        1000  2018-09     15.0           466.0\n",
       "...       ...      ...      ...             ...\n",
       "3209     1273  2018-11      NaN           272.0\n",
       "3210     1273  2018-12      NaN           260.0\n",
       "3211     1377  2018-02      NaN           179.0\n",
       "3212     1392  2018-02      NaN            13.0\n",
       "3213     1446  2018-08      NaN            50.0\n",
       "\n",
       "[3214 rows x 4 columns]"
      ]
     },
     "execution_count": 47,
     "metadata": {},
     "output_type": "execute_result"
    }
   ],
   "source": [
    "used_tariff_set = internet_per_month.merge(\n",
    "    calls_per_month_sum, \n",
    "    how='outer', \n",
    "    on=['user_id','month']\n",
    ")\n",
    "used_tariff_set"
   ]
  },
  {
   "cell_type": "markdown",
   "id": "a6e8fc22",
   "metadata": {},
   "source": [
    "Соединяем полученную таблицу с сообщениями. Чтобы ничего не потерять применяем атрибуты `how=outer` и соединение производим через 2 колонки `user_id` и `month`:"
   ]
  },
  {
   "cell_type": "code",
   "execution_count": 48,
   "id": "217665d3",
   "metadata": {},
   "outputs": [
    {
     "data": {
      "text/html": [
       "<div>\n",
       "<style scoped>\n",
       "    .dataframe tbody tr th:only-of-type {\n",
       "        vertical-align: middle;\n",
       "    }\n",
       "\n",
       "    .dataframe tbody tr th {\n",
       "        vertical-align: top;\n",
       "    }\n",
       "\n",
       "    .dataframe thead th {\n",
       "        text-align: right;\n",
       "    }\n",
       "</style>\n",
       "<table border=\"1\" class=\"dataframe\">\n",
       "  <thead>\n",
       "    <tr style=\"text-align: right;\">\n",
       "      <th></th>\n",
       "      <th>user_id</th>\n",
       "      <th>month</th>\n",
       "      <th>gb_used</th>\n",
       "      <th>calls_duration</th>\n",
       "      <th>messages</th>\n",
       "    </tr>\n",
       "  </thead>\n",
       "  <tbody>\n",
       "    <tr>\n",
       "      <td>0</td>\n",
       "      <td>1000</td>\n",
       "      <td>2018-05</td>\n",
       "      <td>3.0</td>\n",
       "      <td>159.0</td>\n",
       "      <td>22.0</td>\n",
       "    </tr>\n",
       "    <tr>\n",
       "      <td>1</td>\n",
       "      <td>1000</td>\n",
       "      <td>2018-06</td>\n",
       "      <td>23.0</td>\n",
       "      <td>172.0</td>\n",
       "      <td>60.0</td>\n",
       "    </tr>\n",
       "    <tr>\n",
       "      <td>2</td>\n",
       "      <td>1000</td>\n",
       "      <td>2018-07</td>\n",
       "      <td>14.0</td>\n",
       "      <td>340.0</td>\n",
       "      <td>75.0</td>\n",
       "    </tr>\n",
       "    <tr>\n",
       "      <td>3</td>\n",
       "      <td>1000</td>\n",
       "      <td>2018-08</td>\n",
       "      <td>14.0</td>\n",
       "      <td>408.0</td>\n",
       "      <td>81.0</td>\n",
       "    </tr>\n",
       "    <tr>\n",
       "      <td>4</td>\n",
       "      <td>1000</td>\n",
       "      <td>2018-09</td>\n",
       "      <td>15.0</td>\n",
       "      <td>466.0</td>\n",
       "      <td>57.0</td>\n",
       "    </tr>\n",
       "    <tr>\n",
       "      <td>...</td>\n",
       "      <td>...</td>\n",
       "      <td>...</td>\n",
       "      <td>...</td>\n",
       "      <td>...</td>\n",
       "      <td>...</td>\n",
       "    </tr>\n",
       "    <tr>\n",
       "      <td>3209</td>\n",
       "      <td>1498</td>\n",
       "      <td>2018-07</td>\n",
       "      <td>8.0</td>\n",
       "      <td>175.0</td>\n",
       "      <td>20.0</td>\n",
       "    </tr>\n",
       "    <tr>\n",
       "      <td>3210</td>\n",
       "      <td>1499</td>\n",
       "      <td>2018-10</td>\n",
       "      <td>18.0</td>\n",
       "      <td>449.0</td>\n",
       "      <td>48.0</td>\n",
       "    </tr>\n",
       "    <tr>\n",
       "      <td>3211</td>\n",
       "      <td>1499</td>\n",
       "      <td>2018-09</td>\n",
       "      <td>2.0</td>\n",
       "      <td>70.0</td>\n",
       "      <td>11.0</td>\n",
       "    </tr>\n",
       "    <tr>\n",
       "      <td>3212</td>\n",
       "      <td>1499</td>\n",
       "      <td>2018-11</td>\n",
       "      <td>18.0</td>\n",
       "      <td>612.0</td>\n",
       "      <td>59.0</td>\n",
       "    </tr>\n",
       "    <tr>\n",
       "      <td>3213</td>\n",
       "      <td>1499</td>\n",
       "      <td>2018-12</td>\n",
       "      <td>13.0</td>\n",
       "      <td>492.0</td>\n",
       "      <td>66.0</td>\n",
       "    </tr>\n",
       "  </tbody>\n",
       "</table>\n",
       "<p>3214 rows × 5 columns</p>\n",
       "</div>"
      ],
      "text/plain": [
       "      user_id    month  gb_used  calls_duration  messages\n",
       "0        1000  2018-05      3.0           159.0      22.0\n",
       "1        1000  2018-06     23.0           172.0      60.0\n",
       "2        1000  2018-07     14.0           340.0      75.0\n",
       "3        1000  2018-08     14.0           408.0      81.0\n",
       "4        1000  2018-09     15.0           466.0      57.0\n",
       "...       ...      ...      ...             ...       ...\n",
       "3209     1498  2018-07      8.0           175.0      20.0\n",
       "3210     1499  2018-10     18.0           449.0      48.0\n",
       "3211     1499  2018-09      2.0            70.0      11.0\n",
       "3212     1499  2018-11     18.0           612.0      59.0\n",
       "3213     1499  2018-12     13.0           492.0      66.0\n",
       "\n",
       "[3214 rows x 5 columns]"
      ]
     },
     "execution_count": 48,
     "metadata": {},
     "output_type": "execute_result"
    }
   ],
   "source": [
    "used_tariff_set = used_tariff_set.merge(\n",
    "    messages_per_month, \n",
    "    how='outer', \n",
    "    on=['user_id','month']).sort_values('user_id').reset_index(drop=True)\n",
    "used_tariff_set"
   ]
  },
  {
   "cell_type": "markdown",
   "id": "b4374205",
   "metadata": {},
   "source": [
    "Объединим **информацию о пользователях** с **тарифами** для понимания принадлежности тарифа клиенту. "
   ]
  },
  {
   "cell_type": "code",
   "execution_count": 49,
   "id": "d6805ca8",
   "metadata": {},
   "outputs": [
    {
     "data": {
      "text/html": [
       "<div>\n",
       "<style scoped>\n",
       "    .dataframe tbody tr th:only-of-type {\n",
       "        vertical-align: middle;\n",
       "    }\n",
       "\n",
       "    .dataframe tbody tr th {\n",
       "        vertical-align: top;\n",
       "    }\n",
       "\n",
       "    .dataframe thead th {\n",
       "        text-align: right;\n",
       "    }\n",
       "</style>\n",
       "<table border=\"1\" class=\"dataframe\">\n",
       "  <thead>\n",
       "    <tr style=\"text-align: right;\">\n",
       "      <th></th>\n",
       "      <th>user_id</th>\n",
       "      <th>age</th>\n",
       "      <th>reg_date</th>\n",
       "      <th>churn_date</th>\n",
       "      <th>city</th>\n",
       "      <th>tariff</th>\n",
       "      <th>messages_included</th>\n",
       "      <th>gb_per_month_included</th>\n",
       "      <th>minutes_included</th>\n",
       "      <th>rub_monthly_fee</th>\n",
       "      <th>rub_per_gb</th>\n",
       "      <th>rub_per_message</th>\n",
       "      <th>rub_per_minute</th>\n",
       "    </tr>\n",
       "  </thead>\n",
       "  <tbody>\n",
       "    <tr>\n",
       "      <td>0</td>\n",
       "      <td>1000</td>\n",
       "      <td>52</td>\n",
       "      <td>2018-05</td>\n",
       "      <td>NaT</td>\n",
       "      <td>Краснодар</td>\n",
       "      <td>ultra</td>\n",
       "      <td>1000</td>\n",
       "      <td>30</td>\n",
       "      <td>3000</td>\n",
       "      <td>1950</td>\n",
       "      <td>150</td>\n",
       "      <td>1</td>\n",
       "      <td>1</td>\n",
       "    </tr>\n",
       "    <tr>\n",
       "      <td>1</td>\n",
       "      <td>1001</td>\n",
       "      <td>41</td>\n",
       "      <td>2018-11</td>\n",
       "      <td>NaT</td>\n",
       "      <td>Москва</td>\n",
       "      <td>smart</td>\n",
       "      <td>50</td>\n",
       "      <td>15</td>\n",
       "      <td>500</td>\n",
       "      <td>550</td>\n",
       "      <td>200</td>\n",
       "      <td>3</td>\n",
       "      <td>3</td>\n",
       "    </tr>\n",
       "    <tr>\n",
       "      <td>2</td>\n",
       "      <td>1002</td>\n",
       "      <td>59</td>\n",
       "      <td>2018-06</td>\n",
       "      <td>NaT</td>\n",
       "      <td>Стерлитамак</td>\n",
       "      <td>smart</td>\n",
       "      <td>50</td>\n",
       "      <td>15</td>\n",
       "      <td>500</td>\n",
       "      <td>550</td>\n",
       "      <td>200</td>\n",
       "      <td>3</td>\n",
       "      <td>3</td>\n",
       "    </tr>\n",
       "    <tr>\n",
       "      <td>3</td>\n",
       "      <td>1003</td>\n",
       "      <td>23</td>\n",
       "      <td>2018-08</td>\n",
       "      <td>NaT</td>\n",
       "      <td>Москва</td>\n",
       "      <td>ultra</td>\n",
       "      <td>1000</td>\n",
       "      <td>30</td>\n",
       "      <td>3000</td>\n",
       "      <td>1950</td>\n",
       "      <td>150</td>\n",
       "      <td>1</td>\n",
       "      <td>1</td>\n",
       "    </tr>\n",
       "    <tr>\n",
       "      <td>4</td>\n",
       "      <td>1004</td>\n",
       "      <td>68</td>\n",
       "      <td>2018-05</td>\n",
       "      <td>NaT</td>\n",
       "      <td>Новокузнецк</td>\n",
       "      <td>ultra</td>\n",
       "      <td>1000</td>\n",
       "      <td>30</td>\n",
       "      <td>3000</td>\n",
       "      <td>1950</td>\n",
       "      <td>150</td>\n",
       "      <td>1</td>\n",
       "      <td>1</td>\n",
       "    </tr>\n",
       "    <tr>\n",
       "      <td>...</td>\n",
       "      <td>...</td>\n",
       "      <td>...</td>\n",
       "      <td>...</td>\n",
       "      <td>...</td>\n",
       "      <td>...</td>\n",
       "      <td>...</td>\n",
       "      <td>...</td>\n",
       "      <td>...</td>\n",
       "      <td>...</td>\n",
       "      <td>...</td>\n",
       "      <td>...</td>\n",
       "      <td>...</td>\n",
       "      <td>...</td>\n",
       "    </tr>\n",
       "    <tr>\n",
       "      <td>495</td>\n",
       "      <td>1495</td>\n",
       "      <td>65</td>\n",
       "      <td>2018-08</td>\n",
       "      <td>NaT</td>\n",
       "      <td>Иркутск</td>\n",
       "      <td>ultra</td>\n",
       "      <td>1000</td>\n",
       "      <td>30</td>\n",
       "      <td>3000</td>\n",
       "      <td>1950</td>\n",
       "      <td>150</td>\n",
       "      <td>1</td>\n",
       "      <td>1</td>\n",
       "    </tr>\n",
       "    <tr>\n",
       "      <td>496</td>\n",
       "      <td>1496</td>\n",
       "      <td>36</td>\n",
       "      <td>2018-01</td>\n",
       "      <td>NaT</td>\n",
       "      <td>Вологда</td>\n",
       "      <td>smart</td>\n",
       "      <td>50</td>\n",
       "      <td>15</td>\n",
       "      <td>500</td>\n",
       "      <td>550</td>\n",
       "      <td>200</td>\n",
       "      <td>3</td>\n",
       "      <td>3</td>\n",
       "    </tr>\n",
       "    <tr>\n",
       "      <td>497</td>\n",
       "      <td>1497</td>\n",
       "      <td>32</td>\n",
       "      <td>2018-10</td>\n",
       "      <td>NaT</td>\n",
       "      <td>Челябинск</td>\n",
       "      <td>smart</td>\n",
       "      <td>50</td>\n",
       "      <td>15</td>\n",
       "      <td>500</td>\n",
       "      <td>550</td>\n",
       "      <td>200</td>\n",
       "      <td>3</td>\n",
       "      <td>3</td>\n",
       "    </tr>\n",
       "    <tr>\n",
       "      <td>498</td>\n",
       "      <td>1498</td>\n",
       "      <td>68</td>\n",
       "      <td>2018-07</td>\n",
       "      <td>2018-10</td>\n",
       "      <td>Владикавказ</td>\n",
       "      <td>smart</td>\n",
       "      <td>50</td>\n",
       "      <td>15</td>\n",
       "      <td>500</td>\n",
       "      <td>550</td>\n",
       "      <td>200</td>\n",
       "      <td>3</td>\n",
       "      <td>3</td>\n",
       "    </tr>\n",
       "    <tr>\n",
       "      <td>499</td>\n",
       "      <td>1499</td>\n",
       "      <td>35</td>\n",
       "      <td>2018-09</td>\n",
       "      <td>NaT</td>\n",
       "      <td>Пермь</td>\n",
       "      <td>smart</td>\n",
       "      <td>50</td>\n",
       "      <td>15</td>\n",
       "      <td>500</td>\n",
       "      <td>550</td>\n",
       "      <td>200</td>\n",
       "      <td>3</td>\n",
       "      <td>3</td>\n",
       "    </tr>\n",
       "  </tbody>\n",
       "</table>\n",
       "<p>500 rows × 13 columns</p>\n",
       "</div>"
      ],
      "text/plain": [
       "     user_id  age reg_date churn_date         city tariff  messages_included  \\\n",
       "0       1000   52  2018-05        NaT    Краснодар  ultra               1000   \n",
       "1       1001   41  2018-11        NaT       Москва  smart                 50   \n",
       "2       1002   59  2018-06        NaT  Стерлитамак  smart                 50   \n",
       "3       1003   23  2018-08        NaT       Москва  ultra               1000   \n",
       "4       1004   68  2018-05        NaT  Новокузнецк  ultra               1000   \n",
       "..       ...  ...      ...        ...          ...    ...                ...   \n",
       "495     1495   65  2018-08        NaT      Иркутск  ultra               1000   \n",
       "496     1496   36  2018-01        NaT      Вологда  smart                 50   \n",
       "497     1497   32  2018-10        NaT    Челябинск  smart                 50   \n",
       "498     1498   68  2018-07    2018-10  Владикавказ  smart                 50   \n",
       "499     1499   35  2018-09        NaT        Пермь  smart                 50   \n",
       "\n",
       "     gb_per_month_included  minutes_included  rub_monthly_fee  rub_per_gb  \\\n",
       "0                       30              3000             1950         150   \n",
       "1                       15               500              550         200   \n",
       "2                       15               500              550         200   \n",
       "3                       30              3000             1950         150   \n",
       "4                       30              3000             1950         150   \n",
       "..                     ...               ...              ...         ...   \n",
       "495                     30              3000             1950         150   \n",
       "496                     15               500              550         200   \n",
       "497                     15               500              550         200   \n",
       "498                     15               500              550         200   \n",
       "499                     15               500              550         200   \n",
       "\n",
       "     rub_per_message  rub_per_minute  \n",
       "0                  1               1  \n",
       "1                  3               3  \n",
       "2                  3               3  \n",
       "3                  1               1  \n",
       "4                  1               1  \n",
       "..               ...             ...  \n",
       "495                1               1  \n",
       "496                3               3  \n",
       "497                3               3  \n",
       "498                3               3  \n",
       "499                3               3  \n",
       "\n",
       "[500 rows x 13 columns]"
      ]
     },
     "execution_count": 49,
     "metadata": {},
     "output_type": "execute_result"
    }
   ],
   "source": [
    "tariff_users = df_users.merge(df_tariffs, how='left', on='tariff')\n",
    "tariff_users"
   ]
  },
  {
   "cell_type": "markdown",
   "id": "cda65859",
   "metadata": {},
   "source": [
    "Количество пользователей по тарифам:"
   ]
  },
  {
   "cell_type": "code",
   "execution_count": 50,
   "id": "2ed28811",
   "metadata": {},
   "outputs": [
    {
     "data": {
      "text/plain": [
       "smart    351\n",
       "ultra    149\n",
       "Name: tariff, dtype: int64"
      ]
     },
     "execution_count": 50,
     "metadata": {},
     "output_type": "execute_result"
    }
   ],
   "source": [
    "tariff_users['tariff'].value_counts()"
   ]
  },
  {
   "cell_type": "markdown",
   "id": "04d1477b",
   "metadata": {},
   "source": [
    "Для подсчета необходимых характеристик объединяем наши **заготовки**:"
   ]
  },
  {
   "cell_type": "code",
   "execution_count": 51,
   "id": "befbacdd",
   "metadata": {},
   "outputs": [],
   "source": [
    "all_data = used_tariff_set.merge(tariff_users, how='outer', on='user_id')"
   ]
  },
  {
   "cell_type": "markdown",
   "id": "fb5a8df4",
   "metadata": {},
   "source": [
    "В датафрейме `all_data` получили потраченные из тарифа ресурсы за каждый месяц, условия тарифа и данные о пользователях."
   ]
  },
  {
   "cell_type": "markdown",
   "id": "8066f1d3",
   "metadata": {},
   "source": [
    "Высчитаем и дополним таблицу доходами компании за каждый месяц с каждого клиента в новый столбец `pay_in_month`"
   ]
  },
  {
   "cell_type": "code",
   "execution_count": 52,
   "id": "a5e9fa8e",
   "metadata": {},
   "outputs": [],
   "source": [
    "def rub_in_month(row):\n",
    "    total = row['rub_monthly_fee']\n",
    "    if (row['calls_duration'] > row['minutes_included']):\n",
    "        total += (row['calls_duration'] - row['minutes_included']) * row['rub_per_minute']\n",
    "    if (row['gb_used'] > row['gb_per_month_included']):\n",
    "        total += (row['gb_used'] - row['gb_per_month_included']) * row['rub_per_gb']\n",
    "    if (row['messages'] > row['messages_included']):\n",
    "        total += (row['messages'] - row['messages_included']) * row['rub_per_message']\n",
    "    return total"
   ]
  },
  {
   "cell_type": "code",
   "execution_count": 53,
   "id": "2c5b8964",
   "metadata": {},
   "outputs": [],
   "source": [
    "all_data['pay_in_month'] = all_data.apply(\n",
    "    rub_in_month, axis=1)"
   ]
  },
  {
   "cell_type": "markdown",
   "id": "4d3ef02f",
   "metadata": {},
   "source": [
    "Выведем первые 10 строк полученной таблицы:"
   ]
  },
  {
   "cell_type": "code",
   "execution_count": 54,
   "id": "46579228",
   "metadata": {},
   "outputs": [
    {
     "data": {
      "text/html": [
       "<div>\n",
       "<style scoped>\n",
       "    .dataframe tbody tr th:only-of-type {\n",
       "        vertical-align: middle;\n",
       "    }\n",
       "\n",
       "    .dataframe tbody tr th {\n",
       "        vertical-align: top;\n",
       "    }\n",
       "\n",
       "    .dataframe thead th {\n",
       "        text-align: right;\n",
       "    }\n",
       "</style>\n",
       "<table border=\"1\" class=\"dataframe\">\n",
       "  <thead>\n",
       "    <tr style=\"text-align: right;\">\n",
       "      <th></th>\n",
       "      <th>user_id</th>\n",
       "      <th>month</th>\n",
       "      <th>gb_used</th>\n",
       "      <th>calls_duration</th>\n",
       "      <th>messages</th>\n",
       "      <th>age</th>\n",
       "      <th>reg_date</th>\n",
       "      <th>churn_date</th>\n",
       "      <th>city</th>\n",
       "      <th>tariff</th>\n",
       "      <th>messages_included</th>\n",
       "      <th>gb_per_month_included</th>\n",
       "      <th>minutes_included</th>\n",
       "      <th>rub_monthly_fee</th>\n",
       "      <th>rub_per_gb</th>\n",
       "      <th>rub_per_message</th>\n",
       "      <th>rub_per_minute</th>\n",
       "      <th>pay_in_month</th>\n",
       "    </tr>\n",
       "  </thead>\n",
       "  <tbody>\n",
       "    <tr>\n",
       "      <td>0</td>\n",
       "      <td>1000</td>\n",
       "      <td>2018-05</td>\n",
       "      <td>3.0</td>\n",
       "      <td>159.0</td>\n",
       "      <td>22.0</td>\n",
       "      <td>52</td>\n",
       "      <td>2018-05</td>\n",
       "      <td>NaT</td>\n",
       "      <td>Краснодар</td>\n",
       "      <td>ultra</td>\n",
       "      <td>1000</td>\n",
       "      <td>30</td>\n",
       "      <td>3000</td>\n",
       "      <td>1950</td>\n",
       "      <td>150</td>\n",
       "      <td>1</td>\n",
       "      <td>1</td>\n",
       "      <td>1950.0</td>\n",
       "    </tr>\n",
       "    <tr>\n",
       "      <td>1</td>\n",
       "      <td>1000</td>\n",
       "      <td>2018-06</td>\n",
       "      <td>23.0</td>\n",
       "      <td>172.0</td>\n",
       "      <td>60.0</td>\n",
       "      <td>52</td>\n",
       "      <td>2018-05</td>\n",
       "      <td>NaT</td>\n",
       "      <td>Краснодар</td>\n",
       "      <td>ultra</td>\n",
       "      <td>1000</td>\n",
       "      <td>30</td>\n",
       "      <td>3000</td>\n",
       "      <td>1950</td>\n",
       "      <td>150</td>\n",
       "      <td>1</td>\n",
       "      <td>1</td>\n",
       "      <td>1950.0</td>\n",
       "    </tr>\n",
       "    <tr>\n",
       "      <td>2</td>\n",
       "      <td>1000</td>\n",
       "      <td>2018-07</td>\n",
       "      <td>14.0</td>\n",
       "      <td>340.0</td>\n",
       "      <td>75.0</td>\n",
       "      <td>52</td>\n",
       "      <td>2018-05</td>\n",
       "      <td>NaT</td>\n",
       "      <td>Краснодар</td>\n",
       "      <td>ultra</td>\n",
       "      <td>1000</td>\n",
       "      <td>30</td>\n",
       "      <td>3000</td>\n",
       "      <td>1950</td>\n",
       "      <td>150</td>\n",
       "      <td>1</td>\n",
       "      <td>1</td>\n",
       "      <td>1950.0</td>\n",
       "    </tr>\n",
       "    <tr>\n",
       "      <td>3</td>\n",
       "      <td>1000</td>\n",
       "      <td>2018-08</td>\n",
       "      <td>14.0</td>\n",
       "      <td>408.0</td>\n",
       "      <td>81.0</td>\n",
       "      <td>52</td>\n",
       "      <td>2018-05</td>\n",
       "      <td>NaT</td>\n",
       "      <td>Краснодар</td>\n",
       "      <td>ultra</td>\n",
       "      <td>1000</td>\n",
       "      <td>30</td>\n",
       "      <td>3000</td>\n",
       "      <td>1950</td>\n",
       "      <td>150</td>\n",
       "      <td>1</td>\n",
       "      <td>1</td>\n",
       "      <td>1950.0</td>\n",
       "    </tr>\n",
       "    <tr>\n",
       "      <td>4</td>\n",
       "      <td>1000</td>\n",
       "      <td>2018-09</td>\n",
       "      <td>15.0</td>\n",
       "      <td>466.0</td>\n",
       "      <td>57.0</td>\n",
       "      <td>52</td>\n",
       "      <td>2018-05</td>\n",
       "      <td>NaT</td>\n",
       "      <td>Краснодар</td>\n",
       "      <td>ultra</td>\n",
       "      <td>1000</td>\n",
       "      <td>30</td>\n",
       "      <td>3000</td>\n",
       "      <td>1950</td>\n",
       "      <td>150</td>\n",
       "      <td>1</td>\n",
       "      <td>1</td>\n",
       "      <td>1950.0</td>\n",
       "    </tr>\n",
       "    <tr>\n",
       "      <td>...</td>\n",
       "      <td>...</td>\n",
       "      <td>...</td>\n",
       "      <td>...</td>\n",
       "      <td>...</td>\n",
       "      <td>...</td>\n",
       "      <td>...</td>\n",
       "      <td>...</td>\n",
       "      <td>...</td>\n",
       "      <td>...</td>\n",
       "      <td>...</td>\n",
       "      <td>...</td>\n",
       "      <td>...</td>\n",
       "      <td>...</td>\n",
       "      <td>...</td>\n",
       "      <td>...</td>\n",
       "      <td>...</td>\n",
       "      <td>...</td>\n",
       "      <td>...</td>\n",
       "    </tr>\n",
       "    <tr>\n",
       "      <td>3211</td>\n",
       "      <td>1499</td>\n",
       "      <td>2018-09</td>\n",
       "      <td>2.0</td>\n",
       "      <td>70.0</td>\n",
       "      <td>11.0</td>\n",
       "      <td>35</td>\n",
       "      <td>2018-09</td>\n",
       "      <td>NaT</td>\n",
       "      <td>Пермь</td>\n",
       "      <td>smart</td>\n",
       "      <td>50</td>\n",
       "      <td>15</td>\n",
       "      <td>500</td>\n",
       "      <td>550</td>\n",
       "      <td>200</td>\n",
       "      <td>3</td>\n",
       "      <td>3</td>\n",
       "      <td>550.0</td>\n",
       "    </tr>\n",
       "    <tr>\n",
       "      <td>3212</td>\n",
       "      <td>1499</td>\n",
       "      <td>2018-11</td>\n",
       "      <td>18.0</td>\n",
       "      <td>612.0</td>\n",
       "      <td>59.0</td>\n",
       "      <td>35</td>\n",
       "      <td>2018-09</td>\n",
       "      <td>NaT</td>\n",
       "      <td>Пермь</td>\n",
       "      <td>smart</td>\n",
       "      <td>50</td>\n",
       "      <td>15</td>\n",
       "      <td>500</td>\n",
       "      <td>550</td>\n",
       "      <td>200</td>\n",
       "      <td>3</td>\n",
       "      <td>3</td>\n",
       "      <td>1513.0</td>\n",
       "    </tr>\n",
       "    <tr>\n",
       "      <td>3213</td>\n",
       "      <td>1499</td>\n",
       "      <td>2018-12</td>\n",
       "      <td>13.0</td>\n",
       "      <td>492.0</td>\n",
       "      <td>66.0</td>\n",
       "      <td>35</td>\n",
       "      <td>2018-09</td>\n",
       "      <td>NaT</td>\n",
       "      <td>Пермь</td>\n",
       "      <td>smart</td>\n",
       "      <td>50</td>\n",
       "      <td>15</td>\n",
       "      <td>500</td>\n",
       "      <td>550</td>\n",
       "      <td>200</td>\n",
       "      <td>3</td>\n",
       "      <td>3</td>\n",
       "      <td>598.0</td>\n",
       "    </tr>\n",
       "    <tr>\n",
       "      <td>3214</td>\n",
       "      <td>1128</td>\n",
       "      <td>NaT</td>\n",
       "      <td>NaN</td>\n",
       "      <td>NaN</td>\n",
       "      <td>NaN</td>\n",
       "      <td>51</td>\n",
       "      <td>2018-12</td>\n",
       "      <td>2018-12</td>\n",
       "      <td>Волжский</td>\n",
       "      <td>ultra</td>\n",
       "      <td>1000</td>\n",
       "      <td>30</td>\n",
       "      <td>3000</td>\n",
       "      <td>1950</td>\n",
       "      <td>150</td>\n",
       "      <td>1</td>\n",
       "      <td>1</td>\n",
       "      <td>1950.0</td>\n",
       "    </tr>\n",
       "    <tr>\n",
       "      <td>3215</td>\n",
       "      <td>1371</td>\n",
       "      <td>NaT</td>\n",
       "      <td>NaN</td>\n",
       "      <td>NaN</td>\n",
       "      <td>NaN</td>\n",
       "      <td>50</td>\n",
       "      <td>2018-12</td>\n",
       "      <td>2018-12</td>\n",
       "      <td>Омск</td>\n",
       "      <td>smart</td>\n",
       "      <td>50</td>\n",
       "      <td>15</td>\n",
       "      <td>500</td>\n",
       "      <td>550</td>\n",
       "      <td>200</td>\n",
       "      <td>3</td>\n",
       "      <td>3</td>\n",
       "      <td>550.0</td>\n",
       "    </tr>\n",
       "  </tbody>\n",
       "</table>\n",
       "<p>3216 rows × 18 columns</p>\n",
       "</div>"
      ],
      "text/plain": [
       "      user_id    month  gb_used  calls_duration  messages  age reg_date  \\\n",
       "0        1000  2018-05      3.0           159.0      22.0   52  2018-05   \n",
       "1        1000  2018-06     23.0           172.0      60.0   52  2018-05   \n",
       "2        1000  2018-07     14.0           340.0      75.0   52  2018-05   \n",
       "3        1000  2018-08     14.0           408.0      81.0   52  2018-05   \n",
       "4        1000  2018-09     15.0           466.0      57.0   52  2018-05   \n",
       "...       ...      ...      ...             ...       ...  ...      ...   \n",
       "3211     1499  2018-09      2.0            70.0      11.0   35  2018-09   \n",
       "3212     1499  2018-11     18.0           612.0      59.0   35  2018-09   \n",
       "3213     1499  2018-12     13.0           492.0      66.0   35  2018-09   \n",
       "3214     1128      NaT      NaN             NaN       NaN   51  2018-12   \n",
       "3215     1371      NaT      NaN             NaN       NaN   50  2018-12   \n",
       "\n",
       "     churn_date       city tariff  messages_included  gb_per_month_included  \\\n",
       "0           NaT  Краснодар  ultra               1000                     30   \n",
       "1           NaT  Краснодар  ultra               1000                     30   \n",
       "2           NaT  Краснодар  ultra               1000                     30   \n",
       "3           NaT  Краснодар  ultra               1000                     30   \n",
       "4           NaT  Краснодар  ultra               1000                     30   \n",
       "...         ...        ...    ...                ...                    ...   \n",
       "3211        NaT      Пермь  smart                 50                     15   \n",
       "3212        NaT      Пермь  smart                 50                     15   \n",
       "3213        NaT      Пермь  smart                 50                     15   \n",
       "3214    2018-12   Волжский  ultra               1000                     30   \n",
       "3215    2018-12       Омск  smart                 50                     15   \n",
       "\n",
       "      minutes_included  rub_monthly_fee  rub_per_gb  rub_per_message  \\\n",
       "0                 3000             1950         150                1   \n",
       "1                 3000             1950         150                1   \n",
       "2                 3000             1950         150                1   \n",
       "3                 3000             1950         150                1   \n",
       "4                 3000             1950         150                1   \n",
       "...                ...              ...         ...              ...   \n",
       "3211               500              550         200                3   \n",
       "3212               500              550         200                3   \n",
       "3213               500              550         200                3   \n",
       "3214              3000             1950         150                1   \n",
       "3215               500              550         200                3   \n",
       "\n",
       "      rub_per_minute  pay_in_month  \n",
       "0                  1        1950.0  \n",
       "1                  1        1950.0  \n",
       "2                  1        1950.0  \n",
       "3                  1        1950.0  \n",
       "4                  1        1950.0  \n",
       "...              ...           ...  \n",
       "3211               3         550.0  \n",
       "3212               3        1513.0  \n",
       "3213               3         598.0  \n",
       "3214               1        1950.0  \n",
       "3215               3         550.0  \n",
       "\n",
       "[3216 rows x 18 columns]"
      ]
     },
     "execution_count": 54,
     "metadata": {},
     "output_type": "execute_result"
    }
   ],
   "source": [
    "all_data"
   ]
  },
  {
   "cell_type": "markdown",
   "id": "754fde91",
   "metadata": {},
   "source": [
    "Пользователи не пользовались некоторыми услугами из пакета тарифа, из-зи этого образовались пропуски в данных по использованным минутам, интернет-трафика и сообщениям. Заполним пустые значения в них на 0: "
   ]
  },
  {
   "cell_type": "code",
   "execution_count": 55,
   "id": "62137c0f",
   "metadata": {},
   "outputs": [
    {
     "data": {
      "text/plain": [
       "user_id                     0\n",
       "month                       2\n",
       "gb_used                     0\n",
       "calls_duration              0\n",
       "messages                    0\n",
       "age                         0\n",
       "reg_date                    0\n",
       "churn_date               3027\n",
       "city                        0\n",
       "tariff                      0\n",
       "messages_included           0\n",
       "gb_per_month_included       0\n",
       "minutes_included            0\n",
       "rub_monthly_fee             0\n",
       "rub_per_gb                  0\n",
       "rub_per_message             0\n",
       "rub_per_minute              0\n",
       "pay_in_month                0\n",
       "dtype: int64"
      ]
     },
     "execution_count": 55,
     "metadata": {},
     "output_type": "execute_result"
    }
   ],
   "source": [
    "all_data['gb_used'].fillna(0, inplace=True)\n",
    "all_data['calls_duration'].fillna(0, inplace=True)\n",
    "all_data['messages'].fillna(0, inplace=True)\n",
    "all_data.isna().sum()"
   ]
  },
  {
   "cell_type": "markdown",
   "id": "25c58052",
   "metadata": {},
   "source": [
    "2 клиента: 1128 и 1371 не пользовались услугами оператора - по таблице видно что они прекратили свое сотрудничество с оператором в тот же месяц, что и зарегистрировались. Исключим их из выборки данных: "
   ]
  },
  {
   "cell_type": "code",
   "execution_count": 56,
   "id": "9a6c4c9b",
   "metadata": {},
   "outputs": [],
   "source": [
    "all_data.dropna(subset=['month'],inplace=True)"
   ]
  },
  {
   "cell_type": "markdown",
   "id": "dcc33a11",
   "metadata": {},
   "source": [
    "### Вывод по объединенным и дополненным данным"
   ]
  },
  {
   "cell_type": "markdown",
   "id": "813717cb",
   "metadata": {},
   "source": [
    "В итоговой таблице мы получили данные по совершенным операциям за каждый месяц конкретным пользователем, а также сумма уплаченная за пользование услугами оператора связи."
   ]
  },
  {
   "cell_type": "markdown",
   "id": "0ed48283",
   "metadata": {},
   "source": [
    "## Анализ данных"
   ]
  },
  {
   "cell_type": "markdown",
   "id": "e71487e7",
   "metadata": {},
   "source": [
    "Проанализируем поведение клиентов, исходя из выборки. Выведем следующие показатели: сколько минут разговора, сколько сообщений и какой объем интернет-трафика требуется пользователям каждого тарифа в месяц. Посчитаем среднее количество, дисперсию и стандартное отклонение. Построим гистограммы для наглядности."
   ]
  },
  {
   "cell_type": "markdown",
   "id": "e7d022c2",
   "metadata": {},
   "source": [
    "Разделим данные по тарифам и сохраним в разные переменные:"
   ]
  },
  {
   "cell_type": "code",
   "execution_count": 57,
   "id": "7ca50853",
   "metadata": {},
   "outputs": [],
   "source": [
    "ultra_all_data = all_data.query('tariff == \"ultra\"')"
   ]
  },
  {
   "cell_type": "code",
   "execution_count": 58,
   "id": "91ad08be",
   "metadata": {},
   "outputs": [],
   "source": [
    "smart_all_data = all_data.query('tariff == \"smart\"')"
   ]
  },
  {
   "cell_type": "code",
   "execution_count": 59,
   "id": "d057d253",
   "metadata": {},
   "outputs": [
    {
     "name": "stdout",
     "output_type": "stream",
     "text": [
      "Пользователей тарифа \"ultra\" -  148\n",
      "Пользователей тарифа \"smart\" -  350\n"
     ]
    }
   ],
   "source": [
    "print('Пользователей тарифа \"ultra\" - ', ultra_all_data['user_id'].nunique())\n",
    "print('Пользователей тарифа \"smart\" - ', smart_all_data['user_id'].nunique())"
   ]
  },
  {
   "cell_type": "markdown",
   "id": "c6a031d3",
   "metadata": {},
   "source": [
    "Видим, что количество пользователей тарифа Смарт больше, чем Ультра более чем в 2 раза."
   ]
  },
  {
   "cell_type": "markdown",
   "id": "44ffc6cb",
   "metadata": {},
   "source": [
    "### Минут в месяц: гистограммы, диаграммы рассеиваия и значения дисперсии и стандартного отклонения "
   ]
  },
  {
   "cell_type": "markdown",
   "id": "50539595",
   "metadata": {},
   "source": [
    "Построим гистограммы по распределению минут разговора для каждого из тарифов:"
   ]
  },
  {
   "cell_type": "code",
   "execution_count": 60,
   "id": "67b20aee",
   "metadata": {},
   "outputs": [
    {
     "data": {
      "text/html": [
       "<div>\n",
       "<style scoped>\n",
       "    .dataframe tbody tr th:only-of-type {\n",
       "        vertical-align: middle;\n",
       "    }\n",
       "\n",
       "    .dataframe tbody tr th {\n",
       "        vertical-align: top;\n",
       "    }\n",
       "\n",
       "    .dataframe thead th {\n",
       "        text-align: right;\n",
       "    }\n",
       "</style>\n",
       "<table border=\"1\" class=\"dataframe\">\n",
       "  <thead>\n",
       "    <tr style=\"text-align: right;\">\n",
       "      <th></th>\n",
       "      <th>count</th>\n",
       "      <th>mean</th>\n",
       "      <th>std</th>\n",
       "      <th>min</th>\n",
       "      <th>1%</th>\n",
       "      <th>25%</th>\n",
       "      <th>50%</th>\n",
       "      <th>99%</th>\n",
       "      <th>max</th>\n",
       "      <th>var</th>\n",
       "      <th>std_dev</th>\n",
       "    </tr>\n",
       "    <tr>\n",
       "      <th>tariff</th>\n",
       "      <th></th>\n",
       "      <th></th>\n",
       "      <th></th>\n",
       "      <th></th>\n",
       "      <th></th>\n",
       "      <th></th>\n",
       "      <th></th>\n",
       "      <th></th>\n",
       "      <th></th>\n",
       "      <th></th>\n",
       "      <th></th>\n",
       "    </tr>\n",
       "  </thead>\n",
       "  <tbody>\n",
       "    <tr>\n",
       "      <td>smart</td>\n",
       "      <td>2229.0</td>\n",
       "      <td>417.934948</td>\n",
       "      <td>190.313730</td>\n",
       "      <td>0.0</td>\n",
       "      <td>15.28</td>\n",
       "      <td>282.0</td>\n",
       "      <td>422.0</td>\n",
       "      <td>872.72</td>\n",
       "      <td>1435.0</td>\n",
       "      <td>36219.32</td>\n",
       "      <td>190.31</td>\n",
       "    </tr>\n",
       "    <tr>\n",
       "      <td>ultra</td>\n",
       "      <td>985.0</td>\n",
       "      <td>526.623350</td>\n",
       "      <td>317.606098</td>\n",
       "      <td>0.0</td>\n",
       "      <td>0.00</td>\n",
       "      <td>284.0</td>\n",
       "      <td>518.0</td>\n",
       "      <td>1291.12</td>\n",
       "      <td>1673.0</td>\n",
       "      <td>100873.63</td>\n",
       "      <td>317.61</td>\n",
       "    </tr>\n",
       "  </tbody>\n",
       "</table>\n",
       "</div>"
      ],
      "text/plain": [
       "         count        mean         std  min     1%    25%    50%      99%  \\\n",
       "tariff                                                                      \n",
       "smart   2229.0  417.934948  190.313730  0.0  15.28  282.0  422.0   872.72   \n",
       "ultra    985.0  526.623350  317.606098  0.0   0.00  284.0  518.0  1291.12   \n",
       "\n",
       "           max        var  std_dev  \n",
       "tariff                              \n",
       "smart   1435.0   36219.32   190.31  \n",
       "ultra   1673.0  100873.63   317.61  "
      ]
     },
     "metadata": {},
     "output_type": "display_data"
    },
    {
     "data": {
      "image/png": "[encoded data removed]",
      "text/plain": [
       "<Figure size 1224x576 with 1 Axes>"
      ]
     },
     "metadata": {
      "needs_background": "light"
     },
     "output_type": "display_data"
    }
   ],
   "source": [
    "cd=all_data.groupby(all_data['tariff'])['calls_duration']\n",
    "cd_desc = cd.describe(percentiles=[.01,.25,.50,.99])\n",
    "cd_desc['var'] = [round(np.var(cd.get_group('smart'), ddof=1),2), round(np.var(cd.get_group('ultra'), ddof=1),2)]\n",
    "cd_desc['std_dev'] = [round(np.std(cd.get_group('smart'), ddof=1),2), round(np.std(cd.get_group('ultra'), ddof=1),2)]\n",
    "display(cd_desc)\n",
    "\n",
    "def histogramm(resource, sample_1, bins, sample_2):\n",
    "    plt.figure(figsize=(17,8))\n",
    "    plt.title('{} в тарифах \"Смарт\" и \"Ультра\"'.format(resource))\n",
    "    plt.xlabel('{}'.format(resource))\n",
    "    plt.ylabel('Кол-во пользователей')\n",
    "    plt.grid(True)\n",
    "    plt.hist(\n",
    "        sample_1,\n",
    "        bins=bins,\n",
    "        color='blue', \n",
    "        edgecolor='black', \n",
    "        alpha=0.5, \n",
    "        label='ultra', \n",
    "        density=False\n",
    "    )\n",
    "    plt.hist(\n",
    "        sample_2,\n",
    "        bins=bins,\n",
    "        color='orange', \n",
    "        edgecolor='black', \n",
    "        alpha=0.5, \n",
    "        label='smart', \n",
    "        density=False\n",
    "    )\n",
    "    plt.axvline(sample_1.mean(), \n",
    "            color='blue',linestyle='dashed',linewidth=2,label='Mean ultra: {:.2f}'.format(sample_1.mean()))\n",
    "    plt.axvline(sample_1.median(), \n",
    "            color='green',linestyle='dashed',linewidth=2,label='Median ultra: {:.0f}'.format(sample_1.median()))\n",
    "    plt.axvline(sample_2.mean(), \n",
    "            color='red',linestyle='dashed',linewidth=2,label='Mean smart: {:.2f}'.format(sample_2.mean()))\n",
    "    plt.axvline(sample_2.median(), \n",
    "            color='purple',linestyle='dashed',linewidth=2,label='Median smart: {:.0f}'.format(sample_2.median()))\n",
    "\n",
    "histogramm(\n",
    "    'Использованные минуты', \n",
    "    ultra_all_data['calls_duration'], \n",
    "    list(range(0,2000,100)), \n",
    "    smart_all_data['calls_duration']\n",
    ")\n",
    "plt.axvline(ultra_all_data['minutes_included'].mean(), \n",
    "            color='black',linestyle='solid',linewidth=2,label='In tariff ultra: {:.0f}'.format(ultra_all_data['minutes_included'].mean()))\n",
    "plt.axvline(smart_all_data['minutes_included'].mean(), \n",
    "            color='red',linestyle='solid',linewidth=2,label='In tariff smart: {:.0f}'.format(smart_all_data['minutes_included'].mean()))\n",
    "plt.legend()\n",
    "plt.show()"
   ]
  },
  {
   "cell_type": "markdown",
   "id": "9767c163",
   "metadata": {},
   "source": [
    "По тем же данным выведем диаграммы размаха для обоих тарифов:"
   ]
  },
  {
   "cell_type": "code",
   "execution_count": 61,
   "id": "ed8b8d2a",
   "metadata": {},
   "outputs": [
    {
     "data": {
      "image/png": "[encoded data removed]",
      "text/plain": [
       "<Figure size 576x864 with 1 Axes>"
      ]
     },
     "metadata": {
      "needs_background": "light"
     },
     "output_type": "display_data"
    }
   ],
   "source": [
    "def tariff_boxplot(column):\n",
    "    plt.figure(figsize=(8,12))\n",
    "    sns.boxplot(x='tariff', y=column, hue=\"tariff\", data=all_data)\n",
    "    plt.show()\n",
    "    \n",
    "tariff_boxplot('calls_duration')"
   ]
  },
  {
   "cell_type": "markdown",
   "id": "f1425d91",
   "metadata": {},
   "source": [
    "#### Вывод по разделу \"Минут в месяц: гистограммы, диаграммы рассеиваия и значения дисперсии и стандартного отклонения\""
   ]
  },
  {
   "cell_type": "markdown",
   "id": "98d6c6f1",
   "metadata": {},
   "source": [
    "По первичным данным получили следующие значения:\n",
    "- среднее значение потраченных минут не сильно отличается от медианы в обоих тарифных планах (**Ультра: 526,62 - 518, Смарт: 417,93 - 422**)\n",
    "- не смотря на разницу в доступных минутах в разных тарифах (3000, 500) в тарифе Ультра в среднем не говорят более 530 минут в месяц из возможных 3000\n",
    "- по обоим выборкам получили нормальное распределение близкое по своему виду\n",
    "- на диаграммах размаха видим, что выбросы в тарифе \"Смарт\" встречаются чаще, чем в тарифе \"Ультра\"\n",
    "- границы размаха: тариф \"Ультра\" - ~1300 мин., тариф \"Смарт\" - ~880 мин.\n",
    "- значительная разница дисперсии и стандартного отклонения тарифов относительно друг друга"
   ]
  },
  {
   "cell_type": "markdown",
   "id": "bd96b730",
   "metadata": {},
   "source": [
    "### Интернет-трафика в месяц: гистограммы, диаграммы рассеиваия и значения дисперсии и стандартного отклонения"
   ]
  },
  {
   "cell_type": "markdown",
   "id": "3fd05ed5",
   "metadata": {},
   "source": [
    "Построим гистограммы по распределению интернет-трафика для каждого из тарифов:"
   ]
  },
  {
   "cell_type": "code",
   "execution_count": 62,
   "id": "25f3246e",
   "metadata": {},
   "outputs": [
    {
     "data": {
      "text/html": [
       "<div>\n",
       "<style scoped>\n",
       "    .dataframe tbody tr th:only-of-type {\n",
       "        vertical-align: middle;\n",
       "    }\n",
       "\n",
       "    .dataframe tbody tr th {\n",
       "        vertical-align: top;\n",
       "    }\n",
       "\n",
       "    .dataframe thead th {\n",
       "        text-align: right;\n",
       "    }\n",
       "</style>\n",
       "<table border=\"1\" class=\"dataframe\">\n",
       "  <thead>\n",
       "    <tr style=\"text-align: right;\">\n",
       "      <th></th>\n",
       "      <th>count</th>\n",
       "      <th>mean</th>\n",
       "      <th>std</th>\n",
       "      <th>min</th>\n",
       "      <th>1%</th>\n",
       "      <th>25%</th>\n",
       "      <th>50%</th>\n",
       "      <th>99%</th>\n",
       "      <th>max</th>\n",
       "      <th>var</th>\n",
       "      <th>std_dev</th>\n",
       "    </tr>\n",
       "    <tr>\n",
       "      <th>tariff</th>\n",
       "      <th></th>\n",
       "      <th></th>\n",
       "      <th></th>\n",
       "      <th></th>\n",
       "      <th></th>\n",
       "      <th></th>\n",
       "      <th></th>\n",
       "      <th></th>\n",
       "      <th></th>\n",
       "      <th></th>\n",
       "      <th></th>\n",
       "    </tr>\n",
       "  </thead>\n",
       "  <tbody>\n",
       "    <tr>\n",
       "      <td>smart</td>\n",
       "      <td>2229.0</td>\n",
       "      <td>16.328847</td>\n",
       "      <td>5.747061</td>\n",
       "      <td>0.0</td>\n",
       "      <td>2.0</td>\n",
       "      <td>13.0</td>\n",
       "      <td>17.0</td>\n",
       "      <td>29.72</td>\n",
       "      <td>38.0</td>\n",
       "      <td>33.03</td>\n",
       "      <td>5.75</td>\n",
       "    </tr>\n",
       "    <tr>\n",
       "      <td>ultra</td>\n",
       "      <td>985.0</td>\n",
       "      <td>19.494416</td>\n",
       "      <td>9.853511</td>\n",
       "      <td>0.0</td>\n",
       "      <td>0.0</td>\n",
       "      <td>12.0</td>\n",
       "      <td>19.0</td>\n",
       "      <td>42.16</td>\n",
       "      <td>49.0</td>\n",
       "      <td>97.09</td>\n",
       "      <td>9.85</td>\n",
       "    </tr>\n",
       "  </tbody>\n",
       "</table>\n",
       "</div>"
      ],
      "text/plain": [
       "         count       mean       std  min   1%   25%   50%    99%   max    var  \\\n",
       "tariff                                                                          \n",
       "smart   2229.0  16.328847  5.747061  0.0  2.0  13.0  17.0  29.72  38.0  33.03   \n",
       "ultra    985.0  19.494416  9.853511  0.0  0.0  12.0  19.0  42.16  49.0  97.09   \n",
       "\n",
       "        std_dev  \n",
       "tariff           \n",
       "smart      5.75  \n",
       "ultra      9.85  "
      ]
     },
     "metadata": {},
     "output_type": "display_data"
    },
    {
     "data": {
      "image/png": "[encoded data removed]",
      "text/plain": [
       "<Figure size 1224x576 with 1 Axes>"
      ]
     },
     "metadata": {
      "needs_background": "light"
     },
     "output_type": "display_data"
    }
   ],
   "source": [
    "inet=all_data.groupby(all_data['tariff'])['gb_used']\n",
    "inet_desc = inet.describe(percentiles=[.01,.25,.50,.99])\n",
    "inet_desc['var'] = [round(np.var(inet.get_group('smart'), ddof=1),2), round(np.var(inet.get_group('ultra'), ddof=1),2)]\n",
    "inet_desc['std_dev'] = [round(np.std(inet.get_group('smart'), ddof=1),2), round(np.std(inet.get_group('ultra'), ddof=1),2)]\n",
    "display(inet_desc)\n",
    "\n",
    "histogramm(\n",
    "    'Использованный интернет-трафик', \n",
    "    ultra_all_data['gb_used'], \n",
    "    list(range(0,50,2)), \n",
    "    smart_all_data['gb_used']\n",
    ")\n",
    "plt.axvline(ultra_all_data['gb_per_month_included'].mean(), \n",
    "            color='black',linestyle='solid',linewidth=2,label='In tariff ultra: {:.0f}'.format(ultra_all_data['gb_per_month_included'].mean()))\n",
    "plt.axvline(smart_all_data['gb_per_month_included'].mean(), \n",
    "            color='red',linestyle='solid',linewidth=2,label='In tariff smart: {:.0f}'.format(smart_all_data['gb_per_month_included'].mean()))\n",
    "plt.legend()\n",
    "plt.show()"
   ]
  },
  {
   "cell_type": "markdown",
   "id": "b788091a",
   "metadata": {},
   "source": [
    "По тем же данным выведем диаграммы размаха для обоих тарифов:"
   ]
  },
  {
   "cell_type": "code",
   "execution_count": 63,
   "id": "4cfaeb1a",
   "metadata": {},
   "outputs": [
    {
     "data": {
      "image/png": "[encoded data removed]",
      "text/plain": [
       "<Figure size 576x864 with 1 Axes>"
      ]
     },
     "metadata": {
      "needs_background": "light"
     },
     "output_type": "display_data"
    }
   ],
   "source": [
    "tariff_boxplot('gb_used')"
   ]
  },
  {
   "cell_type": "markdown",
   "id": "6812aaa4",
   "metadata": {},
   "source": [
    "#### Вывод по разделу \"Интернет-трафика в месяц: гистограммы, диаграммы рассеиваия и значения дисперсии и стандартного отклонения\""
   ]
  },
  {
   "cell_type": "markdown",
   "id": "5f004700",
   "metadata": {},
   "source": [
    "По первичным данным получили следующие значения:\n",
    "- среднее значение интернет-трафика не сильно отличается от медианы в обоих тарифных планах (**Ультра: 19,49 - 19, Смарт: 16,33 - 17**)\n",
    "- не смотря на разницу в доступных Gb в разных тарифах (30, 15), в тарифе Ультра не отмечено превышения доступного интернет-трафика и в среднем используют на 10 Гб меньше предлагаемого тарифом. В тарифе Смарт обратная ситуация и в среднем пользователи используют интернет сверх тарифного пакета\n",
    "- стоит отметить, что при превышении порога происходит контролирование последующего платного использования трафика\n",
    "- по выборке тарифа Смарт - нормальное распределение, по тарифу Ультра более однородное (пользователи не задумываются над ограничениями трафика) распределение - близкое к нормальному\n",
    "- на диаграммах размаха видим, что выбросы в тарифе \"Смарт\" встречаются чаще, чем в тарифе \"Ультра\"\n",
    "- появились выбросы малого использования интернета в тарифе \"Смарт\", разброс значений более высок\n",
    "- в тарифе \"Ультра\" размах значений выборки не выходит за границы диаграммы размаха - выбросы отсутствуют\n",
    "- границы размаха: тариф \"Ультра\" - ~49 Гб, тариф \"Смарт\" - ~30 Гб.\n",
    "- значительная разница дисперсии и стандартного отклонения тарифов относительно друг друга"
   ]
  },
  {
   "cell_type": "markdown",
   "id": "f3dd807f",
   "metadata": {},
   "source": [
    "### Сообщений в месяц: гистограммы, диаграммы рассеиваия и значения дисперсии и стандартного отклонения"
   ]
  },
  {
   "cell_type": "markdown",
   "id": "c21ab650",
   "metadata": {},
   "source": [
    "Построим гистограммы по распределению сообщений для каждого из тарифов:"
   ]
  },
  {
   "cell_type": "code",
   "execution_count": 64,
   "id": "374c4d72",
   "metadata": {},
   "outputs": [
    {
     "data": {
      "text/html": [
       "<div>\n",
       "<style scoped>\n",
       "    .dataframe tbody tr th:only-of-type {\n",
       "        vertical-align: middle;\n",
       "    }\n",
       "\n",
       "    .dataframe tbody tr th {\n",
       "        vertical-align: top;\n",
       "    }\n",
       "\n",
       "    .dataframe thead th {\n",
       "        text-align: right;\n",
       "    }\n",
       "</style>\n",
       "<table border=\"1\" class=\"dataframe\">\n",
       "  <thead>\n",
       "    <tr style=\"text-align: right;\">\n",
       "      <th></th>\n",
       "      <th>count</th>\n",
       "      <th>mean</th>\n",
       "      <th>std</th>\n",
       "      <th>min</th>\n",
       "      <th>1%</th>\n",
       "      <th>25%</th>\n",
       "      <th>50%</th>\n",
       "      <th>99%</th>\n",
       "      <th>max</th>\n",
       "      <th>var</th>\n",
       "      <th>std_dev</th>\n",
       "    </tr>\n",
       "    <tr>\n",
       "      <th>tariff</th>\n",
       "      <th></th>\n",
       "      <th></th>\n",
       "      <th></th>\n",
       "      <th></th>\n",
       "      <th></th>\n",
       "      <th></th>\n",
       "      <th></th>\n",
       "      <th></th>\n",
       "      <th></th>\n",
       "      <th></th>\n",
       "      <th></th>\n",
       "    </tr>\n",
       "  </thead>\n",
       "  <tbody>\n",
       "    <tr>\n",
       "      <td>smart</td>\n",
       "      <td>2229.0</td>\n",
       "      <td>33.384029</td>\n",
       "      <td>28.227876</td>\n",
       "      <td>0.0</td>\n",
       "      <td>0.0</td>\n",
       "      <td>10.0</td>\n",
       "      <td>28.0</td>\n",
       "      <td>108.00</td>\n",
       "      <td>143.0</td>\n",
       "      <td>796.81</td>\n",
       "      <td>28.23</td>\n",
       "    </tr>\n",
       "    <tr>\n",
       "      <td>ultra</td>\n",
       "      <td>985.0</td>\n",
       "      <td>49.363452</td>\n",
       "      <td>47.804457</td>\n",
       "      <td>0.0</td>\n",
       "      <td>0.0</td>\n",
       "      <td>6.0</td>\n",
       "      <td>38.0</td>\n",
       "      <td>183.32</td>\n",
       "      <td>224.0</td>\n",
       "      <td>2285.27</td>\n",
       "      <td>47.80</td>\n",
       "    </tr>\n",
       "  </tbody>\n",
       "</table>\n",
       "</div>"
      ],
      "text/plain": [
       "         count       mean        std  min   1%   25%   50%     99%    max  \\\n",
       "tariff                                                                      \n",
       "smart   2229.0  33.384029  28.227876  0.0  0.0  10.0  28.0  108.00  143.0   \n",
       "ultra    985.0  49.363452  47.804457  0.0  0.0   6.0  38.0  183.32  224.0   \n",
       "\n",
       "            var  std_dev  \n",
       "tariff                    \n",
       "smart    796.81    28.23  \n",
       "ultra   2285.27    47.80  "
      ]
     },
     "metadata": {},
     "output_type": "display_data"
    },
    {
     "data": {
      "image/png": "[encoded data removed]",
      "text/plain": [
       "<Figure size 1224x576 with 1 Axes>"
      ]
     },
     "metadata": {
      "needs_background": "light"
     },
     "output_type": "display_data"
    }
   ],
   "source": [
    "mes=all_data.groupby(all_data['tariff'])['messages']\n",
    "mes_desc = mes.describe(percentiles=[.01,.25,.50,.99])\n",
    "mes_desc['var'] = [round(np.var(mes.get_group('smart'), ddof=1),2), round(np.var(mes.get_group('ultra'), ddof=1),2)]\n",
    "mes_desc['std_dev'] = [round(np.std(mes.get_group('smart'), ddof=1),2), round(np.std(mes.get_group('ultra'), ddof=1),2)]\n",
    "display(mes_desc)\n",
    "\n",
    "histogramm(\n",
    "    'Использованные сообщения', \n",
    "    ultra_all_data['messages'], \n",
    "    list(range(0,250,25)), \n",
    "    smart_all_data['messages']\n",
    ")\n",
    "plt.axvline(smart_all_data['messages_included'].mean(), \n",
    "            color='red',linestyle='solid',linewidth=2,label='In tariff smart: {:.0f}'.format(smart_all_data['messages_included'].mean()))\n",
    "plt.legend()\n",
    "plt.show()"
   ]
  },
  {
   "cell_type": "markdown",
   "id": "db769475",
   "metadata": {},
   "source": [
    "По тем же данным выведем диаграммы размаха для обоих тарифов:"
   ]
  },
  {
   "cell_type": "code",
   "execution_count": 65,
   "id": "7589038b",
   "metadata": {},
   "outputs": [
    {
     "data": {
      "image/png": "[encoded data removed]",
      "text/plain": [
       "<Figure size 576x864 with 1 Axes>"
      ]
     },
     "metadata": {
      "needs_background": "light"
     },
     "output_type": "display_data"
    }
   ],
   "source": [
    "tariff_boxplot('messages')"
   ]
  },
  {
   "cell_type": "markdown",
   "id": "e8d29a76",
   "metadata": {},
   "source": [
    "#### Вывод по разделу \"Сообщений в месяц: гистограммы, диаграммы рассеиваия и значения дисперсии и стандартного отклонения\""
   ]
  },
  {
   "cell_type": "markdown",
   "id": "2ff70998",
   "metadata": {},
   "source": [
    "По первичным данным получили следующие значения:\n",
    "- среднее значение отправленных сообщений значительно отличается от медианы в обоих тарифных планах (**Ультра: 49.36 - 38, Смарт: 33.38 - 28**), это связано с большим количеством выбросов в большую сторону\n",
    "- не смотря на разницу доступных сообщений в разных тарифах (1000, 50), в тарифе Ультра не отмечено превышения доступного интернет-трафика и в среднем используют не более предусмотренного тарифом Смарт - 38. В тарифе Смарт также в среднем большая часть пользователей не превышает использования 28 сообщений\n",
    "- по выборкам обоих тарифов видим что пользователи не особо контролируют свои сообщения, т.к. данный вид связи устарел и мало кто им интересуется в общей массе \n",
    "- на диаграммах размаха видим, что выбросы в тарифе \"Смарт\" встречаются чаще, чем в тарифе \"Ультра\"\n",
    "- границы размаха: тариф \"Ультра\" - ~183 сообщений, тариф \"Смарт\" - ~108 сообщений.\n",
    "- значительная разница дисперсии и стандартного отклонения тарифов относительно друг друга"
   ]
  },
  {
   "cell_type": "markdown",
   "id": "00a3c767",
   "metadata": {},
   "source": [
    "### Выручка в месяц (какой тариф выгоднее для оператора): гистограммы, диаграммы рассеиваия и значения дисперсии и стандартного отклонения"
   ]
  },
  {
   "cell_type": "markdown",
   "id": "8d5cc961",
   "metadata": {},
   "source": [
    "Построим гистограммы по распределению сообщений для каждого из тарифов:"
   ]
  },
  {
   "cell_type": "code",
   "execution_count": 66,
   "id": "aac455ed",
   "metadata": {},
   "outputs": [
    {
     "data": {
      "text/html": [
       "<div>\n",
       "<style scoped>\n",
       "    .dataframe tbody tr th:only-of-type {\n",
       "        vertical-align: middle;\n",
       "    }\n",
       "\n",
       "    .dataframe tbody tr th {\n",
       "        vertical-align: top;\n",
       "    }\n",
       "\n",
       "    .dataframe thead th {\n",
       "        text-align: right;\n",
       "    }\n",
       "</style>\n",
       "<table border=\"1\" class=\"dataframe\">\n",
       "  <thead>\n",
       "    <tr style=\"text-align: right;\">\n",
       "      <th></th>\n",
       "      <th>count</th>\n",
       "      <th>mean</th>\n",
       "      <th>std</th>\n",
       "      <th>min</th>\n",
       "      <th>1%</th>\n",
       "      <th>25%</th>\n",
       "      <th>50%</th>\n",
       "      <th>99%</th>\n",
       "      <th>max</th>\n",
       "      <th>var</th>\n",
       "      <th>std_dev</th>\n",
       "      <th>sum</th>\n",
       "    </tr>\n",
       "    <tr>\n",
       "      <th>tariff</th>\n",
       "      <th></th>\n",
       "      <th></th>\n",
       "      <th></th>\n",
       "      <th></th>\n",
       "      <th></th>\n",
       "      <th></th>\n",
       "      <th></th>\n",
       "      <th></th>\n",
       "      <th></th>\n",
       "      <th></th>\n",
       "      <th></th>\n",
       "      <th></th>\n",
       "    </tr>\n",
       "  </thead>\n",
       "  <tbody>\n",
       "    <tr>\n",
       "      <td>smart</td>\n",
       "      <td>2229.0</td>\n",
       "      <td>1289.973531</td>\n",
       "      <td>818.404367</td>\n",
       "      <td>550.0</td>\n",
       "      <td>550.0</td>\n",
       "      <td>550.0</td>\n",
       "      <td>1023.0</td>\n",
       "      <td>3773.72</td>\n",
       "      <td>6770.0</td>\n",
       "      <td>669785.71</td>\n",
       "      <td>818.40</td>\n",
       "      <td>2875351.0</td>\n",
       "    </tr>\n",
       "    <tr>\n",
       "      <td>ultra</td>\n",
       "      <td>985.0</td>\n",
       "      <td>2070.152284</td>\n",
       "      <td>376.187114</td>\n",
       "      <td>1950.0</td>\n",
       "      <td>1950.0</td>\n",
       "      <td>1950.0</td>\n",
       "      <td>1950.0</td>\n",
       "      <td>3774.00</td>\n",
       "      <td>4800.0</td>\n",
       "      <td>141516.75</td>\n",
       "      <td>376.19</td>\n",
       "      <td>2039100.0</td>\n",
       "    </tr>\n",
       "  </tbody>\n",
       "</table>\n",
       "</div>"
      ],
      "text/plain": [
       "         count         mean         std     min      1%     25%     50%  \\\n",
       "tariff                                                                    \n",
       "smart   2229.0  1289.973531  818.404367   550.0   550.0   550.0  1023.0   \n",
       "ultra    985.0  2070.152284  376.187114  1950.0  1950.0  1950.0  1950.0   \n",
       "\n",
       "            99%     max        var  std_dev        sum  \n",
       "tariff                                                  \n",
       "smart   3773.72  6770.0  669785.71   818.40  2875351.0  \n",
       "ultra   3774.00  4800.0  141516.75   376.19  2039100.0  "
      ]
     },
     "metadata": {},
     "output_type": "display_data"
    },
    {
     "data": {
      "image/png": "[encoded data removed]",
      "text/plain": [
       "<Figure size 1224x576 with 1 Axes>"
      ]
     },
     "metadata": {
      "needs_background": "light"
     },
     "output_type": "display_data"
    }
   ],
   "source": [
    "revenue=all_data.groupby(all_data['tariff'])['pay_in_month']\n",
    "revenue_desc = revenue.describe(percentiles=[.01,.25,.50,.99])\n",
    "revenue_desc['var'] = [round(np.var(revenue.get_group('smart'), ddof=1),2), round(np.var(revenue.get_group('ultra'), ddof=1),2)]\n",
    "revenue_desc['std_dev'] = [round(np.std(revenue.get_group('smart'), ddof=1),2), round(np.std(revenue.get_group('ultra'), ddof=1),2)]\n",
    "revenue_desc['sum'] = [round(smart_all_data['pay_in_month'].sum(),2), round(ultra_all_data['pay_in_month'].sum(),2)]\n",
    "display(revenue_desc)\n",
    "\n",
    "histogramm(\n",
    "    'Выручка в месяц', \n",
    "    ultra_all_data['pay_in_month'], \n",
    "    list(range(500,7000,150)), \n",
    "    smart_all_data['pay_in_month']\n",
    ")\n",
    "plt.legend()\n",
    "plt.show()"
   ]
  },
  {
   "cell_type": "markdown",
   "id": "35a7b155",
   "metadata": {},
   "source": [
    "По тем же данным выведем диаграммы размаха для обоих тарифов:"
   ]
  },
  {
   "cell_type": "code",
   "execution_count": 67,
   "id": "77a826ca",
   "metadata": {},
   "outputs": [
    {
     "data": {
      "image/png": "[encoded data removed]",
      "text/plain": [
       "<Figure size 576x864 with 1 Axes>"
      ]
     },
     "metadata": {
      "needs_background": "light"
     },
     "output_type": "display_data"
    }
   ],
   "source": [
    "tariff_boxplot('pay_in_month')"
   ]
  },
  {
   "cell_type": "markdown",
   "id": "ce2dcb3f",
   "metadata": {},
   "source": [
    "#### Вывод по разделу \"Выручка в месяц (какой тариф выгоднее для оператора): гистограммы, диаграммы рассеиваия и значения дисперсии и стандартного отклонения\""
   ]
  },
  {
   "cell_type": "markdown",
   "id": "3e0bf80f",
   "metadata": {},
   "source": [
    "По нашим данным получили следующие особенности:\n",
    "- за 2018 год в нашей выборке 351 человек использует тариф \"Смарт\", 149 - тариф \"Ультра\"\n",
    "- в сумме, тариф \"Смарт\" (2 875 351 руб.) превышает по прибыльности тариф \"Ультра\" (2 039 100 руб.) более чем на 800 000 руб., с условием что пользователей тарифа \"Смарт\" больше чем в 2 раза\n",
    "- если брать прибыль с каждого среднего пользователя, получаем, что половина клиентов \"Смарт\" тратит 1290 руб./мес, а клиенты \"Ультра\" 2070 руб./мес (стоимость тарифного плана). Следовательно, при равной выборке пользователей по тарифам большая прибыль будет от пользователей тарифа \"Ультра\"\n",
    "- по диаграммам размаха видно, что количественно выбросы больше у пользователей тарифа \"Смарт\", у них же выбросы сильнее в ценовом значении.\n",
    "\n",
    "**Вывод по выгодности тарифа:**\n",
    "1. При условии выборки за год, где пользователи могли выбрать из двух тарифов \"Смарт\" и \"Ультра\" более выгодным оказался тариф с меньшей абонентской стоимостью (550 руб. против 1950 руб.). Средний показатель прибыли в месяц тарифа \"Смарт\" составил почти в 2 раза больше абонентской цены (1290 руб.) за счет большего количества крупных выбросов и оплаты дополнительных услуг не входящих в абонентский пакет. Не смотря на среднюю сумму меньше чем у тарифа \"Ультра\", за счет количества пользователей, прибыль значительно превосходит конкурента. \n",
    "- **При заданном условии тариф \"Смарт\" выгоднее для оператора связи.**\n",
    "\n",
    "2. Если усреднить показатели количества пользователей обоих тарифов, то ситуация обратная \n",
    "- ***При дополнительных условиях выгоднее тариф \"Ультра\".***"
   ]
  },
  {
   "cell_type": "markdown",
   "id": "315250b8",
   "metadata": {},
   "source": [
    "## Проверка гипотез"
   ]
  },
  {
   "cell_type": "markdown",
   "id": "e92ca2e3",
   "metadata": {},
   "source": [
    "Требуется провести проверку 2х гипотез: либо опровергнуть, либо доказать что опровергнуть ее нельзя:\n",
    "1. Средняя выручка пользователей тарифов \"Ультра\" и \"Смарт\" различаются\n",
    "2. Средняя выручка пользователей из Москвы отличается от выручки пользователей из других регионов"
   ]
  },
  {
   "cell_type": "markdown",
   "id": "86a7b92a",
   "metadata": {},
   "source": [
    "### Гипотеза №1: Средняя выручка пользователей тарифов \"Ультра\" и \"Смарт\" различаются"
   ]
  },
  {
   "cell_type": "markdown",
   "id": "f4e0987b",
   "metadata": {},
   "source": [
    "Обозначим двустороннюю гипотезу по заданным условиям:\n",
    "- **Нулевая гипотеза (H0)** - Средняя выручка пользователей тарифов \"Ультра\" и \"Смарт\" - **равна**, т.е. средние значения равны с большей вероятностью\n",
    "- **Альтернативная гипотеза (H1)** - Средняя выручка пользователей тарифов \"Ультра\" и \"Смарт\" - **не равна**, т.е. средние значения равны с малой вероятностью"
   ]
  },
  {
   "cell_type": "markdown",
   "id": "a9e55721",
   "metadata": {},
   "source": [
    "По условиям проверки у нас даны 2 случайные выборки из пользователей двух тарифов. В выборках даны более 30 элементов, значит выборочные среднее и дисперсия близки к реальному среднему и дисперсии генеральной совокупности.\n",
    "\n",
    "Отметим, что дисперсии выборок различаются и выборки разного размера."
   ]
  },
  {
   "cell_type": "markdown",
   "id": "c5cb85f0",
   "metadata": {},
   "source": [
    "Проводим проверку нашей гипотезы при помощи **\"t-теста\"**, критический уровень статистической значимости примем **0,05**:"
   ]
  },
  {
   "cell_type": "code",
   "execution_count": 68,
   "id": "5b6b55e6",
   "metadata": {},
   "outputs": [
    {
     "name": "stdout",
     "output_type": "stream",
     "text": [
      "p-значение:  4.2606313931076085e-250\n",
      "Отвергаем нулевую гипотезу\n"
     ]
    }
   ],
   "source": [
    "def hypothesis(alpha, sample_1, sample_2):\n",
    "    alpha = alpha\n",
    "    hyp = st.ttest_ind(\n",
    "    sample_1, \n",
    "    sample_2, \n",
    "    equal_var=False\n",
    "    )\n",
    "\n",
    "    print('p-значение: ', hyp.pvalue)\n",
    "    \n",
    "    if hyp.pvalue < alpha:\n",
    "        print('Отвергаем нулевую гипотезу')\n",
    "    else:\n",
    "        print('Не получилось отвергнуть нулевую гипотезу')\n",
    "\n",
    "hypothesis(.05, ultra_all_data['pay_in_month'], smart_all_data['pay_in_month'])"
   ]
  },
  {
   "cell_type": "markdown",
   "id": "051e57eb",
   "metadata": {},
   "source": [
    "#### Вывод по гипотезе №1:"
   ]
  },
  {
   "cell_type": "markdown",
   "id": "a7cece83",
   "metadata": {},
   "source": [
    "Значение р-value слишком мало для того чтобы не отвергать нулевую гипотезу: ~ 4,26 * 10 в -250 степени. Для доказательства мы взяли 5% критический уровень статистической значимости, куда и попало наше значение. Делаем вывод:\n",
    "- **Нулевая гипотеза (H0)** отвергнута, принимаем **Альтернативную гипотезу (H1)**: Средняя выручка пользователей тарифов \"Ультра\" и \"Смарт\" - **не равна**, т.е. средние значения равны с малой вероятностью."
   ]
  },
  {
   "cell_type": "markdown",
   "id": "f3f92d16",
   "metadata": {},
   "source": [
    "### Гипотеза №2: Средняя выручка пользователей из Москвы отличается от выручки пользователей из других регионов"
   ]
  },
  {
   "cell_type": "markdown",
   "id": "599a9136",
   "metadata": {},
   "source": [
    "Обозначим двустороннюю гипотезу по заданным условиям:\n",
    "- **Нулевая гипотеза (H0)** - Средняя выручка пользователей из Москвы **равна** средней выручке пользователей из других регионов, т.е. средние значения равны с большей вероятностью\n",
    "- **Альтернативная гипотеза (H1)** - Средняя выручка пользователей из Москвы **не равна** средней выручке пользователей из других регионов, т.е. средние значения равны с малой вероятностью"
   ]
  },
  {
   "cell_type": "markdown",
   "id": "6ed4cc64",
   "metadata": {},
   "source": [
    "Условия проверки гипотезы совпадают с предыдущей. Получим две средние совокупности согласно проверяемым условиям:"
   ]
  },
  {
   "cell_type": "code",
   "execution_count": 69,
   "id": "24db87d9",
   "metadata": {},
   "outputs": [
    {
     "name": "stdout",
     "output_type": "stream",
     "text": [
      "Количество пользователей из Москвы: 99 человек, дисперсия - 564710.71 , среднее отклонение -  751.47\n",
      "Количество пользователей других регионов: 399 человек, дисперсия - 653886.33 , среднее отклонение -  808.63\n"
     ]
    }
   ],
   "source": [
    "moscow_city_data = all_data.query('city == \"Москва\"')\n",
    "print('Количество пользователей из Москвы:', moscow_city_data['user_id'].nunique(), 'человек, дисперсия -', round(np.var(moscow_city_data['pay_in_month']),2),', среднее отклонение - ', round(np.std(moscow_city_data['pay_in_month']),2))\n",
    "other_city_data = all_data.query('city != \"Москва\"')\n",
    "print('Количество пользователей других регионов:', other_city_data['user_id'].nunique(), 'человек, дисперсия -', round(np.var(other_city_data['pay_in_month']),2),', среднее отклонение - ', round(np.std(other_city_data['pay_in_month']),2))"
   ]
  },
  {
   "cell_type": "markdown",
   "id": "cd88cec6",
   "metadata": {},
   "source": [
    "Случайные выборки не равны: количество пользователей из регионов болше в 4 раза чем из Москвы, дисперсия и среднее отклонение не далеки, но и не одинаковы. \n",
    "\n",
    "Проводим проверку нашей гипотезы при помощи **\"t-теста\"**, критический уровень статистической значимости примем **0,01**:"
   ]
  },
  {
   "cell_type": "code",
   "execution_count": 70,
   "id": "d043c2cf",
   "metadata": {},
   "outputs": [
    {
     "name": "stdout",
     "output_type": "stream",
     "text": [
      "p-значение:  0.5257376663729298\n",
      "Не получилось отвергнуть нулевую гипотезу\n"
     ]
    }
   ],
   "source": [
    "hypothesis(.01, moscow_city_data['pay_in_month'], other_city_data['pay_in_month'])"
   ]
  },
  {
   "cell_type": "markdown",
   "id": "43263430",
   "metadata": {},
   "source": [
    "Значение р-value достаточно велико для того, чтобы отвергать нулевую гипотезу: ~ 52,5%. Для доказательства мы взяли 1% критический уровень статистической значимости, куда значение не попало. Делаем вывод:\n",
    "- **Нулевая гипотеза (H0)** не отвергнута, принимаем ее как вероятное доказательство гипотезы: Средняя выручка пользователей из Москвы **равна** средней выручке пользователей из других регионов, т.е. средние значения равны с большей вероятностью. Разница между Москвой и регионами по прибыли не настолько велика."
   ]
  },
  {
   "cell_type": "markdown",
   "id": "d9f720b8",
   "metadata": {},
   "source": [
    "## Общий вывод по исследованию тарифных планов у сотового оператора"
   ]
  },
  {
   "cell_type": "markdown",
   "id": "7754ed9d",
   "metadata": {},
   "source": [
    "Проведенный анализ данных 500 пользователей позволил сделать следующие выводы по прибыльности каждого тарифа: \n",
    "1. При условии выборки за год, где пользователи могли выбрать из двух тарифов \"Смарт\" и \"Ультра\" более выгодным оказался тариф с меньшей абонентской стоимостью (550 руб. против 1950 руб.). Средний показатель прибыли в месяц тарифа \"Смарт\" составил почти в 2 раза больше абонентской цены (1290 руб.) за счет большего количества крупных выбросов и оплаты дополнительных услуг не входящих в абонентский пакет. Не смотря на среднюю сумму меньше чем у тарифа \"Ультра\", за счет количества пользователей, прибыль значительно превосходит конкурента. \n",
    "- **При заданном условии тариф \"Смарт\" выгоднее для оператора связи.**\n",
    "\n",
    "2. Если усреднить показатели количества пользователей обоих тарифов, то ситуация обратная \n",
    "- ***При дополнительных условиях выгоднее тариф \"Ультра\".***\n",
    "\n",
    "Были проверены следующие гипотезы:\n",
    "1. Средняя выручка пользователей тарифов \"Ультра\" и \"Смарт\" различаются\n",
    "2. Средняя выручка пользователей из Москвы отличается от выручки пользователей из других регионов\n",
    "\n",
    "По итогу сделаны следующие выводы:\n",
    "1. **Нулевая гипотеза (H0)** отвергнута, принимаем **Альтернативную гипотезу (H1)**: Средняя выручка пользователей тарифов \"Ультра\" и \"Смарт\" - **не равна**, т.е. средние значения равны с малой вероятностью. **Гипотеза подтверждена.**\n",
    "2. **Нулевая гипотеза (H0)** не отвергнута, принимаем ее как вероятное доказательство гипотезы: Средняя выручка пользователей из Москвы **равна** средней выручке пользователей из других регионов, т.е. средние значения равны с большей вероятностью. Разница между Москвой и регионами по прибыли не настолько велика. **Гипотеза не подтверждена.**"
   ]
  }
 ],
 "metadata": {
  "ExecuteTimeLog": [
   {
    "duration": 1690,
    "start_time": "2022-04-09T13:24:32.083Z"
   },
   {
    "duration": 11,
    "start_time": "2022-04-09T13:24:33.776Z"
   },
   {
    "duration": 59,
    "start_time": "2022-04-09T13:24:33.790Z"
   },
   {
    "duration": 160,
    "start_time": "2022-04-09T13:24:33.853Z"
   },
   {
    "duration": 0,
    "start_time": "2022-04-09T13:24:34.019Z"
   },
   {
    "duration": 0,
    "start_time": "2022-04-09T13:24:34.020Z"
   },
   {
    "duration": 0,
    "start_time": "2022-04-09T13:24:34.022Z"
   },
   {
    "duration": 0,
    "start_time": "2022-04-09T13:24:34.024Z"
   },
   {
    "duration": 0,
    "start_time": "2022-04-09T13:24:34.027Z"
   },
   {
    "duration": 0,
    "start_time": "2022-04-09T13:24:34.029Z"
   },
   {
    "duration": 0,
    "start_time": "2022-04-09T13:24:34.031Z"
   },
   {
    "duration": 0,
    "start_time": "2022-04-09T13:24:34.033Z"
   },
   {
    "duration": 0,
    "start_time": "2022-04-09T13:24:34.035Z"
   },
   {
    "duration": 0,
    "start_time": "2022-04-09T13:24:34.037Z"
   },
   {
    "duration": 0,
    "start_time": "2022-04-09T13:24:34.039Z"
   },
   {
    "duration": 0,
    "start_time": "2022-04-09T13:24:34.040Z"
   },
   {
    "duration": 0,
    "start_time": "2022-04-09T13:24:34.041Z"
   },
   {
    "duration": 0,
    "start_time": "2022-04-09T13:24:34.043Z"
   },
   {
    "duration": 0,
    "start_time": "2022-04-09T13:24:34.084Z"
   },
   {
    "duration": 0,
    "start_time": "2022-04-09T13:24:34.086Z"
   },
   {
    "duration": 0,
    "start_time": "2022-04-09T13:24:34.087Z"
   },
   {
    "duration": 0,
    "start_time": "2022-04-09T13:24:34.089Z"
   },
   {
    "duration": 0,
    "start_time": "2022-04-09T13:24:34.090Z"
   },
   {
    "duration": 1,
    "start_time": "2022-04-09T13:24:34.093Z"
   },
   {
    "duration": 0,
    "start_time": "2022-04-09T13:24:34.096Z"
   },
   {
    "duration": 0,
    "start_time": "2022-04-09T13:24:34.098Z"
   },
   {
    "duration": 0,
    "start_time": "2022-04-09T13:24:34.099Z"
   },
   {
    "duration": 0,
    "start_time": "2022-04-09T13:24:34.101Z"
   },
   {
    "duration": 0,
    "start_time": "2022-04-09T13:24:34.102Z"
   },
   {
    "duration": 0,
    "start_time": "2022-04-09T13:24:34.103Z"
   },
   {
    "duration": 0,
    "start_time": "2022-04-09T13:24:34.104Z"
   },
   {
    "duration": 0,
    "start_time": "2022-04-09T13:24:34.105Z"
   },
   {
    "duration": 0,
    "start_time": "2022-04-09T13:24:34.107Z"
   },
   {
    "duration": 0,
    "start_time": "2022-04-09T13:24:34.108Z"
   },
   {
    "duration": 0,
    "start_time": "2022-04-09T13:24:34.109Z"
   },
   {
    "duration": 0,
    "start_time": "2022-04-09T13:24:34.111Z"
   },
   {
    "duration": 0,
    "start_time": "2022-04-09T13:24:34.112Z"
   },
   {
    "duration": 0,
    "start_time": "2022-04-09T13:24:34.113Z"
   },
   {
    "duration": 0,
    "start_time": "2022-04-09T13:24:34.114Z"
   },
   {
    "duration": 0,
    "start_time": "2022-04-09T13:24:34.116Z"
   },
   {
    "duration": 0,
    "start_time": "2022-04-09T13:24:34.118Z"
   },
   {
    "duration": 0,
    "start_time": "2022-04-09T13:24:34.119Z"
   },
   {
    "duration": 0,
    "start_time": "2022-04-09T13:24:34.120Z"
   },
   {
    "duration": 0,
    "start_time": "2022-04-09T13:24:34.122Z"
   },
   {
    "duration": 0,
    "start_time": "2022-04-09T13:24:34.123Z"
   },
   {
    "duration": 0,
    "start_time": "2022-04-09T13:24:34.125Z"
   },
   {
    "duration": 0,
    "start_time": "2022-04-09T13:24:34.126Z"
   },
   {
    "duration": 0,
    "start_time": "2022-04-09T13:24:34.185Z"
   },
   {
    "duration": 0,
    "start_time": "2022-04-09T13:24:34.186Z"
   },
   {
    "duration": 0,
    "start_time": "2022-04-09T13:24:34.187Z"
   },
   {
    "duration": 0,
    "start_time": "2022-04-09T13:24:34.189Z"
   },
   {
    "duration": 0,
    "start_time": "2022-04-09T13:24:34.190Z"
   },
   {
    "duration": 0,
    "start_time": "2022-04-09T13:24:34.192Z"
   },
   {
    "duration": 0,
    "start_time": "2022-04-09T13:24:34.193Z"
   },
   {
    "duration": 0,
    "start_time": "2022-04-09T13:24:34.195Z"
   },
   {
    "duration": 0,
    "start_time": "2022-04-09T13:24:34.196Z"
   },
   {
    "duration": 0,
    "start_time": "2022-04-09T13:24:34.197Z"
   },
   {
    "duration": 0,
    "start_time": "2022-04-09T13:24:34.199Z"
   },
   {
    "duration": 0,
    "start_time": "2022-04-09T13:24:34.200Z"
   },
   {
    "duration": 0,
    "start_time": "2022-04-09T13:24:34.202Z"
   },
   {
    "duration": 0,
    "start_time": "2022-04-09T13:24:34.212Z"
   },
   {
    "duration": 0,
    "start_time": "2022-04-09T13:24:34.215Z"
   },
   {
    "duration": 0,
    "start_time": "2022-04-09T13:24:34.217Z"
   },
   {
    "duration": 0,
    "start_time": "2022-04-09T13:24:34.218Z"
   },
   {
    "duration": 0,
    "start_time": "2022-04-09T13:24:34.219Z"
   },
   {
    "duration": 0,
    "start_time": "2022-04-09T13:24:34.220Z"
   },
   {
    "duration": 1,
    "start_time": "2022-04-09T13:24:34.221Z"
   },
   {
    "duration": 0,
    "start_time": "2022-04-09T13:24:34.223Z"
   },
   {
    "duration": 0,
    "start_time": "2022-04-09T13:24:34.224Z"
   },
   {
    "duration": 0,
    "start_time": "2022-04-09T13:24:34.225Z"
   },
   {
    "duration": 805,
    "start_time": "2022-04-09T13:27:44.858Z"
   },
   {
    "duration": 13,
    "start_time": "2022-04-09T13:27:48.316Z"
   },
   {
    "duration": 1901,
    "start_time": "2022-04-09T13:27:54.806Z"
   },
   {
    "duration": 9,
    "start_time": "2022-04-09T13:27:56.711Z"
   },
   {
    "duration": 71,
    "start_time": "2022-04-09T13:27:56.725Z"
   },
   {
    "duration": 832,
    "start_time": "2022-04-09T13:27:56.800Z"
   },
   {
    "duration": 17,
    "start_time": "2022-04-09T13:27:57.635Z"
   },
   {
    "duration": 24,
    "start_time": "2022-04-09T13:27:57.654Z"
   },
   {
    "duration": 360,
    "start_time": "2022-04-09T13:27:57.680Z"
   },
   {
    "duration": 9,
    "start_time": "2022-04-09T13:27:58.042Z"
   },
   {
    "duration": 39,
    "start_time": "2022-04-09T13:27:58.054Z"
   },
   {
    "duration": 222,
    "start_time": "2022-04-09T13:27:58.099Z"
   },
   {
    "duration": 10,
    "start_time": "2022-04-09T13:27:58.324Z"
   },
   {
    "duration": 46,
    "start_time": "2022-04-09T13:27:58.337Z"
   },
   {
    "duration": 168,
    "start_time": "2022-04-09T13:27:58.387Z"
   },
   {
    "duration": 26,
    "start_time": "2022-04-09T13:27:58.558Z"
   },
   {
    "duration": 16,
    "start_time": "2022-04-09T13:27:58.588Z"
   },
   {
    "duration": 25,
    "start_time": "2022-04-09T13:27:58.607Z"
   },
   {
    "duration": 15,
    "start_time": "2022-04-09T13:27:58.634Z"
   },
   {
    "duration": 44,
    "start_time": "2022-04-09T13:27:58.651Z"
   },
   {
    "duration": 178,
    "start_time": "2022-04-09T13:27:58.698Z"
   },
   {
    "duration": 0,
    "start_time": "2022-04-09T13:27:58.880Z"
   },
   {
    "duration": 0,
    "start_time": "2022-04-09T13:27:58.883Z"
   },
   {
    "duration": 0,
    "start_time": "2022-04-09T13:27:58.884Z"
   },
   {
    "duration": 0,
    "start_time": "2022-04-09T13:27:58.886Z"
   },
   {
    "duration": 0,
    "start_time": "2022-04-09T13:27:58.888Z"
   },
   {
    "duration": 0,
    "start_time": "2022-04-09T13:27:58.889Z"
   },
   {
    "duration": 0,
    "start_time": "2022-04-09T13:27:58.890Z"
   },
   {
    "duration": 0,
    "start_time": "2022-04-09T13:27:58.892Z"
   },
   {
    "duration": 0,
    "start_time": "2022-04-09T13:27:58.895Z"
   },
   {
    "duration": 0,
    "start_time": "2022-04-09T13:27:58.897Z"
   },
   {
    "duration": 0,
    "start_time": "2022-04-09T13:27:58.898Z"
   },
   {
    "duration": 0,
    "start_time": "2022-04-09T13:27:58.901Z"
   },
   {
    "duration": 0,
    "start_time": "2022-04-09T13:27:58.903Z"
   },
   {
    "duration": 0,
    "start_time": "2022-04-09T13:27:58.905Z"
   },
   {
    "duration": 0,
    "start_time": "2022-04-09T13:27:58.907Z"
   },
   {
    "duration": 0,
    "start_time": "2022-04-09T13:27:58.909Z"
   },
   {
    "duration": 0,
    "start_time": "2022-04-09T13:27:58.911Z"
   },
   {
    "duration": 0,
    "start_time": "2022-04-09T13:27:58.913Z"
   },
   {
    "duration": 0,
    "start_time": "2022-04-09T13:27:58.915Z"
   },
   {
    "duration": 0,
    "start_time": "2022-04-09T13:27:58.917Z"
   },
   {
    "duration": 0,
    "start_time": "2022-04-09T13:27:58.920Z"
   },
   {
    "duration": 0,
    "start_time": "2022-04-09T13:27:58.922Z"
   },
   {
    "duration": 0,
    "start_time": "2022-04-09T13:27:58.923Z"
   },
   {
    "duration": 0,
    "start_time": "2022-04-09T13:27:58.984Z"
   },
   {
    "duration": 0,
    "start_time": "2022-04-09T13:27:58.991Z"
   },
   {
    "duration": 0,
    "start_time": "2022-04-09T13:27:58.993Z"
   },
   {
    "duration": 0,
    "start_time": "2022-04-09T13:27:58.994Z"
   },
   {
    "duration": 0,
    "start_time": "2022-04-09T13:27:58.996Z"
   },
   {
    "duration": 0,
    "start_time": "2022-04-09T13:27:58.999Z"
   },
   {
    "duration": 0,
    "start_time": "2022-04-09T13:27:59.001Z"
   },
   {
    "duration": 0,
    "start_time": "2022-04-09T13:27:59.003Z"
   },
   {
    "duration": 0,
    "start_time": "2022-04-09T13:27:59.005Z"
   },
   {
    "duration": 0,
    "start_time": "2022-04-09T13:27:59.006Z"
   },
   {
    "duration": 0,
    "start_time": "2022-04-09T13:27:59.007Z"
   },
   {
    "duration": 0,
    "start_time": "2022-04-09T13:27:59.009Z"
   },
   {
    "duration": 0,
    "start_time": "2022-04-09T13:27:59.010Z"
   },
   {
    "duration": 0,
    "start_time": "2022-04-09T13:27:59.012Z"
   },
   {
    "duration": 0,
    "start_time": "2022-04-09T13:27:59.013Z"
   },
   {
    "duration": 0,
    "start_time": "2022-04-09T13:27:59.014Z"
   },
   {
    "duration": 0,
    "start_time": "2022-04-09T13:27:59.018Z"
   },
   {
    "duration": 0,
    "start_time": "2022-04-09T13:27:59.020Z"
   },
   {
    "duration": 0,
    "start_time": "2022-04-09T13:27:59.022Z"
   },
   {
    "duration": 0,
    "start_time": "2022-04-09T13:27:59.083Z"
   },
   {
    "duration": 0,
    "start_time": "2022-04-09T13:27:59.085Z"
   },
   {
    "duration": 0,
    "start_time": "2022-04-09T13:27:59.088Z"
   },
   {
    "duration": 0,
    "start_time": "2022-04-09T13:27:59.090Z"
   },
   {
    "duration": 0,
    "start_time": "2022-04-09T13:27:59.093Z"
   },
   {
    "duration": 0,
    "start_time": "2022-04-09T13:27:59.095Z"
   },
   {
    "duration": 0,
    "start_time": "2022-04-09T13:27:59.097Z"
   },
   {
    "duration": 0,
    "start_time": "2022-04-09T13:27:59.099Z"
   },
   {
    "duration": 0,
    "start_time": "2022-04-09T13:27:59.101Z"
   },
   {
    "duration": 0,
    "start_time": "2022-04-09T13:27:59.108Z"
   },
   {
    "duration": 1767,
    "start_time": "2022-04-09T13:29:15.256Z"
   },
   {
    "duration": 4,
    "start_time": "2022-04-09T13:29:17.026Z"
   },
   {
    "duration": 83,
    "start_time": "2022-04-09T13:29:17.033Z"
   },
   {
    "duration": 891,
    "start_time": "2022-04-09T13:29:17.121Z"
   },
   {
    "duration": 23,
    "start_time": "2022-04-09T13:29:18.014Z"
   },
   {
    "duration": 61,
    "start_time": "2022-04-09T13:29:18.039Z"
   },
   {
    "duration": 39,
    "start_time": "2022-04-09T13:29:18.104Z"
   },
   {
    "duration": 40,
    "start_time": "2022-04-09T13:29:18.146Z"
   },
   {
    "duration": 42,
    "start_time": "2022-04-09T13:29:18.189Z"
   },
   {
    "duration": 77,
    "start_time": "2022-04-09T13:29:18.237Z"
   },
   {
    "duration": 12,
    "start_time": "2022-04-09T13:29:18.317Z"
   },
   {
    "duration": 30,
    "start_time": "2022-04-09T13:29:18.331Z"
   },
   {
    "duration": 48,
    "start_time": "2022-04-09T13:29:18.364Z"
   },
   {
    "duration": 12,
    "start_time": "2022-04-09T13:29:18.415Z"
   },
   {
    "duration": 31,
    "start_time": "2022-04-09T13:29:18.430Z"
   },
   {
    "duration": 31,
    "start_time": "2022-04-09T13:29:18.487Z"
   },
   {
    "duration": 24,
    "start_time": "2022-04-09T13:29:18.520Z"
   },
   {
    "duration": 49,
    "start_time": "2022-04-09T13:29:18.547Z"
   },
   {
    "duration": 29,
    "start_time": "2022-04-09T13:29:18.599Z"
   },
   {
    "duration": 47,
    "start_time": "2022-04-09T13:29:18.630Z"
   },
   {
    "duration": 15,
    "start_time": "2022-04-09T13:29:18.685Z"
   },
   {
    "duration": 25,
    "start_time": "2022-04-09T13:29:18.703Z"
   },
   {
    "duration": 14,
    "start_time": "2022-04-09T13:29:18.730Z"
   },
   {
    "duration": 63,
    "start_time": "2022-04-09T13:29:18.746Z"
   },
   {
    "duration": 10,
    "start_time": "2022-04-09T13:29:18.812Z"
   },
   {
    "duration": 8,
    "start_time": "2022-04-09T13:29:18.824Z"
   },
   {
    "duration": 14,
    "start_time": "2022-04-09T13:29:18.834Z"
   },
   {
    "duration": 65,
    "start_time": "2022-04-09T13:29:18.855Z"
   },
   {
    "duration": 14,
    "start_time": "2022-04-09T13:29:18.922Z"
   },
   {
    "duration": 5,
    "start_time": "2022-04-09T13:29:18.938Z"
   },
   {
    "duration": 7,
    "start_time": "2022-04-09T13:29:18.946Z"
   },
   {
    "duration": 43,
    "start_time": "2022-04-09T13:29:18.955Z"
   },
   {
    "duration": 8,
    "start_time": "2022-04-09T13:29:19.004Z"
   },
   {
    "duration": 7,
    "start_time": "2022-04-09T13:29:19.014Z"
   },
   {
    "duration": 37,
    "start_time": "2022-04-09T13:29:19.023Z"
   },
   {
    "duration": 55,
    "start_time": "2022-04-09T13:29:19.063Z"
   },
   {
    "duration": 31,
    "start_time": "2022-04-09T13:29:19.121Z"
   },
   {
    "duration": 40,
    "start_time": "2022-04-09T13:29:19.154Z"
   },
   {
    "duration": 34,
    "start_time": "2022-04-09T13:29:19.196Z"
   },
   {
    "duration": 52,
    "start_time": "2022-04-09T13:29:19.232Z"
   },
   {
    "duration": 6,
    "start_time": "2022-04-09T13:29:19.286Z"
   },
   {
    "duration": 12,
    "start_time": "2022-04-09T13:29:19.294Z"
   },
   {
    "duration": 27,
    "start_time": "2022-04-09T13:29:19.308Z"
   },
   {
    "duration": 7,
    "start_time": "2022-04-09T13:29:19.337Z"
   },
   {
    "duration": 58,
    "start_time": "2022-04-09T13:29:19.347Z"
   },
   {
    "duration": 4,
    "start_time": "2022-04-09T13:29:19.408Z"
   },
   {
    "duration": 20,
    "start_time": "2022-04-09T13:29:19.414Z"
   },
   {
    "duration": 26,
    "start_time": "2022-04-09T13:29:19.438Z"
   },
   {
    "duration": 45,
    "start_time": "2022-04-09T13:29:19.466Z"
   },
   {
    "duration": 31,
    "start_time": "2022-04-09T13:29:19.514Z"
   },
   {
    "duration": 52,
    "start_time": "2022-04-09T13:29:19.547Z"
   },
   {
    "duration": 14,
    "start_time": "2022-04-09T13:29:19.602Z"
   },
   {
    "duration": 6,
    "start_time": "2022-04-09T13:29:19.619Z"
   },
   {
    "duration": 256,
    "start_time": "2022-04-09T13:29:19.627Z"
   },
   {
    "duration": 43,
    "start_time": "2022-04-09T13:29:19.886Z"
   },
   {
    "duration": 12,
    "start_time": "2022-04-09T13:29:19.931Z"
   },
   {
    "duration": 46,
    "start_time": "2022-04-09T13:29:19.945Z"
   },
   {
    "duration": 18,
    "start_time": "2022-04-09T13:29:19.994Z"
   },
   {
    "duration": 20,
    "start_time": "2022-04-09T13:29:20.016Z"
   },
   {
    "duration": 11,
    "start_time": "2022-04-09T13:29:20.038Z"
   },
   {
    "duration": 829,
    "start_time": "2022-04-09T13:29:20.051Z"
   },
   {
    "duration": 352,
    "start_time": "2022-04-09T13:29:20.883Z"
   },
   {
    "duration": 854,
    "start_time": "2022-04-09T13:29:21.237Z"
   },
   {
    "duration": 327,
    "start_time": "2022-04-09T13:29:22.095Z"
   },
   {
    "duration": 647,
    "start_time": "2022-04-09T13:29:22.425Z"
   },
   {
    "duration": 415,
    "start_time": "2022-04-09T13:29:23.075Z"
   },
   {
    "duration": 1250,
    "start_time": "2022-04-09T13:29:23.493Z"
   },
   {
    "duration": 342,
    "start_time": "2022-04-09T13:29:24.745Z"
   },
   {
    "duration": 9,
    "start_time": "2022-04-09T13:29:25.091Z"
   },
   {
    "duration": 41,
    "start_time": "2022-04-09T13:29:25.103Z"
   },
   {
    "duration": 8,
    "start_time": "2022-04-09T13:29:25.147Z"
   },
   {
    "duration": 1533,
    "start_time": "2022-04-09T13:37:05.827Z"
   },
   {
    "duration": 3,
    "start_time": "2022-04-09T13:37:07.363Z"
   },
   {
    "duration": 78,
    "start_time": "2022-04-09T13:37:07.368Z"
   },
   {
    "duration": 813,
    "start_time": "2022-04-09T13:37:07.449Z"
   },
   {
    "duration": 22,
    "start_time": "2022-04-09T13:37:08.264Z"
   },
   {
    "duration": 64,
    "start_time": "2022-04-09T13:37:08.289Z"
   },
   {
    "duration": 52,
    "start_time": "2022-04-09T13:37:08.356Z"
   },
   {
    "duration": 12,
    "start_time": "2022-04-09T13:37:08.411Z"
   },
   {
    "duration": 30,
    "start_time": "2022-04-09T13:37:08.425Z"
   },
   {
    "duration": 66,
    "start_time": "2022-04-09T13:37:08.459Z"
   },
   {
    "duration": 11,
    "start_time": "2022-04-09T13:37:08.527Z"
   },
   {
    "duration": 52,
    "start_time": "2022-04-09T13:37:08.540Z"
   },
   {
    "duration": 18,
    "start_time": "2022-04-09T13:37:08.595Z"
   },
   {
    "duration": 11,
    "start_time": "2022-04-09T13:37:08.615Z"
   },
   {
    "duration": 16,
    "start_time": "2022-04-09T13:37:08.628Z"
   },
   {
    "duration": 55,
    "start_time": "2022-04-09T13:37:08.646Z"
   },
   {
    "duration": 18,
    "start_time": "2022-04-09T13:37:08.703Z"
   },
   {
    "duration": 23,
    "start_time": "2022-04-09T13:37:08.723Z"
   },
   {
    "duration": 48,
    "start_time": "2022-04-09T13:37:08.748Z"
   },
   {
    "duration": 55,
    "start_time": "2022-04-09T13:37:08.798Z"
   },
   {
    "duration": 11,
    "start_time": "2022-04-09T13:37:08.855Z"
   },
   {
    "duration": 7,
    "start_time": "2022-04-09T13:37:08.889Z"
   },
   {
    "duration": 10,
    "start_time": "2022-04-09T13:37:08.899Z"
   },
   {
    "duration": 41,
    "start_time": "2022-04-09T13:37:08.911Z"
   },
   {
    "duration": 34,
    "start_time": "2022-04-09T13:37:08.955Z"
   },
   {
    "duration": 6,
    "start_time": "2022-04-09T13:37:08.992Z"
   },
   {
    "duration": 14,
    "start_time": "2022-04-09T13:37:09.001Z"
   },
   {
    "duration": 30,
    "start_time": "2022-04-09T13:37:09.021Z"
   },
   {
    "duration": 39,
    "start_time": "2022-04-09T13:37:09.053Z"
   },
   {
    "duration": 6,
    "start_time": "2022-04-09T13:37:09.095Z"
   },
   {
    "duration": 9,
    "start_time": "2022-04-09T13:37:09.103Z"
   },
   {
    "duration": 11,
    "start_time": "2022-04-09T13:37:09.115Z"
   },
   {
    "duration": 8,
    "start_time": "2022-04-09T13:37:09.128Z"
   },
   {
    "duration": 6,
    "start_time": "2022-04-09T13:37:09.138Z"
   },
   {
    "duration": 78,
    "start_time": "2022-04-09T13:37:09.145Z"
   },
   {
    "duration": 67,
    "start_time": "2022-04-09T13:37:09.225Z"
   },
   {
    "duration": 37,
    "start_time": "2022-04-09T13:37:09.295Z"
   },
   {
    "duration": 19,
    "start_time": "2022-04-09T13:37:09.334Z"
   },
   {
    "duration": 57,
    "start_time": "2022-04-09T13:37:09.355Z"
   },
   {
    "duration": 46,
    "start_time": "2022-04-09T13:37:09.414Z"
   },
   {
    "duration": 4,
    "start_time": "2022-04-09T13:37:09.463Z"
   },
   {
    "duration": 31,
    "start_time": "2022-04-09T13:37:09.469Z"
   },
   {
    "duration": 27,
    "start_time": "2022-04-09T13:37:09.502Z"
   },
   {
    "duration": 10,
    "start_time": "2022-04-09T13:37:09.532Z"
   },
   {
    "duration": 37,
    "start_time": "2022-04-09T13:37:09.544Z"
   },
   {
    "duration": 6,
    "start_time": "2022-04-09T13:37:09.587Z"
   },
   {
    "duration": 17,
    "start_time": "2022-04-09T13:37:09.596Z"
   },
   {
    "duration": 33,
    "start_time": "2022-04-09T13:37:09.616Z"
   },
   {
    "duration": 58,
    "start_time": "2022-04-09T13:37:09.651Z"
   },
   {
    "duration": 32,
    "start_time": "2022-04-09T13:37:09.711Z"
   },
   {
    "duration": 7,
    "start_time": "2022-04-09T13:37:09.745Z"
   },
   {
    "duration": 42,
    "start_time": "2022-04-09T13:37:09.754Z"
   },
   {
    "duration": 18,
    "start_time": "2022-04-09T13:37:09.799Z"
   },
   {
    "duration": 220,
    "start_time": "2022-04-09T13:37:09.819Z"
   },
   {
    "duration": 49,
    "start_time": "2022-04-09T13:37:10.042Z"
   },
   {
    "duration": 14,
    "start_time": "2022-04-09T13:37:10.094Z"
   },
   {
    "duration": 12,
    "start_time": "2022-04-09T13:37:10.111Z"
   },
   {
    "duration": 18,
    "start_time": "2022-04-09T13:37:10.125Z"
   },
   {
    "duration": 16,
    "start_time": "2022-04-09T13:37:10.145Z"
   },
   {
    "duration": 32,
    "start_time": "2022-04-09T13:37:10.163Z"
   },
   {
    "duration": 823,
    "start_time": "2022-04-09T13:37:10.198Z"
   },
   {
    "duration": 329,
    "start_time": "2022-04-09T13:37:11.024Z"
   },
   {
    "duration": 744,
    "start_time": "2022-04-09T13:37:11.356Z"
   },
   {
    "duration": 307,
    "start_time": "2022-04-09T13:37:12.103Z"
   },
   {
    "duration": 640,
    "start_time": "2022-04-09T13:37:12.413Z"
   },
   {
    "duration": 384,
    "start_time": "2022-04-09T13:37:13.055Z"
   },
   {
    "duration": 888,
    "start_time": "2022-04-09T13:37:13.442Z"
   },
   {
    "duration": 326,
    "start_time": "2022-04-09T13:37:14.332Z"
   },
   {
    "duration": 7,
    "start_time": "2022-04-09T13:37:14.660Z"
   },
   {
    "duration": 33,
    "start_time": "2022-04-09T13:37:14.685Z"
   },
   {
    "duration": 7,
    "start_time": "2022-04-09T13:37:14.720Z"
   },
   {
    "duration": 57,
    "start_time": "2022-04-09T20:52:22.051Z"
   },
   {
    "duration": 1182,
    "start_time": "2022-04-09T20:52:30.323Z"
   },
   {
    "duration": 3,
    "start_time": "2022-04-09T20:52:31.507Z"
   },
   {
    "duration": 100,
    "start_time": "2022-04-09T20:52:31.512Z"
   },
   {
    "duration": 1003,
    "start_time": "2022-04-09T20:52:31.615Z"
   },
   {
    "duration": 12,
    "start_time": "2022-04-09T20:52:32.619Z"
   },
   {
    "duration": 35,
    "start_time": "2022-04-09T20:52:32.633Z"
   },
   {
    "duration": 31,
    "start_time": "2022-04-09T20:52:32.670Z"
   },
   {
    "duration": 9,
    "start_time": "2022-04-09T20:52:32.703Z"
   },
   {
    "duration": 23,
    "start_time": "2022-04-09T20:52:32.713Z"
   },
   {
    "duration": 28,
    "start_time": "2022-04-09T20:52:32.739Z"
   },
   {
    "duration": 9,
    "start_time": "2022-04-09T20:52:32.789Z"
   },
   {
    "duration": 33,
    "start_time": "2022-04-09T20:52:32.799Z"
   },
   {
    "duration": 12,
    "start_time": "2022-04-09T20:52:32.833Z"
   },
   {
    "duration": 7,
    "start_time": "2022-04-09T20:52:32.846Z"
   },
   {
    "duration": 13,
    "start_time": "2022-04-09T20:52:32.854Z"
   },
   {
    "duration": 15,
    "start_time": "2022-04-09T20:52:32.884Z"
   },
   {
    "duration": 19,
    "start_time": "2022-04-09T20:52:32.901Z"
   },
   {
    "duration": 17,
    "start_time": "2022-04-09T20:52:32.922Z"
   },
   {
    "duration": 9,
    "start_time": "2022-04-09T20:52:32.941Z"
   },
   {
    "duration": 53,
    "start_time": "2022-04-09T20:52:32.952Z"
   },
   {
    "duration": 9,
    "start_time": "2022-04-09T20:52:33.007Z"
   },
   {
    "duration": 4,
    "start_time": "2022-04-09T20:52:33.018Z"
   },
   {
    "duration": 7,
    "start_time": "2022-04-09T20:52:33.024Z"
   },
   {
    "duration": 49,
    "start_time": "2022-04-09T20:52:33.033Z"
   },
   {
    "duration": 8,
    "start_time": "2022-04-09T20:52:33.084Z"
   },
   {
    "duration": 20,
    "start_time": "2022-04-09T20:52:33.095Z"
   },
   {
    "duration": 8,
    "start_time": "2022-04-09T20:52:33.117Z"
   },
   {
    "duration": 19,
    "start_time": "2022-04-09T20:52:33.129Z"
   },
   {
    "duration": 8,
    "start_time": "2022-04-09T20:52:33.150Z"
   },
   {
    "duration": 7,
    "start_time": "2022-04-09T20:52:33.160Z"
   },
   {
    "duration": 18,
    "start_time": "2022-04-09T20:52:33.168Z"
   },
   {
    "duration": 21,
    "start_time": "2022-04-09T20:52:33.187Z"
   },
   {
    "duration": 11,
    "start_time": "2022-04-09T20:52:33.209Z"
   },
   {
    "duration": 6,
    "start_time": "2022-04-09T20:52:33.222Z"
   },
   {
    "duration": 27,
    "start_time": "2022-04-09T20:52:33.229Z"
   },
   {
    "duration": 32,
    "start_time": "2022-04-09T20:52:33.258Z"
   },
   {
    "duration": 23,
    "start_time": "2022-04-09T20:52:33.292Z"
   },
   {
    "duration": 13,
    "start_time": "2022-04-09T20:52:33.317Z"
   },
   {
    "duration": 18,
    "start_time": "2022-04-09T20:52:33.331Z"
   },
   {
    "duration": 48,
    "start_time": "2022-04-09T20:52:33.351Z"
   },
   {
    "duration": 4,
    "start_time": "2022-04-09T20:52:33.401Z"
   },
   {
    "duration": 4,
    "start_time": "2022-04-09T20:52:33.407Z"
   },
   {
    "duration": 18,
    "start_time": "2022-04-09T20:52:33.413Z"
   },
   {
    "duration": 4,
    "start_time": "2022-04-09T20:52:33.433Z"
   },
   {
    "duration": 20,
    "start_time": "2022-04-09T20:52:33.439Z"
   },
   {
    "duration": 23,
    "start_time": "2022-04-09T20:52:33.461Z"
   },
   {
    "duration": 18,
    "start_time": "2022-04-09T20:52:33.487Z"
   },
   {
    "duration": 23,
    "start_time": "2022-04-09T20:52:33.507Z"
   },
   {
    "duration": 21,
    "start_time": "2022-04-09T20:52:33.531Z"
   },
   {
    "duration": 24,
    "start_time": "2022-04-09T20:52:33.553Z"
   },
   {
    "duration": 5,
    "start_time": "2022-04-09T20:52:33.591Z"
   },
   {
    "duration": 14,
    "start_time": "2022-04-09T20:52:33.597Z"
   },
   {
    "duration": 4,
    "start_time": "2022-04-09T20:52:33.612Z"
   },
   {
    "duration": 164,
    "start_time": "2022-04-09T20:52:33.618Z"
   },
   {
    "duration": 30,
    "start_time": "2022-04-09T20:52:33.784Z"
   },
   {
    "duration": 8,
    "start_time": "2022-04-09T20:52:33.815Z"
   },
   {
    "duration": 6,
    "start_time": "2022-04-09T20:52:33.825Z"
   },
   {
    "duration": 7,
    "start_time": "2022-04-09T20:52:33.832Z"
   },
   {
    "duration": 8,
    "start_time": "2022-04-09T20:52:33.840Z"
   },
   {
    "duration": 40,
    "start_time": "2022-04-09T20:52:33.849Z"
   },
   {
    "duration": 505,
    "start_time": "2022-04-09T20:52:33.891Z"
   },
   {
    "duration": 159,
    "start_time": "2022-04-09T20:52:34.398Z"
   },
   {
    "duration": 424,
    "start_time": "2022-04-09T20:52:34.559Z"
   },
   {
    "duration": 224,
    "start_time": "2022-04-09T20:52:34.985Z"
   },
   {
    "duration": 518,
    "start_time": "2022-04-09T20:52:35.211Z"
   },
   {
    "duration": 277,
    "start_time": "2022-04-09T20:52:35.731Z"
   },
   {
    "duration": 662,
    "start_time": "2022-04-09T20:52:36.010Z"
   },
   {
    "duration": 246,
    "start_time": "2022-04-09T20:52:36.673Z"
   },
   {
    "duration": 6,
    "start_time": "2022-04-09T20:52:36.921Z"
   },
   {
    "duration": 17,
    "start_time": "2022-04-09T20:52:36.929Z"
   },
   {
    "duration": 4,
    "start_time": "2022-04-09T20:52:36.948Z"
   },
   {
    "duration": 167,
    "start_time": "2022-04-09T20:52:36.954Z"
   }
  ],
  "kernelspec": {
   "display_name": "Python 3 (ipykernel)",
   "language": "python",
   "name": "python3"
  },
  "language_info": {
   "codemirror_mode": {
    "name": "ipython",
    "version": 3
   },
   "file_extension": ".py",
   "mimetype": "text/x-python",
   "name": "python",
   "nbconvert_exporter": "python",
   "pygments_lexer": "ipython3",
   "version": "3.7.8"
  },
  "toc": {
   "base_numbering": 1,
   "nav_menu": {},
   "number_sections": true,
   "sideBar": true,
   "skip_h1_title": true,
   "title_cell": "Содержание",
   "title_sidebar": "Contents",
   "toc_cell": true,
   "toc_position": {
    "height": "calc(100% - 180px)",
    "left": "10px",
    "top": "150px",
    "width": "332px"
   },
   "toc_section_display": true,
   "toc_window_display": false
  }
 },
 "nbformat": 4,
 "nbformat_minor": 5
}
