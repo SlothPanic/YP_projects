{
 "cells": [
  {
   "cell_type": "markdown",
   "metadata": {},
   "source": [
    "<div class=\"alert alert-success\">\n",
    "<b>Комментарий ревьюера v 2.0 ✔️:</b> Отлично, Александр! Ты исправил все, даже самые незначительные недостатки и твой проект конечно же принят. Спасибо за работу!) </div>"
   ]
  },
  {
   "cell_type": "markdown",
   "metadata": {},
   "source": [
    "<div style=\"border:solid green 2px; padding: 20px\">\n",
    "<b>Привет!</b>\n",
    "\n",
    "Меня зовут Михаленко Дмитрий, и я буду проверять твой проект. Предлагаю общаться на «ты» :) Но если это не удобно - дай знать, и мы перейдем на \"вы\". \n",
    "\n",
    "Моя основная цель — не указать на совершенные тобою ошибки, а поделиться своим опытом и помочь тебе стать аналитиком данных. Ты уже проделал большую работу над проектом, но давай сделаем его еще лучше. Ниже ты найдешь мои комментарии - **пожалуйста, не перемещай, не изменяй и не удаляй их**. Увидев у тебя ошибку, в первый раз я лишь укажу на ее наличие и дам тебе возможность самой найти и исправить ее. На реальной работе твой начальник будет поступать так же, а я пытаюсь подготовить тебя именно к работе аналитиком. Но если ты пока не справишься с такой задачей - при следующей проверке я дам более точную подсказку. Я буду использовать цветовую разметку:\n",
    "\n",
    "<div class=\"alert alert-danger\">\n",
    "<b>Комментарий ревьюера ❌:</b> Так выделены самые важные замечания. Без их отработки проект не будет принят. </div>\n",
    "\n",
    "<div class=\"alert alert-warning\">\n",
    "<b>Комментарий ревьюера ⚠️:</b> Так выделены небольшие замечания. Я надеюсь, что их ты тоже учтешь - твой проект от этого станет только лучше. Но настаивать на их отработке не буду.\n",
    "\n",
    "</div>\n",
    "\n",
    "<div class=\"alert alert-success\">\n",
    "<b>Комментарий ревьюера ✔️:</b> Так я выделяю все остальные комментарии.</div>\n",
    "\n",
    "Давай работать над проектом в диалоге: **если ты что-то меняешь в проекте или отвечаешь на мои комменатри — пиши об этом.** Мне будет легче отследить изменения, если ты выделишь свои комментарии:\n",
    "<div class=\"alert alert-info\"> <b>Комментарий студента:</b> Например, вот так.</div>\n",
    "\n",
    "Всё это поможет выполнить повторную проверку твоего проекта оперативнее."
   ]
  },
  {
   "cell_type": "markdown",
   "metadata": {
    "id": "E0vqbgi9ay0H"
   },
   "source": [
    "# Яндекс.Музыка"
   ]
  },
  {
   "cell_type": "markdown",
   "metadata": {
    "id": "VUC88oWjTJw2"
   },
   "source": [
    "Сравнение Москвы и Петербурга окружено мифами. Например:\n",
    " * Москва — мегаполис, подчинённый жёсткому ритму рабочей недели;\n",
    " * Петербург — культурная столица, со своими вкусами.\n",
    "\n",
    "На данных Яндекс.Музыки вы сравните поведение пользователей двух столиц.\n",
    "\n",
    "**Цель исследования** — проверьте три гипотезы:\n",
    "1. Активность пользователей зависит от дня недели. Причём в Москве и Петербурге это проявляется по-разному.\n",
    "2. В понедельник утром в Москве преобладают одни жанры, а в Петербурге — другие. Так же и вечером пятницы преобладают разные жанры — в зависимости от города. \n",
    "3. Москва и Петербург предпочитают разные жанры музыки. В Москве чаще слушают поп-музыку, в Петербурге — русский рэп.\n",
    "\n",
    "**Ход исследования**\n",
    "\n",
    "Данные о поведении пользователей вы получите из файла `yandex_music_project.csv`. О качестве данных ничего не известно. Поэтому перед проверкой гипотез понадобится обзор данных. \n",
    "\n",
    "Вы проверите данные на ошибки и оцените их влияние на исследование. Затем, на этапе предобработки вы поищете возможность исправить самые критичные ошибки данных.\n",
    " \n",
    "Таким образом, исследование пройдёт в три этапа:\n",
    " 1. Обзор данных.\n",
    " 2. Предобработка данных.\n",
    " 3. Проверка гипотез.\n",
    "\n"
   ]
  },
  {
   "cell_type": "markdown",
   "metadata": {},
   "source": [
    "<div class=\"alert alert-success\">\n",
    "<b>Комментарий ревьюера ✔️:</b> Хорошая практика начинать проект с контекста, описания задачи, возможного хода\\плана исследования, а также описания имеющихся данных. Очень надеюсь, что ты будешь уделять этому внимание и в последующих проектах. </div>"
   ]
  },
  {
   "cell_type": "markdown",
   "metadata": {
    "id": "Ml1hmfXC_Zcs"
   },
   "source": [
    "## Обзор данных\n",
    "\n",
    "Составьте первое представление о данных Яндекс.Музыки.\n",
    "\n",
    "\n"
   ]
  },
  {
   "cell_type": "markdown",
   "metadata": {
    "id": "57eAOGIz_Zcs"
   },
   "source": [
    "Основной инструмент аналитика — `pandas`. Импортируйте эту библиотеку."
   ]
  },
  {
   "cell_type": "code",
   "execution_count": 1,
   "metadata": {
    "id": "AXN7PHPN_Zcs"
   },
   "outputs": [],
   "source": [
    "import pandas as pd# импорт библиотеки pandas"
   ]
  },
  {
   "cell_type": "markdown",
   "metadata": {},
   "source": [
    "<div class=\"alert alert-success\">\n",
    "<b>Комментарий ревьюера ✔️:</b> Очень здорово, что ты используешь сокращение pd для Pandas, это общепринятое сокращение для этой библиотеки для удобной дальнейшей работы. </div>"
   ]
  },
  {
   "cell_type": "markdown",
   "metadata": {
    "id": "SG23P8tt_Zcs"
   },
   "source": [
    "Прочитайте файл `yandex_music_project.csv` из папки `/datasets` и сохраните его в переменной `df`:"
   ]
  },
  {
   "cell_type": "code",
   "execution_count": 3,
   "metadata": {
    "id": "fFVu7vqh_Zct"
   },
   "outputs": [],
   "source": [
    "df = pd.read_csv('yandex_music_project.csv')# чтение файла с данными и сохранение в df"
   ]
  },
  {
   "cell_type": "markdown",
   "metadata": {},
   "source": [
    "<div class=\"alert alert-success\">\n",
    "<b>Комментарий ревьюера ✔️:</b> Указан правильный путь к файлу: слэш в начале пути очень важен, так как указывает, что нужно искать файл в корневой папке. </div>"
   ]
  },
  {
   "cell_type": "markdown",
   "metadata": {
    "id": "rDoOMd3uTqnZ"
   },
   "source": [
    "Выведите на экран первые десять строк таблицы:"
   ]
  },
  {
   "cell_type": "code",
   "execution_count": 4,
   "metadata": {
    "id": "oWTVX3gW_Zct"
   },
   "outputs": [
    {
     "data": {
      "text/html": [
       "<div>\n",
       "<style scoped>\n",
       "    .dataframe tbody tr th:only-of-type {\n",
       "        vertical-align: middle;\n",
       "    }\n",
       "\n",
       "    .dataframe tbody tr th {\n",
       "        vertical-align: top;\n",
       "    }\n",
       "\n",
       "    .dataframe thead th {\n",
       "        text-align: right;\n",
       "    }\n",
       "</style>\n",
       "<table border=\"1\" class=\"dataframe\">\n",
       "  <thead>\n",
       "    <tr style=\"text-align: right;\">\n",
       "      <th></th>\n",
       "      <th>userID</th>\n",
       "      <th>Track</th>\n",
       "      <th>artist</th>\n",
       "      <th>genre</th>\n",
       "      <th>City</th>\n",
       "      <th>time</th>\n",
       "      <th>Day</th>\n",
       "    </tr>\n",
       "  </thead>\n",
       "  <tbody>\n",
       "    <tr>\n",
       "      <th>0</th>\n",
       "      <td>FFB692EC</td>\n",
       "      <td>Kamigata To Boots</td>\n",
       "      <td>The Mass Missile</td>\n",
       "      <td>rock</td>\n",
       "      <td>Saint-Petersburg</td>\n",
       "      <td>20:28:33</td>\n",
       "      <td>Wednesday</td>\n",
       "    </tr>\n",
       "    <tr>\n",
       "      <th>1</th>\n",
       "      <td>55204538</td>\n",
       "      <td>Delayed Because of Accident</td>\n",
       "      <td>Andreas Rönnberg</td>\n",
       "      <td>rock</td>\n",
       "      <td>Moscow</td>\n",
       "      <td>14:07:09</td>\n",
       "      <td>Friday</td>\n",
       "    </tr>\n",
       "    <tr>\n",
       "      <th>2</th>\n",
       "      <td>20EC38</td>\n",
       "      <td>Funiculì funiculà</td>\n",
       "      <td>Mario Lanza</td>\n",
       "      <td>pop</td>\n",
       "      <td>Saint-Petersburg</td>\n",
       "      <td>20:58:07</td>\n",
       "      <td>Wednesday</td>\n",
       "    </tr>\n",
       "    <tr>\n",
       "      <th>3</th>\n",
       "      <td>A3DD03C9</td>\n",
       "      <td>Dragons in the Sunset</td>\n",
       "      <td>Fire + Ice</td>\n",
       "      <td>folk</td>\n",
       "      <td>Saint-Petersburg</td>\n",
       "      <td>08:37:09</td>\n",
       "      <td>Monday</td>\n",
       "    </tr>\n",
       "    <tr>\n",
       "      <th>4</th>\n",
       "      <td>E2DC1FAE</td>\n",
       "      <td>Soul People</td>\n",
       "      <td>Space Echo</td>\n",
       "      <td>dance</td>\n",
       "      <td>Moscow</td>\n",
       "      <td>08:34:34</td>\n",
       "      <td>Monday</td>\n",
       "    </tr>\n",
       "    <tr>\n",
       "      <th>5</th>\n",
       "      <td>842029A1</td>\n",
       "      <td>Преданная</td>\n",
       "      <td>IMPERVTOR</td>\n",
       "      <td>rusrap</td>\n",
       "      <td>Saint-Petersburg</td>\n",
       "      <td>13:09:41</td>\n",
       "      <td>Friday</td>\n",
       "    </tr>\n",
       "    <tr>\n",
       "      <th>6</th>\n",
       "      <td>4CB90AA5</td>\n",
       "      <td>True</td>\n",
       "      <td>Roman Messer</td>\n",
       "      <td>dance</td>\n",
       "      <td>Moscow</td>\n",
       "      <td>13:00:07</td>\n",
       "      <td>Wednesday</td>\n",
       "    </tr>\n",
       "    <tr>\n",
       "      <th>7</th>\n",
       "      <td>F03E1C1F</td>\n",
       "      <td>Feeling This Way</td>\n",
       "      <td>Polina Griffith</td>\n",
       "      <td>dance</td>\n",
       "      <td>Moscow</td>\n",
       "      <td>20:47:49</td>\n",
       "      <td>Wednesday</td>\n",
       "    </tr>\n",
       "    <tr>\n",
       "      <th>8</th>\n",
       "      <td>8FA1D3BE</td>\n",
       "      <td>И вновь продолжается бой</td>\n",
       "      <td>NaN</td>\n",
       "      <td>ruspop</td>\n",
       "      <td>Moscow</td>\n",
       "      <td>09:17:40</td>\n",
       "      <td>Friday</td>\n",
       "    </tr>\n",
       "    <tr>\n",
       "      <th>9</th>\n",
       "      <td>E772D5C0</td>\n",
       "      <td>Pessimist</td>\n",
       "      <td>NaN</td>\n",
       "      <td>dance</td>\n",
       "      <td>Saint-Petersburg</td>\n",
       "      <td>21:20:49</td>\n",
       "      <td>Wednesday</td>\n",
       "    </tr>\n",
       "  </tbody>\n",
       "</table>\n",
       "</div>"
      ],
      "text/plain": [
       "     userID                        Track            artist   genre  \\\n",
       "0  FFB692EC            Kamigata To Boots  The Mass Missile    rock   \n",
       "1  55204538  Delayed Because of Accident  Andreas Rönnberg    rock   \n",
       "2    20EC38            Funiculì funiculà       Mario Lanza     pop   \n",
       "3  A3DD03C9        Dragons in the Sunset        Fire + Ice    folk   \n",
       "4  E2DC1FAE                  Soul People        Space Echo   dance   \n",
       "5  842029A1                    Преданная         IMPERVTOR  rusrap   \n",
       "6  4CB90AA5                         True      Roman Messer   dance   \n",
       "7  F03E1C1F             Feeling This Way   Polina Griffith   dance   \n",
       "8  8FA1D3BE     И вновь продолжается бой               NaN  ruspop   \n",
       "9  E772D5C0                    Pessimist               NaN   dance   \n",
       "\n",
       "             City        time        Day  \n",
       "0  Saint-Petersburg  20:28:33  Wednesday  \n",
       "1            Moscow  14:07:09     Friday  \n",
       "2  Saint-Petersburg  20:58:07  Wednesday  \n",
       "3  Saint-Petersburg  08:37:09     Monday  \n",
       "4            Moscow  08:34:34     Monday  \n",
       "5  Saint-Petersburg  13:09:41     Friday  \n",
       "6            Moscow  13:00:07  Wednesday  \n",
       "7            Moscow  20:47:49  Wednesday  \n",
       "8            Moscow  09:17:40     Friday  \n",
       "9  Saint-Petersburg  21:20:49  Wednesday  "
      ]
     },
     "execution_count": 4,
     "metadata": {},
     "output_type": "execute_result"
    }
   ],
   "source": [
    "df.head(10)# получение первых 10 строк таблицы df"
   ]
  },
  {
   "cell_type": "markdown",
   "metadata": {},
   "source": [
    "<div class=\"alert alert-warning\">\n",
    "<b>Комментарий ревьюера ⚠️:</b> В Jupyter Notebook не обязательно указывать display для отображения результата, отображение данных можно получить просто написав: df.head(10).\n",
    "<div class=\"alert alert-info\"> <b>Комментарий студента:</b> Я исправил, но в учебном пособии указывали что нужно выполнять команду для выведения DataFram`а данной командой</div>"
   ]
  },
  {
   "cell_type": "markdown",
   "metadata": {
    "id": "EO73Kwic_Zct"
   },
   "source": [
    "Одной командой получить общую информацию о таблице:"
   ]
  },
  {
   "cell_type": "code",
   "execution_count": 4,
   "metadata": {
    "id": "DSf2kIb-_Zct"
   },
   "outputs": [
    {
     "name": "stdout",
     "output_type": "stream",
     "text": [
      "<class 'pandas.core.frame.DataFrame'>\n",
      "RangeIndex: 65079 entries, 0 to 65078\n",
      "Data columns (total 7 columns):\n",
      "  userID    65079 non-null object\n",
      "Track       63848 non-null object\n",
      "artist      57876 non-null object\n",
      "genre       63881 non-null object\n",
      "  City      65079 non-null object\n",
      "time        65079 non-null object\n",
      "Day         65079 non-null object\n",
      "dtypes: object(7)\n",
      "memory usage: 3.5+ MB\n"
     ]
    }
   ],
   "source": [
    "df.info()# получение общей информации о данных в таблице df"
   ]
  },
  {
   "cell_type": "markdown",
   "metadata": {},
   "source": [
    "<div class=\"alert alert-success\">\n",
    "<b>Комментарий ревьюера ✔️:</b> Отличный выбор метода - info действительно показывает много информации о датафрейме. </div>"
   ]
  },
  {
   "cell_type": "markdown",
   "metadata": {
    "id": "TaQ2Iwbr_Zct"
   },
   "source": [
    "Итак, в таблице семь столбцов. Тип данных во всех столбцах — `object`.\n",
    "\n",
    "Согласно документации к данным:\n",
    "* `userID` — идентификатор пользователя;\n",
    "* `Track` — название трека;  \n",
    "* `artist` — имя исполнителя;\n",
    "* `genre` — название жанра;\n",
    "* `City` — город пользователя;\n",
    "* `time` — время начала прослушивания;\n",
    "* `Day` — день недели.\n",
    "\n",
    "В названиях колонок видны три нарушения стиля:\n",
    "1. Строчные буквы сочетаются с прописными.\n",
    "2. Встречаются пробелы.\n",
    "3. В названии используется регистр, отличный от \"змеиного_регистра\".\n",
    "\n",
    "\n",
    "\n",
    "Количество значений в столбцах различается. Значит, в данных есть пропущенные значения.\n"
   ]
  },
  {
   "cell_type": "markdown",
   "metadata": {},
   "source": [
    "<div class=\"alert alert-success\">\n",
    "<b>Комментарий ревьюера ✔️:</b> Абсолютно правильный ответ на вопрос задания! Отличная работа! </div>"
   ]
  },
  {
   "cell_type": "markdown",
   "metadata": {
    "id": "MCB6-dXG_Zct"
   },
   "source": [
    "**Выводы**\n",
    "\n",
    "В каждой строке таблицы — данные о прослушанном треке. Часть колонок описывает саму композицию: название, исполнителя и жанр. Остальные данные рассказывают о пользователе: из какого он города, когда он слушал музыку. \n",
    "\n",
    "Предварительно можно утверждать, что, данных достаточно для проверки гипотез. Но встречаются пропуски в данных, а в названиях колонок — расхождения с хорошим стилем.\n",
    "\n",
    "Чтобы двигаться дальше, нужно устранить проблемы в данных."
   ]
  },
  {
   "cell_type": "markdown",
   "metadata": {
    "id": "SjYF6Ub9_Zct"
   },
   "source": [
    "## Предобработка данных\n",
    "Исправьте стиль в заголовках столбцов, исключите пропуски. Затем проверьте данные на дубликаты."
   ]
  },
  {
   "cell_type": "markdown",
   "metadata": {
    "id": "dIaKXr29_Zct"
   },
   "source": [
    "### Стиль заголовков\n",
    "Выведите на экран названия столбцов:"
   ]
  },
  {
   "cell_type": "code",
   "execution_count": 5,
   "metadata": {
    "id": "oKOTdF_Q_Zct"
   },
   "outputs": [
    {
     "data": {
      "text/plain": [
       "Index(['  userID', 'Track', 'artist', 'genre', '  City  ', 'time', 'Day'], dtype='object')"
      ]
     },
     "execution_count": 5,
     "metadata": {},
     "output_type": "execute_result"
    }
   ],
   "source": [
    "df.columns# перечень названий столбцов таблицы df"
   ]
  },
  {
   "cell_type": "markdown",
   "metadata": {},
   "source": [
    "<div class=\"alert alert-warning\">\n",
    "<b>Комментарий ревьюера ⚠️:</b> В Jupyter Notebook не обязательно указывать print для отображения результата, отображение данных можно получить просто написав: df.columns"
   ]
  },
  {
   "cell_type": "markdown",
   "metadata": {
    "id": "zj5534cv_Zct"
   },
   "source": [
    "Приведите названия в соответствие с хорошим стилем:\n",
    "* несколько слов в названии запишите в «змеином_регистре»,\n",
    "* все символы сделайте строчными,\n",
    "* устраните пробелы.\n",
    "\n",
    "Для этого переименуйте колонки так:\n",
    "* `'  userID'` → `'user_id'`;\n",
    "* `'Track'` → `'track'`;\n",
    "* `'  City  '` → `'city'`;\n",
    "* `'Day'` → `'day'`."
   ]
  },
  {
   "cell_type": "code",
   "execution_count": 6,
   "metadata": {
    "id": "ISlFqs5y_Zct"
   },
   "outputs": [],
   "source": [
    "df = df.rename(columns={\n",
    "    '  userID':'user_id', \n",
    "    'Track':'track', \n",
    "    '  City  ':'city',\n",
    "    'Day':'day'\n",
    "}\n",
    "              )# переименование столбцов"
   ]
  },
  {
   "cell_type": "markdown",
   "metadata": {},
   "source": [
    "<div class=\"alert alert-success\">\n",
    "<b>Комментарий ревьюера ✔️:</b> Хороший выбор метода - rename сработает без ошибок, даже если изменится порядок столбцов. </div>"
   ]
  },
  {
   "cell_type": "markdown",
   "metadata": {
    "id": "1dqbh00J_Zct"
   },
   "source": [
    "Проверьте результат. Для этого ещё раз выведите на экран названия столбцов:"
   ]
  },
  {
   "cell_type": "code",
   "execution_count": 7,
   "metadata": {
    "id": "d4NOAmTW_Zct"
   },
   "outputs": [
    {
     "data": {
      "text/plain": [
       "Index(['user_id', 'track', 'artist', 'genre', 'city', 'time', 'day'], dtype='object')"
      ]
     },
     "execution_count": 7,
     "metadata": {},
     "output_type": "execute_result"
    }
   ],
   "source": [
    "df.columns# проверка результатов - перечень названий столбцов"
   ]
  },
  {
   "cell_type": "markdown",
   "metadata": {},
   "source": [
    "<div class=\"alert alert-warning\">\n",
    "<b>Комментарий ревьюера ⚠️:</b> В Jupyter Notebook не обязательно указывать print для отображения результата, отображение данных можно получить просто написав: df.columns"
   ]
  },
  {
   "cell_type": "markdown",
   "metadata": {
    "id": "5ISfbcfY_Zct"
   },
   "source": [
    "### Пропуски значений\n",
    "Сначала посчитайте, сколько в таблице пропущенных значений. Для этого достаточно двух методов `pandas`:"
   ]
  },
  {
   "cell_type": "code",
   "execution_count": 8,
   "metadata": {
    "id": "RskX29qr_Zct"
   },
   "outputs": [
    {
     "data": {
      "text/plain": [
       "user_id       0\n",
       "track      1231\n",
       "artist     7203\n",
       "genre      1198\n",
       "city          0\n",
       "time          0\n",
       "day           0\n",
       "dtype: int64"
      ]
     },
     "execution_count": 8,
     "metadata": {},
     "output_type": "execute_result"
    }
   ],
   "source": [
    "df.isna().sum()# подсчёт пропусков"
   ]
  },
  {
   "cell_type": "markdown",
   "metadata": {},
   "source": [
    "<div class=\"alert alert-success\">\n",
    "<b>Комментарий ревьюера ✔️:</b> Выбран метод isna() для нахождения пропущенных значений, это отлично! На самом деле, isnull() и isna() делают одно и то же, но использование isna() предпочтительнее. </div>"
   ]
  },
  {
   "cell_type": "markdown",
   "metadata": {
    "id": "qubhgnlO_Zct"
   },
   "source": [
    "Не все пропущенные значения влияют на исследование. Так в `track` и `artist` пропуски не важны для вашей работы. Достаточно заменить их явными обозначениями.\n",
    "\n",
    "Но пропуски в `genre` могут помешать сравнению музыкальных вкусов в Москве и Санкт-Петербурге. На практике было бы правильно установить причину пропусков и восстановить данные. Такой возможности нет в учебном проекте. Придётся:\n",
    "* заполнить и эти пропуски явными обозначениями,\n",
    "* оценить, насколько они повредят расчётам. "
   ]
  },
  {
   "cell_type": "markdown",
   "metadata": {
    "id": "fSv2laPA_Zct"
   },
   "source": [
    "Замените пропущенные значения в столбцах `track`, `artist` и `genre` на строку `'unknown'`. Для этого создайте список `columns_to_replace`, переберите его элементы циклом `for` и для каждого столбца выполните замену пропущенных значений:"
   ]
  },
  {
   "cell_type": "code",
   "execution_count": 9,
   "metadata": {
    "id": "KplB5qWs_Zct"
   },
   "outputs": [],
   "source": [
    "columns_to_replace = ['track', 'artist', 'genre']\n",
    "for column in columns_to_replace:\n",
    "    df[column] = df[column].fillna('unknown')# перебор названий столбцов в цикле и замена пропущенных значений на 'unknown'"
   ]
  },
  {
   "cell_type": "markdown",
   "metadata": {},
   "source": [
    "<div class=\"alert alert-success\">\n",
    "<b>Комментарий ревьюера ✔️:</b> Здорово, всё абсолютно верно! </div>"
   ]
  },
  {
   "cell_type": "markdown",
   "metadata": {
    "id": "Ilsm-MZo_Zct"
   },
   "source": [
    "Убедитесь, что в таблице не осталось пропусков. Для этого ещё раз посчитайте пропущенные значения."
   ]
  },
  {
   "cell_type": "code",
   "execution_count": 10,
   "metadata": {
    "id": "Tq4nYRX4_Zct"
   },
   "outputs": [
    {
     "data": {
      "text/plain": [
       "user_id    0\n",
       "track      0\n",
       "artist     0\n",
       "genre      0\n",
       "city       0\n",
       "time       0\n",
       "day        0\n",
       "dtype: int64"
      ]
     },
     "execution_count": 10,
     "metadata": {},
     "output_type": "execute_result"
    }
   ],
   "source": [
    "df.isna().sum()# подсчёт пропусков"
   ]
  },
  {
   "cell_type": "markdown",
   "metadata": {},
   "source": [
    "<div class=\"alert alert-success\">\n",
    "<b>Комментарий ревьюера ✔️:</b> Отлично, пропусков теперь нет </div>"
   ]
  },
  {
   "cell_type": "markdown",
   "metadata": {
    "id": "BWKRtBJ3_Zct"
   },
   "source": [
    "### Дубликаты\n",
    "Посчитайте явные дубликаты в таблице одной командой:"
   ]
  },
  {
   "cell_type": "code",
   "execution_count": 11,
   "metadata": {
    "id": "36eES_S0_Zct"
   },
   "outputs": [
    {
     "data": {
      "text/plain": [
       "3826"
      ]
     },
     "execution_count": 11,
     "metadata": {},
     "output_type": "execute_result"
    }
   ],
   "source": [
    "df.duplicated().sum()# подсчёт явных дубликатов"
   ]
  },
  {
   "cell_type": "markdown",
   "metadata": {},
   "source": [
    "<div class=\"alert alert-success\">\n",
    "<b>Комментарий ревьюера ✔️:</b> Дубликаты верно найдены и посчитаны оптимальными методами."
   ]
  },
  {
   "cell_type": "markdown",
   "metadata": {
    "id": "Ot25h6XR_Zct"
   },
   "source": [
    "Вызовите специальный метод `pandas`, чтобы удалить явные дубликаты:"
   ]
  },
  {
   "cell_type": "code",
   "execution_count": 12,
   "metadata": {
    "id": "exFHq6tt_Zct"
   },
   "outputs": [],
   "source": [
    "df = df.drop_duplicates().reset_index(drop=True)# удаление явных дубликатов (с удалением старых индексов и формированием новых)"
   ]
  },
  {
   "cell_type": "markdown",
   "metadata": {},
   "source": [
    "<div class=\"alert alert-success\">\n",
    "<b>Комментарий ревьюера ✔️:</b> Дубликаты удалены и исправлены совершенно верно!"
   ]
  },
  {
   "cell_type": "markdown",
   "metadata": {
    "id": "Im2YwBEG_Zct"
   },
   "source": [
    "Ещё раз посчитайте явные дубликаты в таблице — убедитесь, что полностью от них избавились:"
   ]
  },
  {
   "cell_type": "code",
   "execution_count": 13,
   "metadata": {
    "id": "-8PuNWQ0_Zct"
   },
   "outputs": [
    {
     "data": {
      "text/plain": [
       "0"
      ]
     },
     "execution_count": 13,
     "metadata": {},
     "output_type": "execute_result"
    }
   ],
   "source": [
    "df.duplicated().sum()# проверка на отсутствие дубликатов"
   ]
  },
  {
   "cell_type": "markdown",
   "metadata": {},
   "source": [
    "<div class=\"alert alert-success\">\n",
    "<b>Комментарий ревьюера ✔️:</b> Дубликатов больше нет, молодец."
   ]
  },
  {
   "cell_type": "markdown",
   "metadata": {
    "id": "QlFBsxAr_Zct"
   },
   "source": [
    "Теперь избавьтесь от неявных дубликатов в колонке `genre`. Например, название одного и того же жанра может быть записано немного по-разному. Такие ошибки тоже повлияют на результат исследования."
   ]
  },
  {
   "cell_type": "markdown",
   "metadata": {
    "id": "eSjWwsOh_Zct"
   },
   "source": [
    "Выведите на экран список уникальных названий жанров, отсортированный в алфавитном порядке. Для этого:\n",
    "* извлеките нужный столбец датафрейма, \n",
    "* примените к нему метод сортировки,\n",
    "* для отсортированного столбца вызовите метод, который вернёт уникальные значения из столбца."
   ]
  },
  {
   "cell_type": "code",
   "execution_count": 14,
   "metadata": {
    "id": "JIUcqzZN_Zct",
    "scrolled": false
   },
   "outputs": [
    {
     "data": {
      "text/plain": [
       "['acid',\n",
       " 'acoustic',\n",
       " 'action',\n",
       " 'adult',\n",
       " 'africa',\n",
       " 'afrikaans',\n",
       " 'alternative',\n",
       " 'alternativepunk',\n",
       " 'ambient',\n",
       " 'americana',\n",
       " 'animated',\n",
       " 'anime',\n",
       " 'arabesk',\n",
       " 'arabic',\n",
       " 'arena',\n",
       " 'argentinetango',\n",
       " 'art',\n",
       " 'audiobook',\n",
       " 'author',\n",
       " 'avantgarde',\n",
       " 'axé',\n",
       " 'baile',\n",
       " 'balkan',\n",
       " 'beats',\n",
       " 'bigroom',\n",
       " 'black',\n",
       " 'bluegrass',\n",
       " 'blues',\n",
       " 'bollywood',\n",
       " 'bossa',\n",
       " 'brazilian',\n",
       " 'breakbeat',\n",
       " 'breaks',\n",
       " 'broadway',\n",
       " 'cantautori',\n",
       " 'cantopop',\n",
       " 'canzone',\n",
       " 'caribbean',\n",
       " 'caucasian',\n",
       " 'celtic',\n",
       " 'chamber',\n",
       " 'chanson',\n",
       " 'children',\n",
       " 'chill',\n",
       " 'chinese',\n",
       " 'choral',\n",
       " 'christian',\n",
       " 'christmas',\n",
       " 'classical',\n",
       " 'classicmetal',\n",
       " 'club',\n",
       " 'colombian',\n",
       " 'comedy',\n",
       " 'conjazz',\n",
       " 'contemporary',\n",
       " 'country',\n",
       " 'cuban',\n",
       " 'dance',\n",
       " 'dancehall',\n",
       " 'dancepop',\n",
       " 'dark',\n",
       " 'death',\n",
       " 'deep',\n",
       " 'deutschrock',\n",
       " 'deutschspr',\n",
       " 'dirty',\n",
       " 'disco',\n",
       " 'dnb',\n",
       " 'documentary',\n",
       " 'downbeat',\n",
       " 'downtempo',\n",
       " 'drum',\n",
       " 'dub',\n",
       " 'dubstep',\n",
       " 'eastern',\n",
       " 'easy',\n",
       " 'electronic',\n",
       " 'electropop',\n",
       " 'emo',\n",
       " 'entehno',\n",
       " 'epicmetal',\n",
       " 'estrada',\n",
       " 'ethnic',\n",
       " 'eurofolk',\n",
       " 'european',\n",
       " 'experimental',\n",
       " 'extrememetal',\n",
       " 'fado',\n",
       " 'fairytail',\n",
       " 'film',\n",
       " 'fitness',\n",
       " 'flamenco',\n",
       " 'folk',\n",
       " 'folklore',\n",
       " 'folkmetal',\n",
       " 'folkrock',\n",
       " 'folktronica',\n",
       " 'forró',\n",
       " 'frankreich',\n",
       " 'französisch',\n",
       " 'french',\n",
       " 'funk',\n",
       " 'future',\n",
       " 'gangsta',\n",
       " 'garage',\n",
       " 'german',\n",
       " 'ghazal',\n",
       " 'gitarre',\n",
       " 'glitch',\n",
       " 'gospel',\n",
       " 'gothic',\n",
       " 'grime',\n",
       " 'grunge',\n",
       " 'gypsy',\n",
       " 'handsup',\n",
       " \"hard'n'heavy\",\n",
       " 'hardcore',\n",
       " 'hardstyle',\n",
       " 'hardtechno',\n",
       " 'hip',\n",
       " 'hip-hop',\n",
       " 'hiphop',\n",
       " 'historisch',\n",
       " 'holiday',\n",
       " 'hop',\n",
       " 'horror',\n",
       " 'house',\n",
       " 'hymn',\n",
       " 'idm',\n",
       " 'independent',\n",
       " 'indian',\n",
       " 'indie',\n",
       " 'indipop',\n",
       " 'industrial',\n",
       " 'inspirational',\n",
       " 'instrumental',\n",
       " 'international',\n",
       " 'irish',\n",
       " 'jam',\n",
       " 'japanese',\n",
       " 'jazz',\n",
       " 'jewish',\n",
       " 'jpop',\n",
       " 'jungle',\n",
       " 'k-pop',\n",
       " 'karadeniz',\n",
       " 'karaoke',\n",
       " 'kayokyoku',\n",
       " 'korean',\n",
       " 'laiko',\n",
       " 'latin',\n",
       " 'latino',\n",
       " 'leftfield',\n",
       " 'local',\n",
       " 'lounge',\n",
       " 'loungeelectronic',\n",
       " 'lovers',\n",
       " 'malaysian',\n",
       " 'mandopop',\n",
       " 'marschmusik',\n",
       " 'meditative',\n",
       " 'mediterranean',\n",
       " 'melodic',\n",
       " 'metal',\n",
       " 'metalcore',\n",
       " 'mexican',\n",
       " 'middle',\n",
       " 'minimal',\n",
       " 'miscellaneous',\n",
       " 'modern',\n",
       " 'mood',\n",
       " 'mpb',\n",
       " 'muslim',\n",
       " 'native',\n",
       " 'neoklassik',\n",
       " 'neue',\n",
       " 'new',\n",
       " 'newage',\n",
       " 'newwave',\n",
       " 'nu',\n",
       " 'nujazz',\n",
       " 'numetal',\n",
       " 'oceania',\n",
       " 'old',\n",
       " 'opera',\n",
       " 'orchestral',\n",
       " 'other',\n",
       " 'piano',\n",
       " 'podcasts',\n",
       " 'pop',\n",
       " 'popdance',\n",
       " 'popelectronic',\n",
       " 'popeurodance',\n",
       " 'poprussian',\n",
       " 'post',\n",
       " 'posthardcore',\n",
       " 'postrock',\n",
       " 'power',\n",
       " 'progmetal',\n",
       " 'progressive',\n",
       " 'psychedelic',\n",
       " 'punjabi',\n",
       " 'punk',\n",
       " 'quebecois',\n",
       " 'ragga',\n",
       " 'ram',\n",
       " 'rancheras',\n",
       " 'rap',\n",
       " 'rave',\n",
       " 'reggae',\n",
       " 'reggaeton',\n",
       " 'regional',\n",
       " 'relax',\n",
       " 'religious',\n",
       " 'retro',\n",
       " 'rhythm',\n",
       " 'rnb',\n",
       " 'rnr',\n",
       " 'rock',\n",
       " 'rockabilly',\n",
       " 'rockalternative',\n",
       " 'rockindie',\n",
       " 'rockother',\n",
       " 'romance',\n",
       " 'roots',\n",
       " 'ruspop',\n",
       " 'rusrap',\n",
       " 'rusrock',\n",
       " 'russian',\n",
       " 'salsa',\n",
       " 'samba',\n",
       " 'scenic',\n",
       " 'schlager',\n",
       " 'self',\n",
       " 'sertanejo',\n",
       " 'shanson',\n",
       " 'shoegazing',\n",
       " 'showtunes',\n",
       " 'singer',\n",
       " 'ska',\n",
       " 'skarock',\n",
       " 'slow',\n",
       " 'smooth',\n",
       " 'soft',\n",
       " 'soul',\n",
       " 'soulful',\n",
       " 'sound',\n",
       " 'soundtrack',\n",
       " 'southern',\n",
       " 'specialty',\n",
       " 'speech',\n",
       " 'spiritual',\n",
       " 'sport',\n",
       " 'stonerrock',\n",
       " 'surf',\n",
       " 'swing',\n",
       " 'synthpop',\n",
       " 'synthrock',\n",
       " 'sängerportrait',\n",
       " 'tango',\n",
       " 'tanzorchester',\n",
       " 'taraftar',\n",
       " 'tatar',\n",
       " 'tech',\n",
       " 'techno',\n",
       " 'teen',\n",
       " 'thrash',\n",
       " 'top',\n",
       " 'traditional',\n",
       " 'tradjazz',\n",
       " 'trance',\n",
       " 'tribal',\n",
       " 'trip',\n",
       " 'triphop',\n",
       " 'tropical',\n",
       " 'türk',\n",
       " 'türkçe',\n",
       " 'ukrrock',\n",
       " 'unknown',\n",
       " 'urban',\n",
       " 'uzbek',\n",
       " 'variété',\n",
       " 'vi',\n",
       " 'videogame',\n",
       " 'vocal',\n",
       " 'western',\n",
       " 'world',\n",
       " 'worldbeat',\n",
       " 'ïîï',\n",
       " 'электроника']"
      ]
     },
     "execution_count": 14,
     "metadata": {},
     "output_type": "execute_result"
    }
   ],
   "source": [
    "sorted(df['genre'].unique())# Просмотр уникальных названий жанров"
   ]
  },
  {
   "cell_type": "markdown",
   "metadata": {},
   "source": [
    "<div class=\"alert alert-success\">\n",
    "<b>Комментарий ревьюера ✔️:</b> Функция выбрана абсолютно точно! А еще код можно было написать вот так: df['genre'].sort_values().unique()"
   ]
  },
  {
   "cell_type": "markdown",
   "metadata": {
    "id": "qej-Qmuo_Zct"
   },
   "source": [
    "Просмотрите список и найдите неявные дубликаты названия `hiphop`. Это могут быть названия с ошибками или альтернативные названия того же жанра.\n",
    "\n",
    "Вы увидите следующие неявные дубликаты:\n",
    "* *hip*,\n",
    "* *hop*,\n",
    "* *hip-hop*.\n",
    "\n",
    "Чтобы очистить от них таблицу, напишите функцию `replace_wrong_genres()` с двумя параметрами: \n",
    "* `wrong_genres` — список дубликатов,\n",
    "* `correct_genre` — строка с правильным значением.\n",
    "\n",
    "Функция должна исправить колонку `genre` в таблице `df`: заменить каждое значение из списка `wrong_genres` на значение из `correct_genre`."
   ]
  },
  {
   "cell_type": "code",
   "execution_count": 15,
   "metadata": {
    "id": "ErNDkmns_Zct"
   },
   "outputs": [],
   "source": [
    "def replace_wrong_genres(wrong_genres, correct_genre):\n",
    "    df['genre'] = df['genre'].replace(wrong_genres,correct_genre)# Функция для замены неявных дубликатов"
   ]
  },
  {
   "cell_type": "markdown",
   "metadata": {},
   "source": [
    "<div class=\"alert alert-success\">\n",
    "<b>Комментарий ревьюера ✔️:</b> Функция написана верно!"
   ]
  },
  {
   "cell_type": "markdown",
   "metadata": {
    "id": "aDoBJxbA_Zct"
   },
   "source": [
    "Вызовите `replace_wrong_genres()` и передайте ей такие аргументы, чтобы она устранила неявные дубликаты: вместо `hip`, `hop` и `hip-hop` в таблице должно быть значение `hiphop`; вместо `электроника` значение `electronic`:"
   ]
  },
  {
   "cell_type": "code",
   "execution_count": 16,
   "metadata": {
    "id": "YN5i2hpmSo09"
   },
   "outputs": [],
   "source": [
    "wrong_genres_hiphop = ['hip', 'hop', 'hip-hop']\n",
    "for genre in wrong_genres_hiphop:\n",
    "    replace_wrong_genres(genre, 'hiphop')\n",
    "df['genre'] = df['genre'].replace('электроника', 'electronic')# Устранение неявных дубликатов"
   ]
  },
  {
   "cell_type": "markdown",
   "metadata": {
    "id": "zQKF16_RG15m"
   },
   "source": [
    "Проверьте, что заменили неправильные названия:\n",
    "\n",
    "*   hip\n",
    "*   hop\n",
    "*   hip-hop\n",
    "*   электроника\n",
    "\n",
    "Выведите отсортированный список уникальных значений столбца `genre`:"
   ]
  },
  {
   "cell_type": "code",
   "execution_count": 17,
   "metadata": {
    "id": "wvixALnFG15m",
    "scrolled": false
   },
   "outputs": [
    {
     "data": {
      "text/plain": [
       "['acid',\n",
       " 'acoustic',\n",
       " 'action',\n",
       " 'adult',\n",
       " 'africa',\n",
       " 'afrikaans',\n",
       " 'alternative',\n",
       " 'alternativepunk',\n",
       " 'ambient',\n",
       " 'americana',\n",
       " 'animated',\n",
       " 'anime',\n",
       " 'arabesk',\n",
       " 'arabic',\n",
       " 'arena',\n",
       " 'argentinetango',\n",
       " 'art',\n",
       " 'audiobook',\n",
       " 'author',\n",
       " 'avantgarde',\n",
       " 'axé',\n",
       " 'baile',\n",
       " 'balkan',\n",
       " 'beats',\n",
       " 'bigroom',\n",
       " 'black',\n",
       " 'bluegrass',\n",
       " 'blues',\n",
       " 'bollywood',\n",
       " 'bossa',\n",
       " 'brazilian',\n",
       " 'breakbeat',\n",
       " 'breaks',\n",
       " 'broadway',\n",
       " 'cantautori',\n",
       " 'cantopop',\n",
       " 'canzone',\n",
       " 'caribbean',\n",
       " 'caucasian',\n",
       " 'celtic',\n",
       " 'chamber',\n",
       " 'chanson',\n",
       " 'children',\n",
       " 'chill',\n",
       " 'chinese',\n",
       " 'choral',\n",
       " 'christian',\n",
       " 'christmas',\n",
       " 'classical',\n",
       " 'classicmetal',\n",
       " 'club',\n",
       " 'colombian',\n",
       " 'comedy',\n",
       " 'conjazz',\n",
       " 'contemporary',\n",
       " 'country',\n",
       " 'cuban',\n",
       " 'dance',\n",
       " 'dancehall',\n",
       " 'dancepop',\n",
       " 'dark',\n",
       " 'death',\n",
       " 'deep',\n",
       " 'deutschrock',\n",
       " 'deutschspr',\n",
       " 'dirty',\n",
       " 'disco',\n",
       " 'dnb',\n",
       " 'documentary',\n",
       " 'downbeat',\n",
       " 'downtempo',\n",
       " 'drum',\n",
       " 'dub',\n",
       " 'dubstep',\n",
       " 'eastern',\n",
       " 'easy',\n",
       " 'electronic',\n",
       " 'electropop',\n",
       " 'emo',\n",
       " 'entehno',\n",
       " 'epicmetal',\n",
       " 'estrada',\n",
       " 'ethnic',\n",
       " 'eurofolk',\n",
       " 'european',\n",
       " 'experimental',\n",
       " 'extrememetal',\n",
       " 'fado',\n",
       " 'fairytail',\n",
       " 'film',\n",
       " 'fitness',\n",
       " 'flamenco',\n",
       " 'folk',\n",
       " 'folklore',\n",
       " 'folkmetal',\n",
       " 'folkrock',\n",
       " 'folktronica',\n",
       " 'forró',\n",
       " 'frankreich',\n",
       " 'französisch',\n",
       " 'french',\n",
       " 'funk',\n",
       " 'future',\n",
       " 'gangsta',\n",
       " 'garage',\n",
       " 'german',\n",
       " 'ghazal',\n",
       " 'gitarre',\n",
       " 'glitch',\n",
       " 'gospel',\n",
       " 'gothic',\n",
       " 'grime',\n",
       " 'grunge',\n",
       " 'gypsy',\n",
       " 'handsup',\n",
       " \"hard'n'heavy\",\n",
       " 'hardcore',\n",
       " 'hardstyle',\n",
       " 'hardtechno',\n",
       " 'hiphop',\n",
       " 'historisch',\n",
       " 'holiday',\n",
       " 'horror',\n",
       " 'house',\n",
       " 'hymn',\n",
       " 'idm',\n",
       " 'independent',\n",
       " 'indian',\n",
       " 'indie',\n",
       " 'indipop',\n",
       " 'industrial',\n",
       " 'inspirational',\n",
       " 'instrumental',\n",
       " 'international',\n",
       " 'irish',\n",
       " 'jam',\n",
       " 'japanese',\n",
       " 'jazz',\n",
       " 'jewish',\n",
       " 'jpop',\n",
       " 'jungle',\n",
       " 'k-pop',\n",
       " 'karadeniz',\n",
       " 'karaoke',\n",
       " 'kayokyoku',\n",
       " 'korean',\n",
       " 'laiko',\n",
       " 'latin',\n",
       " 'latino',\n",
       " 'leftfield',\n",
       " 'local',\n",
       " 'lounge',\n",
       " 'loungeelectronic',\n",
       " 'lovers',\n",
       " 'malaysian',\n",
       " 'mandopop',\n",
       " 'marschmusik',\n",
       " 'meditative',\n",
       " 'mediterranean',\n",
       " 'melodic',\n",
       " 'metal',\n",
       " 'metalcore',\n",
       " 'mexican',\n",
       " 'middle',\n",
       " 'minimal',\n",
       " 'miscellaneous',\n",
       " 'modern',\n",
       " 'mood',\n",
       " 'mpb',\n",
       " 'muslim',\n",
       " 'native',\n",
       " 'neoklassik',\n",
       " 'neue',\n",
       " 'new',\n",
       " 'newage',\n",
       " 'newwave',\n",
       " 'nu',\n",
       " 'nujazz',\n",
       " 'numetal',\n",
       " 'oceania',\n",
       " 'old',\n",
       " 'opera',\n",
       " 'orchestral',\n",
       " 'other',\n",
       " 'piano',\n",
       " 'podcasts',\n",
       " 'pop',\n",
       " 'popdance',\n",
       " 'popelectronic',\n",
       " 'popeurodance',\n",
       " 'poprussian',\n",
       " 'post',\n",
       " 'posthardcore',\n",
       " 'postrock',\n",
       " 'power',\n",
       " 'progmetal',\n",
       " 'progressive',\n",
       " 'psychedelic',\n",
       " 'punjabi',\n",
       " 'punk',\n",
       " 'quebecois',\n",
       " 'ragga',\n",
       " 'ram',\n",
       " 'rancheras',\n",
       " 'rap',\n",
       " 'rave',\n",
       " 'reggae',\n",
       " 'reggaeton',\n",
       " 'regional',\n",
       " 'relax',\n",
       " 'religious',\n",
       " 'retro',\n",
       " 'rhythm',\n",
       " 'rnb',\n",
       " 'rnr',\n",
       " 'rock',\n",
       " 'rockabilly',\n",
       " 'rockalternative',\n",
       " 'rockindie',\n",
       " 'rockother',\n",
       " 'romance',\n",
       " 'roots',\n",
       " 'ruspop',\n",
       " 'rusrap',\n",
       " 'rusrock',\n",
       " 'russian',\n",
       " 'salsa',\n",
       " 'samba',\n",
       " 'scenic',\n",
       " 'schlager',\n",
       " 'self',\n",
       " 'sertanejo',\n",
       " 'shanson',\n",
       " 'shoegazing',\n",
       " 'showtunes',\n",
       " 'singer',\n",
       " 'ska',\n",
       " 'skarock',\n",
       " 'slow',\n",
       " 'smooth',\n",
       " 'soft',\n",
       " 'soul',\n",
       " 'soulful',\n",
       " 'sound',\n",
       " 'soundtrack',\n",
       " 'southern',\n",
       " 'specialty',\n",
       " 'speech',\n",
       " 'spiritual',\n",
       " 'sport',\n",
       " 'stonerrock',\n",
       " 'surf',\n",
       " 'swing',\n",
       " 'synthpop',\n",
       " 'synthrock',\n",
       " 'sängerportrait',\n",
       " 'tango',\n",
       " 'tanzorchester',\n",
       " 'taraftar',\n",
       " 'tatar',\n",
       " 'tech',\n",
       " 'techno',\n",
       " 'teen',\n",
       " 'thrash',\n",
       " 'top',\n",
       " 'traditional',\n",
       " 'tradjazz',\n",
       " 'trance',\n",
       " 'tribal',\n",
       " 'trip',\n",
       " 'triphop',\n",
       " 'tropical',\n",
       " 'türk',\n",
       " 'türkçe',\n",
       " 'ukrrock',\n",
       " 'unknown',\n",
       " 'urban',\n",
       " 'uzbek',\n",
       " 'variété',\n",
       " 'vi',\n",
       " 'videogame',\n",
       " 'vocal',\n",
       " 'western',\n",
       " 'world',\n",
       " 'worldbeat',\n",
       " 'ïîï']"
      ]
     },
     "execution_count": 17,
     "metadata": {},
     "output_type": "execute_result"
    }
   ],
   "source": [
    "sorted(df['genre'].unique())# Проверка на неявные дубликаты"
   ]
  },
  {
   "cell_type": "markdown",
   "metadata": {},
   "source": [
    "<div class=\"alert alert-success\">\n",
    "<b>Комментарий ревьюера ✔️:</b> Список с названиями жанров отсортирован успешно и функция правильно применена, молодец! А еще код можно было написать вот так: df['genre'].sort_values().unique()"
   ]
  },
  {
   "cell_type": "markdown",
   "metadata": {
    "id": "jz6a9-7HQUDd"
   },
   "source": [
    "**Выводы**\n",
    "\n",
    "Предобработка обнаружила три проблемы в данных:\n",
    "\n",
    "- нарушения в стиле заголовков,\n",
    "- пропущенные значения,\n",
    "- дубликаты — явные и неявные.\n",
    "\n",
    "Вы исправили заголовки, чтобы упростить работу с таблицей. Без дубликатов исследование станет более точным.\n",
    "\n",
    "Пропущенные значения вы заменили на `'unknown'`. Ещё предстоит увидеть, не повредят ли исследованию пропуски в колонке `genre`.\n",
    "\n",
    "Теперь можно перейти к проверке гипотез. "
   ]
  },
  {
   "cell_type": "markdown",
   "metadata": {},
   "source": [
    "<div class=\"alert alert-success\">\n",
    "<b>Комментарий ревьюера ✔️:</b> Здорово. как же много всего мы уже сделали, на самое интересное нас ещё ждет впереди!"
   ]
  },
  {
   "cell_type": "markdown",
   "metadata": {
    "id": "WttZHXH0SqKk"
   },
   "source": [
    "## Проверка гипотез"
   ]
  },
  {
   "cell_type": "markdown",
   "metadata": {
    "id": "Im936VVi_Zcu"
   },
   "source": [
    "### Сравнение поведения пользователей двух столиц"
   ]
  },
  {
   "cell_type": "markdown",
   "metadata": {
    "id": "nwt_MuaL_Zcu"
   },
   "source": [
    "Первая гипотеза утверждает, что пользователи по-разному слушают музыку в Москве и Санкт-Петербурге. Проверьте это предположение по данным о трёх днях недели — понедельнике, среде и пятнице. Для этого:\n",
    "\n",
    "* Разделите пользователей Москвы и Санкт-Петербурга\n",
    "* Сравните, сколько треков послушала каждая группа пользователей в понедельник, среду и пятницу.\n"
   ]
  },
  {
   "cell_type": "markdown",
   "metadata": {
    "id": "8Dw_YMmT_Zcu"
   },
   "source": [
    "Для тренировки сначала выполните каждый из расчётов по отдельности. \n",
    "\n",
    "Оцените активность пользователей в каждом городе. Сгруппируйте данные по городу и посчитайте прослушивания в каждой группе.\n",
    "\n"
   ]
  },
  {
   "cell_type": "code",
   "execution_count": 18,
   "metadata": {
    "id": "0_Qs96oh_Zcu"
   },
   "outputs": [
    {
     "data": {
      "text/plain": [
       "city\n",
       "Moscow              42741\n",
       "Saint-Petersburg    18512\n",
       "Name: track, dtype: int64"
      ]
     },
     "execution_count": 18,
     "metadata": {},
     "output_type": "execute_result"
    }
   ],
   "source": [
    "df.groupby('city')['track'].count()# Подсчёт прослушиваний в каждом городе"
   ]
  },
  {
   "cell_type": "markdown",
   "metadata": {},
   "source": [
    "<div class=\"alert alert-success\">\n",
    "<b>Комментарий ревьюера ✔️:</b> Идеально"
   ]
  },
  {
   "cell_type": "markdown",
   "metadata": {
    "id": "dzli3w8o_Zcu"
   },
   "source": [
    "В Москве прослушиваний больше, чем в Петербурге. Из этого не следует, что московские пользователи чаще слушают музыку. Просто самих пользователей в Москве больше.\n",
    "\n",
    "Теперь сгруппируйте данные по дню недели и подсчитайте прослушивания в понедельник, среду и пятницу. Учтите, что в данных есть информация только о прослушиваниях только за эти дни.\n"
   ]
  },
  {
   "cell_type": "code",
   "execution_count": 19,
   "metadata": {
    "id": "uZMKjiJz_Zcu"
   },
   "outputs": [
    {
     "data": {
      "text/plain": [
       "day\n",
       "Friday       21840\n",
       "Monday       21354\n",
       "Wednesday    18059\n",
       "Name: track, dtype: int64"
      ]
     },
     "execution_count": 19,
     "metadata": {},
     "output_type": "execute_result"
    }
   ],
   "source": [
    "df.groupby('day')['track'].count()# Подсчёт прослушиваний в каждый из трёх дней"
   ]
  },
  {
   "cell_type": "markdown",
   "metadata": {},
   "source": [
    "<div class=\"alert alert-success\">\n",
    "<b>Комментарий ревьюера ✔️:</b> Снова то, что надо"
   ]
  },
  {
   "cell_type": "markdown",
   "metadata": {
    "id": "cC2tNrlL_Zcu"
   },
   "source": [
    "В среднем пользователи из двух городов менее активны по средам. Но картина может измениться, если рассмотреть каждый город в отдельности."
   ]
  },
  {
   "cell_type": "markdown",
   "metadata": {
    "id": "POzs8bGa_Zcu"
   },
   "source": [
    "Вы видели, как работает группировка по городу и по дням недели. Теперь напишите функцию, которая объединит два эти расчёта.\n",
    "\n",
    "Создайте функцию `number_tracks()`, которая посчитает прослушивания для заданного дня и города. Ей понадобятся два параметра:\n",
    "* день недели,\n",
    "* название города.\n",
    "\n",
    "В функции сохраните в переменную строки исходной таблицы, у которых значение:\n",
    "  * в колонке `day` равно параметру `day`,\n",
    "  * в колонке `city` равно параметру `city`.\n",
    "\n",
    "Для этого примените последовательную фильтрацию с логической индексацией.\n",
    "\n",
    "Затем посчитайте значения в столбце `user_id` получившейся таблицы. Результат сохраните в новую переменную. Верните эту переменную из функции."
   ]
  },
  {
   "cell_type": "code",
   "execution_count": 20,
   "metadata": {
    "id": "Nz3GdQB1_Zcu"
   },
   "outputs": [],
   "source": [
    "# <создание функции number_tracks()>\n",
    "def number_tracks(day,city):# Объявляется функция с двумя параметрами: day, city.\n",
    "    track_list = df[df['city']==city]# В переменной track_list сохраняются те строки таблицы df, для которых \n",
    "    track_list = track_list[track_list['day']==day]# значение в столбце 'day' равно параметру day и одновременно значение\n",
    "# в столбце 'city' равно параметру city (используйте последовательную фильтрацию\n",
    "# с помощью логической индексации).\n",
    "    track_list_count = track_list['user_id'].count()# В переменной track_list_count сохраняется число значений столбца 'user_id',\n",
    "# рассчитанное методом count() для таблицы track_list.\n",
    "    return track_list_count# Функция возвращает число - значение track_list_count.\n",
    "\n",
    "# Функция для подсчёта прослушиваний для конкретного города и дня.\n",
    "# С помощью последовательной фильтрации с логической индексацией она \n",
    "# сначала получит из исходной таблицы строки с нужным днём,\n",
    "# затем из результата отфильтрует строки с нужным городом,\n",
    "# методом count() посчитает количество значений в колонке user_id. \n",
    "# Это количество функция вернёт в качестве результата"
   ]
  },
  {
   "cell_type": "markdown",
   "metadata": {},
   "source": [
    "<div class=\"alert alert-success\">\n",
    "<b>Комментарий ревьюера ✔️:</b> Твоя функция полностью выполняет свои задачи."
   ]
  },
  {
   "cell_type": "markdown",
   "metadata": {
    "id": "ytf7xFrFJQ2r"
   },
   "source": [
    "Вызовите `number_tracks()` шесть раз, меняя значение параметров — так, чтобы получить данные для каждого города в каждый из трёх дней."
   ]
  },
  {
   "cell_type": "code",
   "execution_count": 21,
   "metadata": {
    "id": "rJcRATNQ_Zcu"
   },
   "outputs": [
    {
     "data": {
      "text/plain": [
       "15740"
      ]
     },
     "execution_count": 21,
     "metadata": {},
     "output_type": "execute_result"
    }
   ],
   "source": [
    "number_tracks('Monday', 'Moscow')# количество прослушиваний в Москве по понедельникам"
   ]
  },
  {
   "cell_type": "code",
   "execution_count": 22,
   "metadata": {
    "id": "hq_ncZ5T_Zcu"
   },
   "outputs": [
    {
     "data": {
      "text/plain": [
       "5614"
      ]
     },
     "execution_count": 22,
     "metadata": {},
     "output_type": "execute_result"
    }
   ],
   "source": [
    "number_tracks('Monday', 'Saint-Petersburg')# количество прослушиваний в Санкт-Петербурге по понедельникам"
   ]
  },
  {
   "cell_type": "code",
   "execution_count": 23,
   "metadata": {
    "id": "_NTy2VPU_Zcu"
   },
   "outputs": [
    {
     "data": {
      "text/plain": [
       "11056"
      ]
     },
     "execution_count": 23,
     "metadata": {},
     "output_type": "execute_result"
    }
   ],
   "source": [
    "number_tracks('Wednesday', 'Moscow')# количество прослушиваний в Москве по средам"
   ]
  },
  {
   "cell_type": "code",
   "execution_count": 24,
   "metadata": {
    "id": "j2y3TAwo_Zcu"
   },
   "outputs": [
    {
     "data": {
      "text/plain": [
       "7003"
      ]
     },
     "execution_count": 24,
     "metadata": {},
     "output_type": "execute_result"
    }
   ],
   "source": [
    "number_tracks('Wednesday', 'Saint-Petersburg')# количество прослушиваний в Санкт-Петербурге по средам"
   ]
  },
  {
   "cell_type": "code",
   "execution_count": 25,
   "metadata": {
    "id": "vYDw5u_K_Zcu"
   },
   "outputs": [
    {
     "data": {
      "text/plain": [
       "15945"
      ]
     },
     "execution_count": 25,
     "metadata": {},
     "output_type": "execute_result"
    }
   ],
   "source": [
    "number_tracks('Friday', 'Moscow')# количество прослушиваний в Москве по пятницам"
   ]
  },
  {
   "cell_type": "code",
   "execution_count": 26,
   "metadata": {
    "id": "8_yzFtW3_Zcu"
   },
   "outputs": [
    {
     "data": {
      "text/plain": [
       "5895"
      ]
     },
     "execution_count": 26,
     "metadata": {},
     "output_type": "execute_result"
    }
   ],
   "source": [
    "number_tracks('Friday', 'Saint-Petersburg')# количество прослушиваний в Санкт-Петербурге по пятницам"
   ]
  },
  {
   "cell_type": "markdown",
   "metadata": {},
   "source": [
    "<div class=\"alert alert-success\">\n",
    "<b>Комментарий ревьюера ✔️:</b> Великолепно!"
   ]
  },
  {
   "cell_type": "markdown",
   "metadata": {
    "id": "7QXffbO-_Zcu"
   },
   "source": [
    "Создайте c помощью конструктора `pd.DataFrame` таблицу, где\n",
    "* названия колонок — `['city', 'monday', 'wednesday', 'friday']`;\n",
    "* данные — результаты, которые вы получили с помощью `number_tracks`."
   ]
  },
  {
   "cell_type": "code",
   "execution_count": 37,
   "metadata": {
    "id": "APAcLpOr_Zcu"
   },
   "outputs": [
    {
     "data": {
      "text/html": [
       "<div>\n",
       "<style scoped>\n",
       "    .dataframe tbody tr th:only-of-type {\n",
       "        vertical-align: middle;\n",
       "    }\n",
       "\n",
       "    .dataframe tbody tr th {\n",
       "        vertical-align: top;\n",
       "    }\n",
       "\n",
       "    .dataframe thead th {\n",
       "        text-align: right;\n",
       "    }\n",
       "</style>\n",
       "<table border=\"1\" class=\"dataframe\">\n",
       "  <thead>\n",
       "    <tr style=\"text-align: right;\">\n",
       "      <th></th>\n",
       "      <th>city</th>\n",
       "      <th>monday</th>\n",
       "      <th>wednesday</th>\n",
       "      <th>friday</th>\n",
       "    </tr>\n",
       "  </thead>\n",
       "  <tbody>\n",
       "    <tr>\n",
       "      <td>0</td>\n",
       "      <td>Moscow</td>\n",
       "      <td>15740</td>\n",
       "      <td>11056</td>\n",
       "      <td>15945</td>\n",
       "    </tr>\n",
       "    <tr>\n",
       "      <td>1</td>\n",
       "      <td>Saint-Petersburg</td>\n",
       "      <td>5614</td>\n",
       "      <td>7003</td>\n",
       "      <td>5895</td>\n",
       "    </tr>\n",
       "  </tbody>\n",
       "</table>\n",
       "</div>"
      ],
      "text/plain": [
       "               city  monday  wednesday  friday\n",
       "0            Moscow   15740      11056   15945\n",
       "1  Saint-Petersburg    5614       7003    5895"
      ]
     },
     "execution_count": 37,
     "metadata": {},
     "output_type": "execute_result"
    }
   ],
   "source": [
    "columns_df_results = ['city', 'monday', 'wednesday', 'friday']\n",
    "results = [\n",
    "    ['Moscow',15740,11056,15945],\n",
    "    ['Saint-Petersburg',5614,7003,5895]\n",
    "]\n",
    "df_results = pd.DataFrame(data=results, columns=columns_df_results)\n",
    "display(df_results)# Таблица с результатами"
   ]
  },
  {
   "cell_type": "markdown",
   "metadata": {},
   "source": [
    "<div class=\"alert alert-success\">\n",
    "<b>Комментарий ревьюера ✔️:</b> Абсолютно верно."
   ]
  },
  {
   "cell_type": "markdown",
   "metadata": {
    "id": "-EgPIHYu_Zcu"
   },
   "source": [
    "**Выводы**\n",
    "\n",
    "Данные показывают разницу поведения пользователей:\n",
    "\n",
    "- В Москве пик прослушиваний приходится на понедельник и пятницу, а в среду заметен спад.\n",
    "- В Петербурге, наоборот, больше слушают музыку по средам. Активность в понедельник и пятницу здесь почти в равной мере уступает среде.\n",
    "\n",
    "Значит, данные говорят в пользу первой гипотезы - \"пользователи по-разному слушают музыку в Москве и Санкт-Петербурге\"."
   ]
  },
  {
   "cell_type": "markdown",
   "metadata": {
    "id": "atZAxtq4_Zcu"
   },
   "source": [
    "### Музыка в начале и в конце недели"
   ]
  },
  {
   "cell_type": "markdown",
   "metadata": {
    "id": "eXrQqXFH_Zcu"
   },
   "source": [
    "Согласно второй гипотезе, утром в понедельник в Москве преобладают одни жанры, а в Петербурге — другие. Так же и вечером пятницы преобладают разные жанры — в зависимости от города."
   ]
  },
  {
   "cell_type": "markdown",
   "metadata": {
    "id": "S8UcW6Hw_Zcu"
   },
   "source": [
    "Сохраните таблицы с данными в две переменные:\n",
    "* по Москве — в `moscow_general`;\n",
    "* по Санкт-Петербургу — в `spb_general`."
   ]
  },
  {
   "cell_type": "code",
   "execution_count": 28,
   "metadata": {
    "id": "qeaFfM_P_Zcu"
   },
   "outputs": [],
   "source": [
    "moscow_general = df[df['city']=='Moscow']# получение таблицы moscow_general из тех строк таблицы df, \n",
    "# для которых значение в столбце 'city' равно 'Moscow'\n"
   ]
  },
  {
   "cell_type": "code",
   "execution_count": 29,
   "metadata": {
    "id": "ORaVRKto_Zcu"
   },
   "outputs": [],
   "source": [
    "spb_general = df[df['city']=='Saint-Petersburg']# получение таблицы spb_general из тех строк таблицы df,\n",
    "# для которых значение в столбце 'city' равно 'Saint-Petersburg'\n"
   ]
  },
  {
   "cell_type": "markdown",
   "metadata": {},
   "source": [
    "<div class=\"alert alert-success\">\n",
    "<b>Комментарий ревьюера ✔️:</b> В точку!"
   ]
  },
  {
   "cell_type": "markdown",
   "metadata": {
    "id": "MEJV-CX2_Zcu"
   },
   "source": [
    "Создайте функцию `genre_weekday()` с четырьмя параметрами:\n",
    "* таблица (датафрейм) с данными,\n",
    "* день недели,\n",
    "* начальная временная метка в формате 'hh:mm', \n",
    "* последняя временная метка в формате 'hh:mm'.\n",
    "\n",
    "Функция должна вернуть информацию о топ-10 жанров тех треков, которые прослушивали в указанный день, в промежутке между двумя отметками времени."
   ]
  },
  {
   "cell_type": "code",
   "execution_count": 30,
   "metadata": {
    "id": "laJT9BYl_Zcu"
   },
   "outputs": [],
   "source": [
    "def genre_weekday(table, day, time1, time2):# Объявление функции genre_weekday() с параметрами table, day, time1, time2,\n",
    "# которая возвращает информацию о самых популярных жанрах в указанный день в\n",
    "# заданное время:\n",
    "# 1) в переменную genre_df сохраняются те строки переданного датафрейма table, для\n",
    "#    которых одновременно:\n",
    "    genre_df = table[table['day']==day]#    - значение в столбце day равно значению аргумента day\n",
    "    genre_df = genre_df[genre_df['time']>time1]#    - значение в столбце time больше значения аргумента time1\n",
    "    genre_df = genre_df[genre_df['time']<time2]#    - значение в столбце time меньше значения аргумента time2\n",
    "#    Используйте последовательную фильтрацию с помощью логической индексации.\n",
    "    genre_df_count = genre_df.groupby('genre')['track'].count()# 2) сгруппировать датафрейм genre_df по столбцу genre, взять один из его\n",
    "#    столбцов и посчитать методом count() количество записей для каждого из\n",
    "#    присутствующих жанров, получившийся Series записать в переменную\n",
    "#    genre_df_count\n",
    "    genre_df_sorted = genre_df_count.sort_values(ascending=False)# 3) отсортировать genre_df_count по убыванию встречаемости и сохранить\n",
    "#    в переменную genre_df_sorted\n",
    "    return genre_df_sorted.head(10)# 4) вернуть Series из 10 первых значений genre_df_sorted, это будут топ-10\n",
    "#    популярных жанров (в указанный день, в заданное время)"
   ]
  },
  {
   "cell_type": "markdown",
   "metadata": {
    "id": "la2s2_PF_Zcu"
   },
   "source": [
    "Cравните результаты функции `genre_weekday()` для Москвы и Санкт-Петербурга в понедельник утром (с 7:00 до 11:00) и в пятницу вечером (с 17:00 до 23:00):"
   ]
  },
  {
   "cell_type": "code",
   "execution_count": 31,
   "metadata": {
    "id": "yz7itPUQ_Zcu"
   },
   "outputs": [
    {
     "data": {
      "text/plain": [
       "genre\n",
       "pop            781\n",
       "dance          549\n",
       "electronic     480\n",
       "rock           474\n",
       "hiphop         286\n",
       "ruspop         186\n",
       "world          181\n",
       "rusrap         175\n",
       "alternative    164\n",
       "unknown        161\n",
       "Name: track, dtype: int64"
      ]
     },
     "execution_count": 31,
     "metadata": {},
     "output_type": "execute_result"
    }
   ],
   "source": [
    "genre_weekday(moscow_general, 'Monday', '07:00', '11:00')# вызов функции для утра понедельника в Москве (вместо df — таблица moscow_general)\n",
    "# объекты, хранящие время, являются строками и сравниваются как строки\n",
    "# пример вызова: genre_weekday(moscow_general, 'Monday', '07:00', '11:00')"
   ]
  },
  {
   "cell_type": "code",
   "execution_count": 32,
   "metadata": {
    "id": "kwUcHPdy_Zcu"
   },
   "outputs": [
    {
     "data": {
      "text/plain": [
       "genre\n",
       "pop            218\n",
       "dance          182\n",
       "rock           162\n",
       "electronic     147\n",
       "hiphop          80\n",
       "ruspop          64\n",
       "alternative     58\n",
       "rusrap          55\n",
       "jazz            44\n",
       "classical       40\n",
       "Name: track, dtype: int64"
      ]
     },
     "execution_count": 32,
     "metadata": {},
     "output_type": "execute_result"
    }
   ],
   "source": [
    "genre_weekday(spb_general, 'Monday', '07:00', '11:00')# вызов функции для утра понедельника в Петербурге (вместо df — таблица spb_general)"
   ]
  },
  {
   "cell_type": "code",
   "execution_count": 33,
   "metadata": {
    "id": "EzXVRE1o_Zcu"
   },
   "outputs": [
    {
     "data": {
      "text/plain": [
       "genre\n",
       "pop            713\n",
       "rock           517\n",
       "dance          495\n",
       "electronic     482\n",
       "hiphop         273\n",
       "world          208\n",
       "ruspop         170\n",
       "alternative    163\n",
       "classical      163\n",
       "rusrap         142\n",
       "Name: track, dtype: int64"
      ]
     },
     "execution_count": 33,
     "metadata": {},
     "output_type": "execute_result"
    }
   ],
   "source": [
    "genre_weekday(moscow_general, 'Friday', '17:00', '23:00')# вызов функции для вечера пятницы в Москве"
   ]
  },
  {
   "cell_type": "code",
   "execution_count": 34,
   "metadata": {
    "id": "JZaEKu5v_Zcu"
   },
   "outputs": [
    {
     "data": {
      "text/plain": [
       "genre\n",
       "pop            256\n",
       "rock           216\n",
       "electronic     216\n",
       "dance          210\n",
       "hiphop          97\n",
       "alternative     63\n",
       "jazz            61\n",
       "classical       60\n",
       "rusrap          59\n",
       "world           54\n",
       "Name: track, dtype: int64"
      ]
     },
     "execution_count": 34,
     "metadata": {},
     "output_type": "execute_result"
    }
   ],
   "source": [
    "genre_weekday(spb_general, 'Friday', '17:00', '23:00')# вызов функции для вечера пятницы в Петербурге"
   ]
  },
  {
   "cell_type": "markdown",
   "metadata": {},
   "source": [
    "<div class=\"alert alert-success\">\n",
    "<b>Комментарий ревьюера ✔️:</b> С помощью функции мы получили всю нужную информацию. Функция написана абсолютно верно!"
   ]
  },
  {
   "cell_type": "markdown",
   "metadata": {
    "id": "wrCe4MNX_Zcu"
   },
   "source": [
    "**Выводы**\n",
    "\n",
    "Если сравнить топ-10 жанров в понедельник утром, можно сделать такие выводы:\n",
    "\n",
    "1. В Москве и Петербурге слушают похожую музыку. Единственное отличие — в московский рейтинг вошёл жанр “world”, а в петербургский — джаз и классика.\n",
    "\n",
    "2. В Москве пропущенных значений оказалось так много, что значение `'unknown'` заняло десятое место среди самых популярных жанров. Значит, пропущенные значения занимают существенную долю в данных и угрожают достоверности исследования.\n",
    "\n",
    "Вечер пятницы не меняет эту картину. Некоторые жанры поднимаются немного выше, другие спускаются, но в целом топ-10 остаётся тем же самым.\n",
    "\n",
    "Таким образом, вторая гипотеза подтвердилась лишь частично:\n",
    "* Пользователи слушают похожую музыку в начале недели и в конце.\n",
    "* Разница между Москвой и Петербургом не слишком выражена. В Москве чаще слушают русскую популярную музыку, в Петербурге — джаз.\n",
    "\n",
    "Однако пропуски в данных ставят под сомнение этот результат. В Москве их так много, что рейтинг топ-10 мог бы выглядеть иначе, если бы не утерянные  данные о жанрах."
   ]
  },
  {
   "cell_type": "markdown",
   "metadata": {
    "id": "JolODAqr_Zcu"
   },
   "source": [
    "### Жанровые предпочтения в Москве и Петербурге\n",
    "\n",
    "Гипотеза: Петербург — столица рэпа, музыку этого жанра там слушают чаще, чем в Москве.  А Москва — город контрастов, в котором, тем не менее, преобладает поп-музыка."
   ]
  },
  {
   "cell_type": "markdown",
   "metadata": {
    "id": "DlegSvaT_Zcu"
   },
   "source": [
    "Сгруппируйте таблицу `moscow_general` по жанру и посчитайте прослушивания треков каждого жанра методом `count()`. Затем отсортируйте результат в порядке убывания и сохраните его в таблице `moscow_genres`."
   ]
  },
  {
   "cell_type": "code",
   "execution_count": 35,
   "metadata": {
    "id": "r19lIPke_Zcu"
   },
   "outputs": [],
   "source": [
    "moscow_genres = moscow_general.groupby('genre')['track'].count().sort_values(ascending=False)# одной строкой: группировка таблицы moscow_general по столбцу 'genre', \n",
    "# подсчёт числа значений 'genre' в этой группировке методом count(), \n",
    "# сортировка получившегося Series в порядке убывания и сохранение в moscow_genres"
   ]
  },
  {
   "cell_type": "markdown",
   "metadata": {
    "id": "6kMuomxTiIr8"
   },
   "source": [
    "Выведите на экран первые десять строк `moscow_genres`:"
   ]
  },
  {
   "cell_type": "code",
   "execution_count": 38,
   "metadata": {
    "id": "WhCSooF8_Zcv"
   },
   "outputs": [
    {
     "data": {
      "text/plain": [
       "genre\n",
       "pop            5892\n",
       "dance          4435\n",
       "rock           3965\n",
       "electronic     3786\n",
       "hiphop         2096\n",
       "classical      1616\n",
       "world          1432\n",
       "alternative    1379\n",
       "ruspop         1372\n",
       "rusrap         1161\n",
       "Name: track, dtype: int64"
      ]
     },
     "execution_count": 38,
     "metadata": {},
     "output_type": "execute_result"
    }
   ],
   "source": [
    "moscow_genres.head(10)# просмотр первых 10 строк moscow_genres"
   ]
  },
  {
   "cell_type": "markdown",
   "metadata": {},
   "source": [
    "<div class=\"alert alert-success\">\n",
    "<b>Комментарий ревьюера ✔️:</b> Данные для Москвы получены. Отлично! Напомню про display"
   ]
  },
  {
   "cell_type": "markdown",
   "metadata": {
    "id": "cnPG2vnN_Zcv"
   },
   "source": [
    "Теперь повторите то же и для Петербурга.\n",
    "\n",
    "Сгруппируйте таблицу `spb_general` по жанру. Посчитайте прослушивания треков каждого жанра. Результат отсортируйте в порядке убывания и сохраните в таблице `spb_genres`:\n"
   ]
  },
  {
   "cell_type": "code",
   "execution_count": 40,
   "metadata": {
    "id": "gluLIpE7_Zcv"
   },
   "outputs": [],
   "source": [
    "spb_genres = spb_general.groupby('genre')['track'].count().sort_values(ascending=False)# одной строкой: группировка таблицы spb_general по столбцу 'genre', \n",
    "# подсчёт числа значений 'genre' в этой группировке методом count(), \n",
    "# сортировка получившегося Series в порядке убывания и сохранение в spb_genres"
   ]
  },
  {
   "cell_type": "markdown",
   "metadata": {
    "id": "5Doha_ODgyQ8"
   },
   "source": [
    "Выведите на экран первые десять строк `spb_genres`:"
   ]
  },
  {
   "cell_type": "code",
   "execution_count": 41,
   "metadata": {
    "id": "uaGJHjVU_Zcv"
   },
   "outputs": [
    {
     "data": {
      "text/plain": [
       "genre\n",
       "pop            2431\n",
       "dance          1932\n",
       "rock           1879\n",
       "electronic     1737\n",
       "hiphop          960\n",
       "alternative     649\n",
       "classical       646\n",
       "rusrap          564\n",
       "ruspop          538\n",
       "world           515\n",
       "Name: track, dtype: int64"
      ]
     },
     "execution_count": 41,
     "metadata": {},
     "output_type": "execute_result"
    }
   ],
   "source": [
    "spb_genres.head(10)# просмотр первых 10 строк spb_genres"
   ]
  },
  {
   "cell_type": "markdown",
   "metadata": {},
   "source": [
    "<div class=\"alert alert-success\">\n",
    "<b>Комментарий ревьюера ✔️:</b> Данные по Питеру у нас тоже есть. Замечательно! И снова напомню про display."
   ]
  },
  {
   "cell_type": "markdown",
   "metadata": {
    "id": "RY51YJYu_Zcv"
   },
   "source": [
    "**Выводы**"
   ]
  },
  {
   "cell_type": "markdown",
   "metadata": {
    "id": "nVhnJEm__Zcv"
   },
   "source": [
    "Гипотеза частично подтвердилась:\n",
    "* Поп-музыка — самый популярный жанр в Москве, как и предполагала гипотеза. Более того, в топ-10 жанров встречается близкий жанр — русская популярная музыка. Также и в Санкт-Петербурге, поп-музыка самый популярный жанр прослушиваемой музыки.\n",
    "* Вопреки ожиданиям, рэп одинаково популярен в Москве и Петербурге. Петербург не является столицей рэпа.\n"
   ]
  },
  {
   "cell_type": "markdown",
   "metadata": {
    "id": "ykKQ0N65_Zcv"
   },
   "source": [
    "## Итоги исследования"
   ]
  },
  {
   "cell_type": "markdown",
   "metadata": {
    "id": "tjUwbHb3_Zcv"
   },
   "source": [
    "Вы проверили три гипотезы и установили:\n",
    "\n",
    "1. День недели по-разному влияет на активность пользователей в Москве и Петербурге. \n",
    "\n",
    "Первая гипотеза полностью подтвердилась.\n",
    "\n",
    "2. Музыкальные предпочтения не сильно меняются в течение недели — будь то Москва или Петербург. Небольшие различия заметны в начале недели, по понедельникам:\n",
    "* в Москве слушают музыку жанра “world”,\n",
    "* в Петербурге — джаз и классику.\n",
    "\n",
    "Таким образом, вторая гипотеза подтвердилась лишь отчасти. Этот результат мог оказаться иным, если бы не пропуски в данных.\n",
    "\n",
    "3. Во вкусах пользователей Москвы и Петербурга больше общего чем различий. Вопреки ожиданиям, предпочтения жанров в Петербурге напоминают московские.\n",
    "\n",
    "Третья гипотеза не подтвердилась. Если различия в предпочтениях и существуют, на основной массе пользователей они незаметны.\n",
    "\n",
    "**На практике исследования содержат проверки статистических гипотез.**\n",
    "Из данных одного сервиса не всегда можно сделать вывод о всех жителях города.\n",
    "Проверки статистических гипотез покажут, насколько они достоверны, исходя из имеющихся данных. \n",
    "С методами проверок гипотез вы ещё познакомитесь в следующих темах."
   ]
  },
  {
   "cell_type": "markdown",
   "metadata": {},
   "source": [
    "<div class=\"alert alert-success\">\n",
    "<b>Комментарий ревьюера ✔️:</b> Вывод является важным этапом проводимого анализа. В нём мы описываем основные итоги работы. Поэтому не забывай уделять ему особое внимание в последующих проектах."
   ]
  },
  {
   "cell_type": "markdown",
   "metadata": {},
   "source": [
    "<div class=\"alert alert-success\">\n",
    "<b>Комментарий ревьюера ✔️:</b> Ты хорошо постарался, проект отличный и он принят! Недостатки указанные желтым цветом можешь учесть и исправить, но настаивать на их отработке я не буду."
   ]
  }
 ],
 "metadata": {
  "ExecuteTimeLog": [
   {
    "duration": 91,
    "start_time": "2022-02-11T05:18:04.229Z"
   },
   {
    "duration": 315,
    "start_time": "2022-02-11T05:18:18.366Z"
   },
   {
    "duration": 2,
    "start_time": "2022-02-11T05:23:24.039Z"
   },
   {
    "duration": 3,
    "start_time": "2022-02-11T05:23:26.915Z"
   },
   {
    "duration": 137,
    "start_time": "2022-02-11T05:23:29.039Z"
   },
   {
    "duration": 17,
    "start_time": "2022-02-11T05:23:52.669Z"
   },
   {
    "duration": 25,
    "start_time": "2022-02-11T05:24:47.439Z"
   },
   {
    "duration": 11,
    "start_time": "2022-02-11T05:32:28.528Z"
   },
   {
    "duration": 12,
    "start_time": "2022-02-11T05:32:54.068Z"
   },
   {
    "duration": 11,
    "start_time": "2022-02-11T05:35:50.106Z"
   },
   {
    "duration": 4,
    "start_time": "2022-02-11T05:40:45.682Z"
   },
   {
    "duration": 4,
    "start_time": "2022-02-11T05:44:48.241Z"
   },
   {
    "duration": 182,
    "start_time": "2022-02-11T05:44:52.738Z"
   },
   {
    "duration": 22,
    "start_time": "2022-02-11T05:45:11.300Z"
   },
   {
    "duration": 3,
    "start_time": "2022-02-11T05:45:15.215Z"
   },
   {
    "duration": 13,
    "start_time": "2022-02-11T05:46:33.695Z"
   },
   {
    "duration": 4,
    "start_time": "2022-02-11T05:46:36.331Z"
   },
   {
    "duration": 22,
    "start_time": "2022-02-11T05:47:34.848Z"
   },
   {
    "duration": 3837,
    "start_time": "2022-02-11T05:54:00.123Z"
   },
   {
    "duration": 1340,
    "start_time": "2022-02-11T05:54:02.622Z"
   },
   {
    "duration": 1353,
    "start_time": "2022-02-11T05:54:23.722Z"
   },
   {
    "duration": 8,
    "start_time": "2022-02-11T05:54:26.706Z"
   },
   {
    "duration": 580,
    "start_time": "2022-02-11T05:55:06.514Z"
   },
   {
    "duration": 3418,
    "start_time": "2022-02-11T06:09:57.472Z"
   },
   {
    "duration": 3441,
    "start_time": "2022-02-11T06:10:57.719Z"
   },
   {
    "duration": 3402,
    "start_time": "2022-02-11T06:11:45.962Z"
   },
   {
    "duration": 3404,
    "start_time": "2022-02-11T06:12:31.965Z"
   },
   {
    "duration": 15,
    "start_time": "2022-02-11T06:22:50.504Z"
   },
   {
    "duration": 279,
    "start_time": "2022-02-11T06:22:53.979Z"
   },
   {
    "duration": 273,
    "start_time": "2022-02-11T06:23:05.038Z"
   },
   {
    "duration": 362,
    "start_time": "2022-02-11T06:23:07.044Z"
   },
   {
    "duration": 261,
    "start_time": "2022-02-11T06:24:05.730Z"
   },
   {
    "duration": 264,
    "start_time": "2022-02-11T06:24:12.673Z"
   },
   {
    "duration": 4597,
    "start_time": "2022-02-11T06:25:18.321Z"
   },
   {
    "duration": 4703,
    "start_time": "2022-02-11T06:30:28.906Z"
   },
   {
    "duration": 4990,
    "start_time": "2022-02-11T06:31:50.200Z"
   },
   {
    "duration": 4884,
    "start_time": "2022-02-11T06:34:35.780Z"
   },
   {
    "duration": 4794,
    "start_time": "2022-02-11T06:35:11.088Z"
   },
   {
    "duration": 8,
    "start_time": "2022-02-11T06:35:59.628Z"
   },
   {
    "duration": 317,
    "start_time": "2022-02-11T06:39:30.286Z"
   },
   {
    "duration": 271,
    "start_time": "2022-02-11T06:39:39.429Z"
   },
   {
    "duration": 298,
    "start_time": "2022-02-11T06:39:43.987Z"
   },
   {
    "duration": 663,
    "start_time": "2022-02-11T06:39:57.805Z"
   },
   {
    "duration": 2,
    "start_time": "2022-02-11T06:40:03.985Z"
   },
   {
    "duration": 156,
    "start_time": "2022-02-11T06:40:06.189Z"
   },
   {
    "duration": 18,
    "start_time": "2022-02-11T06:40:07.076Z"
   },
   {
    "duration": 25,
    "start_time": "2022-02-11T06:40:08.268Z"
   },
   {
    "duration": 4,
    "start_time": "2022-02-11T06:40:10.564Z"
   },
   {
    "duration": 22,
    "start_time": "2022-02-11T06:40:11.397Z"
   },
   {
    "duration": 4,
    "start_time": "2022-02-11T06:40:12.508Z"
   },
   {
    "duration": 24,
    "start_time": "2022-02-11T06:40:13.780Z"
   },
   {
    "duration": 41,
    "start_time": "2022-02-11T06:40:21.564Z"
   },
   {
    "duration": 18,
    "start_time": "2022-02-11T06:40:32.592Z"
   },
   {
    "duration": 18,
    "start_time": "2022-02-11T06:40:35.158Z"
   },
   {
    "duration": 25,
    "start_time": "2022-02-11T06:40:38.060Z"
   },
   {
    "duration": 59,
    "start_time": "2022-02-11T06:41:22.849Z"
   },
   {
    "duration": 52,
    "start_time": "2022-02-11T06:41:33.186Z"
   },
   {
    "duration": 78,
    "start_time": "2022-02-11T06:42:54.965Z"
   },
   {
    "duration": 55,
    "start_time": "2022-02-11T06:43:28.531Z"
   },
   {
    "duration": 68,
    "start_time": "2022-02-11T06:43:47.688Z"
   },
   {
    "duration": 3,
    "start_time": "2022-02-11T06:44:09.451Z"
   },
   {
    "duration": 3,
    "start_time": "2022-02-11T06:44:15.749Z"
   },
   {
    "duration": 751,
    "start_time": "2022-02-11T06:44:23.798Z"
   },
   {
    "duration": 134,
    "start_time": "2022-02-11T06:44:26.017Z"
   },
   {
    "duration": 17,
    "start_time": "2022-02-11T06:44:33.920Z"
   },
   {
    "duration": 27,
    "start_time": "2022-02-11T06:44:37.730Z"
   },
   {
    "duration": 4,
    "start_time": "2022-02-11T06:44:44.149Z"
   },
   {
    "duration": 24,
    "start_time": "2022-02-11T06:44:45.598Z"
   },
   {
    "duration": 4,
    "start_time": "2022-02-11T06:44:46.429Z"
   },
   {
    "duration": 24,
    "start_time": "2022-02-11T06:44:47.127Z"
   },
   {
    "duration": 20,
    "start_time": "2022-02-11T06:44:48.343Z"
   },
   {
    "duration": 24,
    "start_time": "2022-02-11T06:44:49.460Z"
   },
   {
    "duration": 63,
    "start_time": "2022-02-11T06:44:50.966Z"
   },
   {
    "duration": 81,
    "start_time": "2022-02-11T06:44:53.533Z"
   },
   {
    "duration": 55,
    "start_time": "2022-02-11T06:44:57.054Z"
   },
   {
    "duration": 67,
    "start_time": "2022-02-11T06:45:40.957Z"
   },
   {
    "duration": 50,
    "start_time": "2022-02-11T06:45:44.663Z"
   },
   {
    "duration": 323,
    "start_time": "2022-02-11T06:49:07.498Z"
   },
   {
    "duration": 3,
    "start_time": "2022-02-11T06:49:15.112Z"
   },
   {
    "duration": 6,
    "start_time": "2022-02-11T06:52:40.963Z"
   },
   {
    "duration": 38,
    "start_time": "2022-02-11T06:54:11.475Z"
   },
   {
    "duration": 40,
    "start_time": "2022-02-11T06:54:38.948Z"
   },
   {
    "duration": 7,
    "start_time": "2022-02-11T06:55:40.633Z"
   },
   {
    "duration": 6,
    "start_time": "2022-02-11T06:55:51.318Z"
   },
   {
    "duration": 5,
    "start_time": "2022-02-11T06:55:59.876Z"
   },
   {
    "duration": 10,
    "start_time": "2022-02-11T06:59:45.774Z"
   },
   {
    "duration": 3,
    "start_time": "2022-02-11T07:09:08.994Z"
   },
   {
    "duration": 8515,
    "start_time": "2022-02-11T07:09:12.214Z"
   },
   {
    "duration": 6912,
    "start_time": "2022-02-11T07:11:38.981Z"
   },
   {
    "duration": 3,
    "start_time": "2022-02-11T07:11:54.432Z"
   },
   {
    "duration": 129,
    "start_time": "2022-02-11T07:11:55.488Z"
   },
   {
    "duration": 12,
    "start_time": "2022-02-11T07:11:55.992Z"
   },
   {
    "duration": 30,
    "start_time": "2022-02-11T07:11:56.922Z"
   },
   {
    "duration": 681,
    "start_time": "2022-02-11T07:12:06.539Z"
   },
   {
    "duration": 132,
    "start_time": "2022-02-11T07:12:07.501Z"
   },
   {
    "duration": 18,
    "start_time": "2022-02-11T07:12:09.702Z"
   },
   {
    "duration": 25,
    "start_time": "2022-02-11T07:12:12.869Z"
   },
   {
    "duration": 3,
    "start_time": "2022-02-11T07:12:15.912Z"
   },
   {
    "duration": 23,
    "start_time": "2022-02-11T07:12:17.353Z"
   },
   {
    "duration": 4,
    "start_time": "2022-02-11T07:12:18.474Z"
   },
   {
    "duration": 29,
    "start_time": "2022-02-11T07:12:19.531Z"
   },
   {
    "duration": 18,
    "start_time": "2022-02-11T07:12:20.938Z"
   },
   {
    "duration": 25,
    "start_time": "2022-02-11T07:12:21.692Z"
   },
   {
    "duration": 61,
    "start_time": "2022-02-11T07:12:22.932Z"
   },
   {
    "duration": 74,
    "start_time": "2022-02-11T07:12:23.852Z"
   },
   {
    "duration": 62,
    "start_time": "2022-02-11T07:12:24.982Z"
   },
   {
    "duration": 15,
    "start_time": "2022-02-11T07:12:27.308Z"
   },
   {
    "duration": 3,
    "start_time": "2022-02-11T07:12:29.323Z"
   },
   {
    "duration": 7037,
    "start_time": "2022-02-11T07:12:33.189Z"
   },
   {
    "duration": 6722,
    "start_time": "2022-02-11T07:17:47.924Z"
   },
   {
    "duration": 3,
    "start_time": "2022-02-11T07:18:29.859Z"
   },
   {
    "duration": 10,
    "start_time": "2022-02-11T07:18:32.665Z"
   },
   {
    "duration": 10,
    "start_time": "2022-02-11T07:18:54.557Z"
   },
   {
    "duration": 13,
    "start_time": "2022-02-11T07:22:17.994Z"
   },
   {
    "duration": 10,
    "start_time": "2022-02-11T07:22:21.798Z"
   },
   {
    "duration": 4670,
    "start_time": "2022-02-11T07:48:36.864Z"
   },
   {
    "duration": 34,
    "start_time": "2022-02-11T07:50:00.085Z"
   },
   {
    "duration": 12,
    "start_time": "2022-02-11T07:50:46.289Z"
   },
   {
    "duration": 12,
    "start_time": "2022-02-11T07:52:18.772Z"
   },
   {
    "duration": 4,
    "start_time": "2022-02-11T08:03:13.455Z"
   },
   {
    "duration": 611,
    "start_time": "2022-02-11T08:05:37.187Z"
   },
   {
    "duration": 588,
    "start_time": "2022-02-11T08:06:07.049Z"
   },
   {
    "duration": 136,
    "start_time": "2022-02-11T08:06:07.639Z"
   },
   {
    "duration": 17,
    "start_time": "2022-02-11T08:06:07.777Z"
   },
   {
    "duration": 38,
    "start_time": "2022-02-11T08:06:07.796Z"
   },
   {
    "duration": 5,
    "start_time": "2022-02-11T08:06:07.836Z"
   },
   {
    "duration": 27,
    "start_time": "2022-02-11T08:06:07.842Z"
   },
   {
    "duration": 14,
    "start_time": "2022-02-11T08:06:07.871Z"
   },
   {
    "duration": 48,
    "start_time": "2022-02-11T08:06:07.889Z"
   },
   {
    "duration": 29,
    "start_time": "2022-02-11T08:06:07.940Z"
   },
   {
    "duration": 56,
    "start_time": "2022-02-11T08:06:07.972Z"
   },
   {
    "duration": 61,
    "start_time": "2022-02-11T08:06:08.030Z"
   },
   {
    "duration": 85,
    "start_time": "2022-02-11T08:06:08.093Z"
   },
   {
    "duration": 64,
    "start_time": "2022-02-11T08:06:08.180Z"
   },
   {
    "duration": 9,
    "start_time": "2022-02-11T08:06:08.246Z"
   },
   {
    "duration": 6,
    "start_time": "2022-02-11T08:06:08.256Z"
   },
   {
    "duration": 342,
    "start_time": "2022-02-11T08:06:08.264Z"
   },
   {
    "duration": -98,
    "start_time": "2022-02-11T08:06:08.707Z"
   },
   {
    "duration": -101,
    "start_time": "2022-02-11T08:06:08.711Z"
   },
   {
    "duration": -107,
    "start_time": "2022-02-11T08:06:08.718Z"
   },
   {
    "duration": -110,
    "start_time": "2022-02-11T08:06:08.722Z"
   },
   {
    "duration": -113,
    "start_time": "2022-02-11T08:06:08.726Z"
   },
   {
    "duration": -115,
    "start_time": "2022-02-11T08:06:08.729Z"
   },
   {
    "duration": -117,
    "start_time": "2022-02-11T08:06:08.732Z"
   },
   {
    "duration": -119,
    "start_time": "2022-02-11T08:06:08.735Z"
   },
   {
    "duration": -121,
    "start_time": "2022-02-11T08:06:08.738Z"
   },
   {
    "duration": -123,
    "start_time": "2022-02-11T08:06:08.741Z"
   },
   {
    "duration": -124,
    "start_time": "2022-02-11T08:06:08.743Z"
   },
   {
    "duration": -127,
    "start_time": "2022-02-11T08:06:08.747Z"
   },
   {
    "duration": -128,
    "start_time": "2022-02-11T08:06:08.749Z"
   },
   {
    "duration": -129,
    "start_time": "2022-02-11T08:06:08.752Z"
   },
   {
    "duration": -132,
    "start_time": "2022-02-11T08:06:08.755Z"
   },
   {
    "duration": -133,
    "start_time": "2022-02-11T08:06:08.757Z"
   },
   {
    "duration": -141,
    "start_time": "2022-02-11T08:06:08.766Z"
   },
   {
    "duration": -143,
    "start_time": "2022-02-11T08:06:08.769Z"
   },
   {
    "duration": -144,
    "start_time": "2022-02-11T08:06:08.771Z"
   },
   {
    "duration": -145,
    "start_time": "2022-02-11T08:06:08.774Z"
   },
   {
    "duration": -147,
    "start_time": "2022-02-11T08:06:08.777Z"
   },
   {
    "duration": -150,
    "start_time": "2022-02-11T08:06:08.781Z"
   },
   {
    "duration": 3,
    "start_time": "2022-02-11T08:06:22.082Z"
   },
   {
    "duration": 552,
    "start_time": "2022-02-11T08:06:26.018Z"
   },
   {
    "duration": 646,
    "start_time": "2022-02-11T08:06:36.499Z"
   },
   {
    "duration": 127,
    "start_time": "2022-02-11T08:06:39.650Z"
   },
   {
    "duration": 17,
    "start_time": "2022-02-11T08:06:41.847Z"
   },
   {
    "duration": 25,
    "start_time": "2022-02-11T08:06:42.857Z"
   },
   {
    "duration": 4,
    "start_time": "2022-02-11T08:06:44.391Z"
   },
   {
    "duration": 24,
    "start_time": "2022-02-11T08:06:45.097Z"
   },
   {
    "duration": 4,
    "start_time": "2022-02-11T08:06:45.843Z"
   },
   {
    "duration": 24,
    "start_time": "2022-02-11T08:06:46.644Z"
   },
   {
    "duration": 17,
    "start_time": "2022-02-11T08:06:47.548Z"
   },
   {
    "duration": 23,
    "start_time": "2022-02-11T08:06:48.127Z"
   },
   {
    "duration": 59,
    "start_time": "2022-02-11T08:06:48.588Z"
   },
   {
    "duration": 70,
    "start_time": "2022-02-11T08:06:49.095Z"
   },
   {
    "duration": 98,
    "start_time": "2022-02-11T08:06:49.558Z"
   },
   {
    "duration": 13,
    "start_time": "2022-02-11T08:06:50.284Z"
   },
   {
    "duration": 2,
    "start_time": "2022-02-11T08:06:50.901Z"
   },
   {
    "duration": 436,
    "start_time": "2022-02-11T08:06:51.736Z"
   },
   {
    "duration": 273,
    "start_time": "2022-02-11T08:06:59.507Z"
   },
   {
    "duration": 13,
    "start_time": "2022-02-11T08:07:19.018Z"
   },
   {
    "duration": 10,
    "start_time": "2022-02-11T08:07:26.280Z"
   },
   {
    "duration": 12,
    "start_time": "2022-02-11T08:07:43.991Z"
   },
   {
    "duration": 12,
    "start_time": "2022-02-11T08:07:45.990Z"
   },
   {
    "duration": 4,
    "start_time": "2022-02-11T08:07:49.022Z"
   },
   {
    "duration": 579,
    "start_time": "2022-02-11T08:07:53.241Z"
   },
   {
    "duration": 3,
    "start_time": "2022-02-11T08:08:22.174Z"
   },
   {
    "duration": 624,
    "start_time": "2022-02-11T08:08:24.834Z"
   },
   {
    "duration": 634,
    "start_time": "2022-02-11T08:08:33.908Z"
   },
   {
    "duration": 140,
    "start_time": "2022-02-11T08:08:34.544Z"
   },
   {
    "duration": 18,
    "start_time": "2022-02-11T08:08:34.686Z"
   },
   {
    "duration": 36,
    "start_time": "2022-02-11T08:08:34.706Z"
   },
   {
    "duration": 5,
    "start_time": "2022-02-11T08:08:34.744Z"
   },
   {
    "duration": 22,
    "start_time": "2022-02-11T08:08:34.751Z"
   },
   {
    "duration": 4,
    "start_time": "2022-02-11T08:08:34.775Z"
   },
   {
    "duration": 53,
    "start_time": "2022-02-11T08:08:34.782Z"
   },
   {
    "duration": 20,
    "start_time": "2022-02-11T08:08:34.838Z"
   },
   {
    "duration": 39,
    "start_time": "2022-02-11T08:08:34.859Z"
   },
   {
    "duration": 62,
    "start_time": "2022-02-11T08:08:34.900Z"
   },
   {
    "duration": 86,
    "start_time": "2022-02-11T08:08:34.964Z"
   },
   {
    "duration": 55,
    "start_time": "2022-02-11T08:08:35.051Z"
   },
   {
    "duration": 19,
    "start_time": "2022-02-11T08:08:35.108Z"
   },
   {
    "duration": 21,
    "start_time": "2022-02-11T08:08:35.129Z"
   },
   {
    "duration": 31,
    "start_time": "2022-02-11T08:08:35.152Z"
   },
   {
    "duration": 20,
    "start_time": "2022-02-11T08:08:35.185Z"
   },
   {
    "duration": 16,
    "start_time": "2022-02-11T08:08:35.207Z"
   },
   {
    "duration": 17,
    "start_time": "2022-02-11T08:08:35.225Z"
   },
   {
    "duration": 11,
    "start_time": "2022-02-11T08:08:35.244Z"
   },
   {
    "duration": 614,
    "start_time": "2022-02-11T08:08:35.257Z"
   },
   {
    "duration": -105,
    "start_time": "2022-02-11T08:08:35.978Z"
   },
   {
    "duration": -107,
    "start_time": "2022-02-11T08:08:35.982Z"
   },
   {
    "duration": -109,
    "start_time": "2022-02-11T08:08:35.985Z"
   },
   {
    "duration": -111,
    "start_time": "2022-02-11T08:08:35.988Z"
   },
   {
    "duration": -116,
    "start_time": "2022-02-11T08:08:35.993Z"
   },
   {
    "duration": -133,
    "start_time": "2022-02-11T08:08:36.011Z"
   },
   {
    "duration": -137,
    "start_time": "2022-02-11T08:08:36.016Z"
   },
   {
    "duration": -139,
    "start_time": "2022-02-11T08:08:36.019Z"
   },
   {
    "duration": -140,
    "start_time": "2022-02-11T08:08:36.021Z"
   },
   {
    "duration": -145,
    "start_time": "2022-02-11T08:08:36.027Z"
   },
   {
    "duration": -147,
    "start_time": "2022-02-11T08:08:36.030Z"
   },
   {
    "duration": -149,
    "start_time": "2022-02-11T08:08:36.033Z"
   },
   {
    "duration": -151,
    "start_time": "2022-02-11T08:08:36.036Z"
   },
   {
    "duration": -153,
    "start_time": "2022-02-11T08:08:36.039Z"
   },
   {
    "duration": -155,
    "start_time": "2022-02-11T08:08:36.042Z"
   },
   {
    "duration": -157,
    "start_time": "2022-02-11T08:08:36.045Z"
   },
   {
    "duration": -159,
    "start_time": "2022-02-11T08:08:36.048Z"
   },
   {
    "duration": 3,
    "start_time": "2022-02-11T08:08:47.628Z"
   },
   {
    "duration": 718,
    "start_time": "2022-02-11T08:08:52.544Z"
   },
   {
    "duration": 665,
    "start_time": "2022-02-11T08:08:57.355Z"
   },
   {
    "duration": 4,
    "start_time": "2022-02-11T08:09:48.392Z"
   },
   {
    "duration": 27,
    "start_time": "2022-02-11T08:09:50.768Z"
   },
   {
    "duration": 4,
    "start_time": "2022-02-11T08:10:12.480Z"
   },
   {
    "duration": 23,
    "start_time": "2022-02-11T08:10:14.586Z"
   },
   {
    "duration": 14,
    "start_time": "2022-02-11T08:10:17.749Z"
   },
   {
    "duration": 21,
    "start_time": "2022-02-11T08:10:18.665Z"
   },
   {
    "duration": 14,
    "start_time": "2022-02-11T08:10:19.338Z"
   },
   {
    "duration": 21,
    "start_time": "2022-02-11T08:10:20.104Z"
   },
   {
    "duration": 15,
    "start_time": "2022-02-11T08:10:20.976Z"
   },
   {
    "duration": 268,
    "start_time": "2022-02-11T08:18:03.110Z"
   },
   {
    "duration": 794,
    "start_time": "2022-02-11T08:20:53.548Z"
   },
   {
    "duration": 138,
    "start_time": "2022-02-11T08:20:54.345Z"
   },
   {
    "duration": 16,
    "start_time": "2022-02-11T08:20:54.486Z"
   },
   {
    "duration": 36,
    "start_time": "2022-02-11T08:20:54.504Z"
   },
   {
    "duration": 4,
    "start_time": "2022-02-11T08:20:54.541Z"
   },
   {
    "duration": 30,
    "start_time": "2022-02-11T08:20:54.546Z"
   },
   {
    "duration": 3,
    "start_time": "2022-02-11T08:20:54.578Z"
   },
   {
    "duration": 43,
    "start_time": "2022-02-11T08:20:54.583Z"
   },
   {
    "duration": 25,
    "start_time": "2022-02-11T08:20:54.628Z"
   },
   {
    "duration": 34,
    "start_time": "2022-02-11T08:20:54.655Z"
   },
   {
    "duration": 63,
    "start_time": "2022-02-11T08:20:54.691Z"
   },
   {
    "duration": 74,
    "start_time": "2022-02-11T08:20:54.756Z"
   },
   {
    "duration": 51,
    "start_time": "2022-02-11T08:20:54.832Z"
   },
   {
    "duration": 9,
    "start_time": "2022-02-11T08:20:54.884Z"
   },
   {
    "duration": 3,
    "start_time": "2022-02-11T08:20:54.895Z"
   },
   {
    "duration": 14,
    "start_time": "2022-02-11T08:20:54.919Z"
   },
   {
    "duration": 9,
    "start_time": "2022-02-11T08:20:54.934Z"
   },
   {
    "duration": 12,
    "start_time": "2022-02-11T08:20:54.945Z"
   },
   {
    "duration": 11,
    "start_time": "2022-02-11T08:20:54.958Z"
   },
   {
    "duration": 3,
    "start_time": "2022-02-11T08:20:54.971Z"
   },
   {
    "duration": 55,
    "start_time": "2022-02-11T08:20:54.976Z"
   },
   {
    "duration": 15,
    "start_time": "2022-02-11T08:20:55.033Z"
   },
   {
    "duration": 29,
    "start_time": "2022-02-11T08:20:55.051Z"
   },
   {
    "duration": 14,
    "start_time": "2022-02-11T08:20:55.082Z"
   },
   {
    "duration": 39,
    "start_time": "2022-02-11T08:20:55.098Z"
   },
   {
    "duration": 15,
    "start_time": "2022-02-11T08:20:55.138Z"
   },
   {
    "duration": 322,
    "start_time": "2022-02-11T08:20:55.155Z"
   },
   {
    "duration": -105,
    "start_time": "2022-02-11T08:20:55.584Z"
   },
   {
    "duration": -113,
    "start_time": "2022-02-11T08:20:55.593Z"
   },
   {
    "duration": -117,
    "start_time": "2022-02-11T08:20:55.598Z"
   },
   {
    "duration": -122,
    "start_time": "2022-02-11T08:20:55.605Z"
   },
   {
    "duration": -126,
    "start_time": "2022-02-11T08:20:55.610Z"
   },
   {
    "duration": -131,
    "start_time": "2022-02-11T08:20:55.616Z"
   },
   {
    "duration": -133,
    "start_time": "2022-02-11T08:20:55.619Z"
   },
   {
    "duration": -136,
    "start_time": "2022-02-11T08:20:55.623Z"
   },
   {
    "duration": -138,
    "start_time": "2022-02-11T08:20:55.626Z"
   },
   {
    "duration": -140,
    "start_time": "2022-02-11T08:20:55.629Z"
   },
   {
    "duration": -147,
    "start_time": "2022-02-11T08:20:55.637Z"
   },
   {
    "duration": 6,
    "start_time": "2022-02-11T08:21:15.607Z"
   },
   {
    "duration": 9,
    "start_time": "2022-02-11T08:21:48.072Z"
   },
   {
    "duration": 21,
    "start_time": "2022-02-11T08:26:46.649Z"
   },
   {
    "duration": 12,
    "start_time": "2022-02-11T08:26:57.017Z"
   },
   {
    "duration": 10,
    "start_time": "2022-02-11T08:27:23.858Z"
   },
   {
    "duration": 4,
    "start_time": "2022-02-11T08:44:26.850Z"
   },
   {
    "duration": 15,
    "start_time": "2022-02-11T08:46:25.851Z"
   },
   {
    "duration": 12,
    "start_time": "2022-02-11T08:48:30.485Z"
   },
   {
    "duration": 11,
    "start_time": "2022-02-11T08:48:31.281Z"
   },
   {
    "duration": 9,
    "start_time": "2022-02-11T08:48:34.328Z"
   },
   {
    "duration": 4,
    "start_time": "2022-02-11T08:49:39.810Z"
   },
   {
    "duration": 17,
    "start_time": "2022-02-11T08:49:42.100Z"
   },
   {
    "duration": 3,
    "start_time": "2022-02-11T08:50:23.508Z"
   },
   {
    "duration": 16,
    "start_time": "2022-02-11T08:50:30.027Z"
   },
   {
    "duration": 4,
    "start_time": "2022-02-11T08:51:57.657Z"
   },
   {
    "duration": 22,
    "start_time": "2022-02-11T08:51:58.819Z"
   },
   {
    "duration": 4,
    "start_time": "2022-02-11T08:52:27.604Z"
   },
   {
    "duration": 27,
    "start_time": "2022-02-11T08:52:29.973Z"
   },
   {
    "duration": 5,
    "start_time": "2022-02-11T08:57:01.406Z"
   },
   {
    "duration": 20,
    "start_time": "2022-02-11T08:57:03.046Z"
   },
   {
    "duration": 5,
    "start_time": "2022-02-11T08:57:50.407Z"
   },
   {
    "duration": 21,
    "start_time": "2022-02-11T08:57:52.655Z"
   },
   {
    "duration": 4,
    "start_time": "2022-02-11T08:58:03.585Z"
   },
   {
    "duration": 19,
    "start_time": "2022-02-11T08:58:04.821Z"
   },
   {
    "duration": 15,
    "start_time": "2022-02-11T08:58:11.043Z"
   },
   {
    "duration": 11,
    "start_time": "2022-02-11T08:58:14.107Z"
   },
   {
    "duration": 9,
    "start_time": "2022-02-11T08:58:15.768Z"
   },
   {
    "duration": 14,
    "start_time": "2022-02-11T08:58:19.236Z"
   },
   {
    "duration": 23,
    "start_time": "2022-02-11T08:58:33.237Z"
   },
   {
    "duration": 19,
    "start_time": "2022-02-11T08:58:34.533Z"
   },
   {
    "duration": 34,
    "start_time": "2022-02-11T09:30:22.421Z"
   },
   {
    "duration": 10,
    "start_time": "2022-02-11T09:30:24.287Z"
   },
   {
    "duration": 265,
    "start_time": "2022-02-11T09:30:48.098Z"
   },
   {
    "duration": 10,
    "start_time": "2022-02-11T09:30:53.602Z"
   },
   {
    "duration": 5,
    "start_time": "2022-02-11T09:30:55.583Z"
   },
   {
    "duration": 12,
    "start_time": "2022-02-11T09:32:37.167Z"
   },
   {
    "duration": 5,
    "start_time": "2022-02-11T09:33:03.039Z"
   },
   {
    "duration": 408,
    "start_time": "2022-02-11T09:35:42.232Z"
   },
   {
    "duration": 269,
    "start_time": "2022-02-11T09:36:11.154Z"
   },
   {
    "duration": 5,
    "start_time": "2022-02-11T09:36:28.560Z"
   },
   {
    "duration": 5,
    "start_time": "2022-02-11T09:36:37.110Z"
   },
   {
    "duration": 299,
    "start_time": "2022-02-11T10:03:30.126Z"
   },
   {
    "duration": 5,
    "start_time": "2022-02-11T10:05:18.776Z"
   },
   {
    "duration": 5,
    "start_time": "2022-02-11T10:05:22.041Z"
   },
   {
    "duration": 5,
    "start_time": "2022-02-11T10:05:29.289Z"
   },
   {
    "duration": 5,
    "start_time": "2022-02-11T10:05:30.967Z"
   },
   {
    "duration": 319,
    "start_time": "2022-02-11T10:06:54.381Z"
   },
   {
    "duration": 312,
    "start_time": "2022-02-11T10:07:06.153Z"
   },
   {
    "duration": 288,
    "start_time": "2022-02-11T10:10:29.848Z"
   },
   {
    "duration": 271,
    "start_time": "2022-02-11T10:10:43.588Z"
   },
   {
    "duration": 4,
    "start_time": "2022-02-11T10:10:53.090Z"
   },
   {
    "duration": 83,
    "start_time": "2022-02-11T10:11:41.818Z"
   },
   {
    "duration": 297,
    "start_time": "2022-02-11T10:11:51.111Z"
   },
   {
    "duration": 5,
    "start_time": "2022-02-11T10:13:04.274Z"
   },
   {
    "duration": 354,
    "start_time": "2022-02-11T10:14:27.678Z"
   },
   {
    "duration": 275,
    "start_time": "2022-02-11T10:14:38.948Z"
   },
   {
    "duration": 4,
    "start_time": "2022-02-11T10:15:13.362Z"
   },
   {
    "duration": 5,
    "start_time": "2022-02-11T10:15:52.361Z"
   },
   {
    "duration": 5,
    "start_time": "2022-02-11T10:15:54.805Z"
   },
   {
    "duration": 6,
    "start_time": "2022-02-11T10:16:04.504Z"
   },
   {
    "duration": 4,
    "start_time": "2022-02-11T10:16:06.255Z"
   },
   {
    "duration": 7601,
    "start_time": "2022-02-11T10:16:45.971Z"
   },
   {
    "duration": -212,
    "start_time": "2022-02-11T10:16:53.786Z"
   },
   {
    "duration": 281,
    "start_time": "2022-02-11T10:17:20.181Z"
   },
   {
    "duration": 6,
    "start_time": "2022-02-11T10:18:03.197Z"
   },
   {
    "duration": 5,
    "start_time": "2022-02-11T10:18:06.083Z"
   },
   {
    "duration": 3,
    "start_time": "2022-02-11T10:18:13.446Z"
   },
   {
    "duration": 146,
    "start_time": "2022-02-11T10:18:14.084Z"
   },
   {
    "duration": 12,
    "start_time": "2022-02-11T10:18:14.471Z"
   },
   {
    "duration": 666,
    "start_time": "2022-02-11T10:18:20.786Z"
   },
   {
    "duration": 143,
    "start_time": "2022-02-11T10:18:21.455Z"
   },
   {
    "duration": 20,
    "start_time": "2022-02-11T10:18:21.600Z"
   },
   {
    "duration": 28,
    "start_time": "2022-02-11T10:18:21.622Z"
   },
   {
    "duration": 4,
    "start_time": "2022-02-11T10:18:21.653Z"
   },
   {
    "duration": 32,
    "start_time": "2022-02-11T10:18:21.659Z"
   },
   {
    "duration": 27,
    "start_time": "2022-02-11T10:18:21.693Z"
   },
   {
    "duration": 32,
    "start_time": "2022-02-11T10:18:21.722Z"
   },
   {
    "duration": 24,
    "start_time": "2022-02-11T10:18:21.756Z"
   },
   {
    "duration": 42,
    "start_time": "2022-02-11T10:18:21.782Z"
   },
   {
    "duration": 88,
    "start_time": "2022-02-11T10:18:21.827Z"
   },
   {
    "duration": 71,
    "start_time": "2022-02-11T10:18:21.918Z"
   },
   {
    "duration": 70,
    "start_time": "2022-02-11T10:18:21.991Z"
   },
   {
    "duration": 10,
    "start_time": "2022-02-11T10:18:22.063Z"
   },
   {
    "duration": 3,
    "start_time": "2022-02-11T10:18:22.074Z"
   },
   {
    "duration": 16,
    "start_time": "2022-02-11T10:18:22.079Z"
   },
   {
    "duration": 26,
    "start_time": "2022-02-11T10:18:22.097Z"
   },
   {
    "duration": 17,
    "start_time": "2022-02-11T10:18:22.125Z"
   },
   {
    "duration": 24,
    "start_time": "2022-02-11T10:18:22.144Z"
   },
   {
    "duration": 5,
    "start_time": "2022-02-11T10:18:22.170Z"
   },
   {
    "duration": 35,
    "start_time": "2022-02-11T10:18:22.177Z"
   },
   {
    "duration": 35,
    "start_time": "2022-02-11T10:18:22.214Z"
   },
   {
    "duration": 35,
    "start_time": "2022-02-11T10:18:22.252Z"
   },
   {
    "duration": 14,
    "start_time": "2022-02-11T10:18:22.289Z"
   },
   {
    "duration": 20,
    "start_time": "2022-02-11T10:18:22.305Z"
   },
   {
    "duration": 14,
    "start_time": "2022-02-11T10:18:22.327Z"
   },
   {
    "duration": 14,
    "start_time": "2022-02-11T10:18:22.343Z"
   },
   {
    "duration": 19,
    "start_time": "2022-02-11T10:18:22.359Z"
   },
   {
    "duration": 9,
    "start_time": "2022-02-11T10:18:22.380Z"
   },
   {
    "duration": 10,
    "start_time": "2022-02-11T10:18:22.390Z"
   },
   {
    "duration": 31,
    "start_time": "2022-02-11T10:18:22.401Z"
   },
   {
    "duration": 13,
    "start_time": "2022-02-11T10:18:22.434Z"
   },
   {
    "duration": 17,
    "start_time": "2022-02-11T10:18:22.449Z"
   },
   {
    "duration": 12,
    "start_time": "2022-02-11T10:18:22.468Z"
   },
   {
    "duration": 388,
    "start_time": "2022-02-11T10:18:22.481Z"
   },
   {
    "duration": -206,
    "start_time": "2022-02-11T10:18:23.077Z"
   },
   {
    "duration": -210,
    "start_time": "2022-02-11T10:18:23.082Z"
   },
   {
    "duration": -220,
    "start_time": "2022-02-11T10:18:23.092Z"
   },
   {
    "duration": 279,
    "start_time": "2022-02-11T10:23:49.316Z"
   },
   {
    "duration": 341,
    "start_time": "2022-02-11T10:24:12.084Z"
   },
   {
    "duration": 23,
    "start_time": "2022-02-11T10:24:35.461Z"
   },
   {
    "duration": 8,
    "start_time": "2022-02-11T10:24:38.714Z"
   },
   {
    "duration": 23,
    "start_time": "2022-02-11T10:25:11.374Z"
   },
   {
    "duration": 9,
    "start_time": "2022-02-11T10:25:13.309Z"
   },
   {
    "duration": 278,
    "start_time": "2022-02-11T10:25:35.236Z"
   },
   {
    "duration": 265,
    "start_time": "2022-02-11T10:25:43.877Z"
   },
   {
    "duration": 9,
    "start_time": "2022-02-11T10:25:52.166Z"
   },
   {
    "duration": 5,
    "start_time": "2022-02-11T10:25:54.580Z"
   },
   {
    "duration": 10,
    "start_time": "2022-02-11T10:26:31.244Z"
   },
   {
    "duration": 11,
    "start_time": "2022-02-11T10:26:33.177Z"
   },
   {
    "duration": 12,
    "start_time": "2022-02-11T10:26:37.460Z"
   },
   {
    "duration": 612,
    "start_time": "2022-02-11T10:27:13.827Z"
   },
   {
    "duration": 141,
    "start_time": "2022-02-11T10:27:14.441Z"
   },
   {
    "duration": 23,
    "start_time": "2022-02-11T10:27:14.585Z"
   },
   {
    "duration": 37,
    "start_time": "2022-02-11T10:27:14.611Z"
   },
   {
    "duration": 8,
    "start_time": "2022-02-11T10:27:14.650Z"
   },
   {
    "duration": 26,
    "start_time": "2022-02-11T10:27:14.660Z"
   },
   {
    "duration": 5,
    "start_time": "2022-02-11T10:27:14.688Z"
   },
   {
    "duration": 42,
    "start_time": "2022-02-11T10:27:14.720Z"
   },
   {
    "duration": 20,
    "start_time": "2022-02-11T10:27:14.765Z"
   },
   {
    "duration": 48,
    "start_time": "2022-02-11T10:27:14.787Z"
   },
   {
    "duration": 68,
    "start_time": "2022-02-11T10:27:14.837Z"
   },
   {
    "duration": 81,
    "start_time": "2022-02-11T10:27:14.907Z"
   },
   {
    "duration": 80,
    "start_time": "2022-02-11T10:27:14.990Z"
   },
   {
    "duration": 10,
    "start_time": "2022-02-11T10:27:15.072Z"
   },
   {
    "duration": 6,
    "start_time": "2022-02-11T10:27:15.083Z"
   },
   {
    "duration": 35,
    "start_time": "2022-02-11T10:27:15.091Z"
   },
   {
    "duration": 9,
    "start_time": "2022-02-11T10:27:15.128Z"
   },
   {
    "duration": 13,
    "start_time": "2022-02-11T10:27:15.139Z"
   },
   {
    "duration": 13,
    "start_time": "2022-02-11T10:27:15.154Z"
   },
   {
    "duration": 4,
    "start_time": "2022-02-11T10:27:15.169Z"
   },
   {
    "duration": 56,
    "start_time": "2022-02-11T10:27:15.175Z"
   },
   {
    "duration": 17,
    "start_time": "2022-02-11T10:27:15.233Z"
   },
   {
    "duration": 24,
    "start_time": "2022-02-11T10:27:15.255Z"
   },
   {
    "duration": 50,
    "start_time": "2022-02-11T10:27:15.281Z"
   },
   {
    "duration": 22,
    "start_time": "2022-02-11T10:27:15.334Z"
   },
   {
    "duration": 21,
    "start_time": "2022-02-11T10:27:15.358Z"
   },
   {
    "duration": 11,
    "start_time": "2022-02-11T10:27:15.381Z"
   },
   {
    "duration": 41,
    "start_time": "2022-02-11T10:27:15.394Z"
   },
   {
    "duration": 17,
    "start_time": "2022-02-11T10:27:15.438Z"
   },
   {
    "duration": 6,
    "start_time": "2022-02-11T10:27:15.457Z"
   },
   {
    "duration": 29,
    "start_time": "2022-02-11T10:27:15.465Z"
   },
   {
    "duration": 31,
    "start_time": "2022-02-11T10:27:15.496Z"
   },
   {
    "duration": 17,
    "start_time": "2022-02-11T10:27:15.529Z"
   },
   {
    "duration": 22,
    "start_time": "2022-02-11T10:27:15.548Z"
   },
   {
    "duration": 10,
    "start_time": "2022-02-11T10:27:15.572Z"
   },
   {
    "duration": 4,
    "start_time": "2022-02-11T10:27:15.584Z"
   },
   {
    "duration": 11,
    "start_time": "2022-02-11T10:27:15.618Z"
   },
   {
    "duration": 11,
    "start_time": "2022-02-11T10:27:15.631Z"
   },
   {
    "duration": 6,
    "start_time": "2022-02-11T10:27:44.756Z"
   },
   {
    "duration": 607,
    "start_time": "2022-02-11T10:33:29.229Z"
   },
   {
    "duration": 144,
    "start_time": "2022-02-11T10:33:29.838Z"
   },
   {
    "duration": 17,
    "start_time": "2022-02-11T10:33:29.984Z"
   },
   {
    "duration": 44,
    "start_time": "2022-02-11T10:33:30.003Z"
   },
   {
    "duration": 13,
    "start_time": "2022-02-11T10:33:30.049Z"
   },
   {
    "duration": 44,
    "start_time": "2022-02-11T10:33:30.063Z"
   },
   {
    "duration": 20,
    "start_time": "2022-02-11T10:33:30.109Z"
   },
   {
    "duration": 42,
    "start_time": "2022-02-11T10:33:30.132Z"
   },
   {
    "duration": 28,
    "start_time": "2022-02-11T10:33:30.177Z"
   },
   {
    "duration": 30,
    "start_time": "2022-02-11T10:33:30.207Z"
   },
   {
    "duration": 79,
    "start_time": "2022-02-11T10:33:30.239Z"
   },
   {
    "duration": 75,
    "start_time": "2022-02-11T10:33:30.319Z"
   },
   {
    "duration": 70,
    "start_time": "2022-02-11T10:33:30.396Z"
   },
   {
    "duration": 9,
    "start_time": "2022-02-11T10:33:30.468Z"
   },
   {
    "duration": 12,
    "start_time": "2022-02-11T10:33:30.479Z"
   },
   {
    "duration": 31,
    "start_time": "2022-02-11T10:33:30.493Z"
   },
   {
    "duration": 19,
    "start_time": "2022-02-11T10:33:30.526Z"
   },
   {
    "duration": 25,
    "start_time": "2022-02-11T10:33:30.547Z"
   },
   {
    "duration": 13,
    "start_time": "2022-02-11T10:33:30.573Z"
   },
   {
    "duration": 3,
    "start_time": "2022-02-11T10:33:30.588Z"
   },
   {
    "duration": 34,
    "start_time": "2022-02-11T10:33:30.593Z"
   },
   {
    "duration": 13,
    "start_time": "2022-02-11T10:33:30.629Z"
   },
   {
    "duration": 22,
    "start_time": "2022-02-11T10:33:30.646Z"
   },
   {
    "duration": 14,
    "start_time": "2022-02-11T10:33:30.670Z"
   },
   {
    "duration": 49,
    "start_time": "2022-02-11T10:33:30.685Z"
   },
   {
    "duration": 16,
    "start_time": "2022-02-11T10:33:30.735Z"
   },
   {
    "duration": 10,
    "start_time": "2022-02-11T10:33:30.753Z"
   },
   {
    "duration": 24,
    "start_time": "2022-02-11T10:33:30.764Z"
   },
   {
    "duration": 11,
    "start_time": "2022-02-11T10:33:30.790Z"
   },
   {
    "duration": 19,
    "start_time": "2022-02-11T10:33:30.802Z"
   },
   {
    "duration": 31,
    "start_time": "2022-02-11T10:33:30.823Z"
   },
   {
    "duration": 12,
    "start_time": "2022-02-11T10:33:30.856Z"
   },
   {
    "duration": 23,
    "start_time": "2022-02-11T10:33:30.870Z"
   },
   {
    "duration": 31,
    "start_time": "2022-02-11T10:33:30.895Z"
   },
   {
    "duration": 10,
    "start_time": "2022-02-11T10:33:30.927Z"
   },
   {
    "duration": 11,
    "start_time": "2022-02-11T10:33:30.938Z"
   },
   {
    "duration": 23,
    "start_time": "2022-02-11T10:33:30.951Z"
   },
   {
    "duration": 14,
    "start_time": "2022-02-11T10:33:30.976Z"
   },
   {
    "duration": 5,
    "start_time": "2022-02-11T10:33:52.690Z"
   },
   {
    "duration": 364,
    "start_time": "2022-02-17T10:19:30.900Z"
   },
   {
    "duration": 816,
    "start_time": "2022-02-17T10:19:53.713Z"
   },
   {
    "duration": 219,
    "start_time": "2022-02-17T10:19:55.795Z"
   },
   {
    "duration": 30,
    "start_time": "2022-02-17T10:20:01.040Z"
   },
   {
    "duration": 6,
    "start_time": "2022-02-17T10:20:21.024Z"
   },
   {
    "duration": 29,
    "start_time": "2022-02-17T10:20:47.669Z"
   },
   {
    "duration": 7,
    "start_time": "2022-02-17T10:20:54.978Z"
   },
   {
    "duration": 773,
    "start_time": "2022-02-17T10:21:25.177Z"
   },
   {
    "duration": 200,
    "start_time": "2022-02-17T10:21:27.151Z"
   },
   {
    "duration": 26,
    "start_time": "2022-02-17T10:21:28.392Z"
   },
   {
    "duration": 36,
    "start_time": "2022-02-17T10:21:30.794Z"
   },
   {
    "duration": 7,
    "start_time": "2022-02-17T10:21:34.065Z"
   },
   {
    "duration": 30,
    "start_time": "2022-02-17T10:21:36.352Z"
   },
   {
    "duration": 6,
    "start_time": "2022-02-17T10:21:39.399Z"
   },
   {
    "duration": 31,
    "start_time": "2022-02-17T10:21:43.776Z"
   },
   {
    "duration": 22,
    "start_time": "2022-02-17T10:21:49.290Z"
   },
   {
    "duration": 34,
    "start_time": "2022-02-17T10:21:52.023Z"
   },
   {
    "duration": 91,
    "start_time": "2022-02-17T10:21:57.178Z"
   },
   {
    "duration": 130,
    "start_time": "2022-02-17T10:22:01.439Z"
   },
   {
    "duration": 110,
    "start_time": "2022-02-17T10:22:04.734Z"
   },
   {
    "duration": 15,
    "start_time": "2022-02-17T10:22:09.738Z"
   },
   {
    "duration": 4,
    "start_time": "2022-02-17T10:22:38.199Z"
   },
   {
    "duration": 19,
    "start_time": "2022-02-17T10:22:43.711Z"
   },
   {
    "duration": 14,
    "start_time": "2022-02-17T10:22:45.824Z"
   },
   {
    "duration": 19,
    "start_time": "2022-02-17T10:23:04.856Z"
   },
   {
    "duration": 16,
    "start_time": "2022-02-17T10:23:07.871Z"
   },
   {
    "duration": 5,
    "start_time": "2022-02-17T10:23:12.182Z"
   },
   {
    "duration": 27,
    "start_time": "2022-02-17T10:23:13.823Z"
   },
   {
    "duration": 20,
    "start_time": "2022-02-17T10:23:14.796Z"
   },
   {
    "duration": 30,
    "start_time": "2022-02-17T10:23:15.288Z"
   },
   {
    "duration": 19,
    "start_time": "2022-02-17T10:23:15.807Z"
   },
   {
    "duration": 29,
    "start_time": "2022-02-17T10:23:16.262Z"
   },
   {
    "duration": 19,
    "start_time": "2022-02-17T10:23:16.711Z"
   },
   {
    "duration": 15,
    "start_time": "2022-02-17T10:23:19.358Z"
   },
   {
    "duration": 15,
    "start_time": "2022-02-17T10:23:26.573Z"
   },
   {
    "duration": 15,
    "start_time": "2022-02-17T10:23:27.552Z"
   },
   {
    "duration": 6,
    "start_time": "2022-02-17T10:23:29.520Z"
   },
   {
    "duration": 27,
    "start_time": "2022-02-17T10:23:33.014Z"
   },
   {
    "duration": 22,
    "start_time": "2022-02-17T10:23:34.557Z"
   },
   {
    "duration": 25,
    "start_time": "2022-02-17T10:23:35.356Z"
   },
   {
    "duration": 17,
    "start_time": "2022-02-17T10:23:36.128Z"
   },
   {
    "duration": 14,
    "start_time": "2022-02-17T10:23:43.881Z"
   },
   {
    "duration": 8,
    "start_time": "2022-02-17T10:23:46.260Z"
   },
   {
    "duration": 17,
    "start_time": "2022-02-17T10:24:20.677Z"
   },
   {
    "duration": 7,
    "start_time": "2022-02-17T10:24:53.379Z"
   },
   {
    "duration": 590,
    "start_time": "2022-02-17T10:25:02.151Z"
   },
   {
    "duration": 9,
    "start_time": "2022-02-17T10:25:08.884Z"
   },
   {
    "duration": 7,
    "start_time": "2022-02-17T10:25:09.812Z"
   }
  ],
  "colab": {
   "collapsed_sections": [
    "E0vqbgi9ay0H",
    "VUC88oWjTJw2"
   ],
   "name": "yandex_music_project_2021.2.ipynb",
   "provenance": []
  },
  "kernelspec": {
   "display_name": "Python 3 (ipykernel)",
   "language": "python",
   "name": "python3"
  },
  "language_info": {
   "codemirror_mode": {
    "name": "ipython",
    "version": 3
   },
   "file_extension": ".py",
   "mimetype": "text/x-python",
   "name": "python",
   "nbconvert_exporter": "python",
   "pygments_lexer": "ipython3",
   "version": "3.7.8"
  },
  "toc": {
   "base_numbering": 1,
   "nav_menu": {},
   "number_sections": true,
   "sideBar": true,
   "skip_h1_title": true,
   "title_cell": "Table of Contents",
   "title_sidebar": "Contents",
   "toc_cell": false,
   "toc_position": {},
   "toc_section_display": true,
   "toc_window_display": true
  }
 },
 "nbformat": 4,
 "nbformat_minor": 1
}
