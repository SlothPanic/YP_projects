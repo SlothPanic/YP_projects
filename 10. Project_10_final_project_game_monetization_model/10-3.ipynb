{
 "cells": [
  {
   "cell_type": "markdown",
   "id": "377ec82b",
   "metadata": {
    "toc": true
   },
   "source": [
    "<h1>Table of Contents<span class=\"tocSkip\"></span></h1>\n",
    "<div class=\"toc\"><ul class=\"toc-item\"><li><span><a href=\"#Общие-данные\" data-toc-modified-id=\"Общие-данные-1\"><span class=\"toc-item-num\">1&nbsp;&nbsp;</span>Общие данные</a></span><ul class=\"toc-item\"><li><span><a href=\"#Цель-исследования\" data-toc-modified-id=\"Цель-исследования-1.1\"><span class=\"toc-item-num\">1.1&nbsp;&nbsp;</span>Цель исследования</a></span></li><li><span><a href=\"#План-работы\" data-toc-modified-id=\"План-работы-1.2\"><span class=\"toc-item-num\">1.2&nbsp;&nbsp;</span>План работы</a></span></li></ul></li><li><span><a href=\"#Описание-данных\" data-toc-modified-id=\"Описание-данных-2\"><span class=\"toc-item-num\">2&nbsp;&nbsp;</span>Описание данных</a></span></li><li><span><a href=\"#Исследование-таблиц:\" data-toc-modified-id=\"Исследование-таблиц:-3\"><span class=\"toc-item-num\">3&nbsp;&nbsp;</span>Исследование таблиц:</a></span><ul class=\"toc-item\"><li><span><a href=\"#Вывод-первых-строк:\" data-toc-modified-id=\"Вывод-первых-строк:-3.1\"><span class=\"toc-item-num\">3.1&nbsp;&nbsp;</span>Вывод первых строк:</a></span></li><li><span><a href=\"#Вывод-по-исследованию-таблиц\" data-toc-modified-id=\"Вывод-по-исследованию-таблиц-3.2\"><span class=\"toc-item-num\">3.2&nbsp;&nbsp;</span>Вывод по исследованию таблиц</a></span></li></ul></li><li><span><a href=\"#Решение-заданий-запросами-SQL:\" data-toc-modified-id=\"Решение-заданий-запросами-SQL:-4\"><span class=\"toc-item-num\">4&nbsp;&nbsp;</span>Решение заданий запросами SQL:</a></span><ul class=\"toc-item\"><li><span><a href=\"#Подсчет-количества-книг,-вышедших-после-01.01.2000-г.\" data-toc-modified-id=\"Подсчет-количества-книг,-вышедших-после-01.01.2000-г.-4.1\"><span class=\"toc-item-num\">4.1&nbsp;&nbsp;</span>Подсчет количества книг, вышедших после 01.01.2000 г.</a></span><ul class=\"toc-item\"><li><span><a href=\"#Вывод-по-задаче\" data-toc-modified-id=\"Вывод-по-задаче-4.1.1\"><span class=\"toc-item-num\">4.1.1&nbsp;&nbsp;</span>Вывод по задаче</a></span></li></ul></li><li><span><a href=\"#Для-каждой-книги-посчитать-количество-обзоров-и-среднюю-оценку\" data-toc-modified-id=\"Для-каждой-книги-посчитать-количество-обзоров-и-среднюю-оценку-4.2\"><span class=\"toc-item-num\">4.2&nbsp;&nbsp;</span>Для каждой книги посчитать количество обзоров и среднюю оценку</a></span><ul class=\"toc-item\"><li><span><a href=\"#Вывод-по-задаче\" data-toc-modified-id=\"Вывод-по-задаче-4.2.1\"><span class=\"toc-item-num\">4.2.1&nbsp;&nbsp;</span>Вывод по задаче</a></span></li></ul></li><li><span><a href=\"#Определение-издательство,-которое-выпустило-наибольшее-число-книг-толще-50-страниц---таким-образом,-исключим-брошюры-из-анализа\" data-toc-modified-id=\"Определение-издательство,-которое-выпустило-наибольшее-число-книг-толще-50-страниц---таким-образом,-исключим-брошюры-из-анализа-4.3\"><span class=\"toc-item-num\">4.3&nbsp;&nbsp;</span>Определение издательство, которое выпустило наибольшее число книг толще 50 страниц - таким образом, исключим брошюры из анализа</a></span><ul class=\"toc-item\"><li><span><a href=\"#Вывод-по-задаче\" data-toc-modified-id=\"Вывод-по-задаче-4.3.1\"><span class=\"toc-item-num\">4.3.1&nbsp;&nbsp;</span>Вывод по задаче</a></span></li></ul></li><li><span><a href=\"#Определение-автора-с-самой-высокой-средней-оценкой-книг---необходимо-учитывать-только-книги-с-50-и-более-оценками\" data-toc-modified-id=\"Определение-автора-с-самой-высокой-средней-оценкой-книг---необходимо-учитывать-только-книги-с-50-и-более-оценками-4.4\"><span class=\"toc-item-num\">4.4&nbsp;&nbsp;</span>Определение автора с самой высокой средней оценкой книг - необходимо учитывать только книги с 50 и более оценками</a></span><ul class=\"toc-item\"><li><span><a href=\"#Вывод-по-задаче\" data-toc-modified-id=\"Вывод-по-задаче-4.4.1\"><span class=\"toc-item-num\">4.4.1&nbsp;&nbsp;</span>Вывод по задаче</a></span></li></ul></li><li><span><a href=\"#Подсчет-среднего-количества-обзоров-от-пользователей,-которые-поставили-больше-50-оценок\" data-toc-modified-id=\"Подсчет-среднего-количества-обзоров-от-пользователей,-которые-поставили-больше-50-оценок-4.5\"><span class=\"toc-item-num\">4.5&nbsp;&nbsp;</span>Подсчет среднего количества обзоров от пользователей, которые поставили больше 50 оценок</a></span><ul class=\"toc-item\"><li><span><a href=\"#Вывод-по-задаче\" data-toc-modified-id=\"Вывод-по-задаче-4.5.1\"><span class=\"toc-item-num\">4.5.1&nbsp;&nbsp;</span>Вывод по задаче</a></span></li></ul></li></ul></li></ul></div>"
   ]
  },
  {
   "cell_type": "markdown",
   "id": "36210ab1",
   "metadata": {},
   "source": [
    "# Анализ базы данных"
   ]
  },
  {
   "cell_type": "markdown",
   "id": "bf3178ec",
   "metadata": {},
   "source": [
    "## Общие данные"
   ]
  },
  {
   "cell_type": "markdown",
   "id": "82b21ae9",
   "metadata": {},
   "source": [
    "Наша компания приобрела крупный сервис для чтения книг по подписке. Необходимо проанализировать базу данных. В ней содержится информация о книгах, издательствах, авторах, а также пользовательские обзоры книг. На основе этих данных можно будет сформулировать ценностное предложение для нового продукта."
   ]
  },
  {
   "cell_type": "markdown",
   "id": "f11966be",
   "metadata": {},
   "source": [
    "### Цель исследования"
   ]
  },
  {
   "cell_type": "markdown",
   "id": "69bd0030",
   "metadata": {},
   "source": [
    "**Цель исследования** - анализ базы данных сервиса чтения книг по подписке"
   ]
  },
  {
   "cell_type": "markdown",
   "id": "cae6c27c",
   "metadata": {},
   "source": [
    "### План работы"
   ]
  },
  {
   "cell_type": "markdown",
   "id": "0c0da027",
   "metadata": {},
   "source": [
    "**2. Описание данных**\n",
    "\n",
    "**3. Исследование таблиц:**\n",
    "   - вывод первых строк\n",
    "   - вывод по исследованию таблиц\n",
    "   \n",
    "**4. Решение заданий запросами SQL:**\n",
    "   - подсчет количества книг, вышедших после 01.01.2000 г.\n",
    "      - вывод по задаче\n",
    "   - для каждой книги посчитать количество обзоров и среднюю оценку\n",
    "      - вывод по задаче\n",
    "   - определение издательство, которое выпустило наибольшее число книг толще 50 страниц - таким образом, исключим брошюры из анализа\n",
    "      - вывод по задаче\n",
    "   - определение автора с самой высокой средней оценкой книг - необходимо учитывать только книги с 50 и более оценками\n",
    "      - вывод по задаче\n",
    "   - подсчет среднего количества обзоров от пользователей, которые поставили больше 50 оценок\n",
    "      - вывод по задаче\n",
    "   \n",
    "**5. Общий вывод:**"
   ]
  },
  {
   "cell_type": "markdown",
   "id": "d6499fe6",
   "metadata": {},
   "source": [
    "## Описание данных"
   ]
  },
  {
   "cell_type": "markdown",
   "id": "0278a517",
   "metadata": {},
   "source": [
    "Согласно прилагаемой документации, в базе данных 4 таблицы со следующим содержимым:\n",
    "\n",
    "1. Таблица `books` содержит данные о книгах.\n",
    "\n",
    "**Структура books:**\n",
    "\n",
    "- **`book_id`** — идентификатор книги\n",
    "- **`author_id`** — идентификатор автора\n",
    "- **`title`** — название книги\n",
    "- **`num_pages`** — количество страниц\n",
    "- **`publication_date`** — лата публикации книги\n",
    "- **`publisher_id`** — идентификатор издателя\n",
    "\n",
    "2. Таблица `autors` содержит данные об авторах.\n",
    "\n",
    "**Структура autors:**\n",
    "\n",
    "- **`author_id`** — идентификатор автора\n",
    "- **`author`** — имя автора\n",
    "\n",
    "3. Таблица `publishers` содержит данные об издательствах.\n",
    "\n",
    "**Структура publishers:**\n",
    "\n",
    "- **`publisher_id`** — идентификатор издательства\n",
    "- **`publisher`** — название издательства\n",
    "\n",
    "4. Таблица `ratings` содержит данные о пользовательских оценках книг.\n",
    "\n",
    "**Структура ratings:**\n",
    "\n",
    "- **`rating_id`** — идентификатор оценки\n",
    "- **`book_id`** — идентификатор книги\n",
    "- **`username`** — имя пользователя, оставившего оценку\n",
    "- **`rating`** — оценка книги\n",
    "\n",
    "5. Таблица `reviews` содержит данные о пользовательских обзорах на книги.\n",
    "\n",
    "**Структура reviews:**\n",
    "\n",
    "- **`review_id`** — идентификатор обзора\n",
    "- **`book_id`** — идентификатор книги\n",
    "- **`username`** — имя пользователя, написавшего обзор\n",
    "- **`text`** — текст обзора"
   ]
  },
  {
   "cell_type": "markdown",
   "id": "52f88d7e",
   "metadata": {},
   "source": [
    "## Исследование таблиц:"
   ]
  },
  {
   "cell_type": "markdown",
   "id": "b6c2d321",
   "metadata": {},
   "source": [
    "Подгружаем библиотеки, которые понадобятся для нашего исследования:"
   ]
  },
  {
   "cell_type": "code",
   "execution_count": 1,
   "id": "a97ef7c6",
   "metadata": {},
   "outputs": [],
   "source": [
    "import pandas as pd\n",
    "from sqlalchemy import create_engine"
   ]
  },
  {
   "cell_type": "markdown",
   "id": "4e1a1d3d",
   "metadata": {},
   "source": [
    "Устанавливаем параметры:"
   ]
  },
  {
   "cell_type": "code",
   "execution_count": 2,
   "id": "bd6c47db",
   "metadata": {},
   "outputs": [],
   "source": [
    "db_config = {'user': 'praktikum_student', # имя пользователя\n",
    "             'pwd': 'Sdf4$2;d-d30pp', # пароль\n",
    "             'host': 'rc1b-wcoijxj3yxfsf3fs.mdb.yandexcloud.net',\n",
    "             'port': 6432, # порт подключения\n",
    "             'db': 'data-analyst-final-project-db'} # название базы данных\n",
    "connection_string = 'postgresql://{}:{}@{}:{}/{}'.format(db_config['user'],\n",
    "                                                         db_config['pwd'],\n",
    "                                                         db_config['host'],\n",
    "                                                         db_config['port'],\n",
    "                                                         db_config['db'])\n",
    "# сохраняем коннектор\n",
    "engine = create_engine(connection_string, connect_args={'sslmode':'require'})"
   ]
  },
  {
   "cell_type": "markdown",
   "id": "29850dfb",
   "metadata": {},
   "source": [
    "### Вывод первых строк:"
   ]
  },
  {
   "cell_type": "markdown",
   "id": "e52baf5e",
   "metadata": {},
   "source": [
    "Таблица **books** - первые строки:"
   ]
  },
  {
   "cell_type": "code",
   "execution_count": 3,
   "id": "14d6e0bb",
   "metadata": {},
   "outputs": [
    {
     "name": "stdout",
     "output_type": "stream",
     "text": [
      "<class 'pandas.core.frame.DataFrame'>\n",
      "RangeIndex: 1000 entries, 0 to 999\n",
      "Data columns (total 6 columns):\n",
      "book_id             1000 non-null int64\n",
      "author_id           1000 non-null int64\n",
      "title               1000 non-null object\n",
      "num_pages           1000 non-null int64\n",
      "publication_date    1000 non-null object\n",
      "publisher_id        1000 non-null int64\n",
      "dtypes: int64(4), object(2)\n",
      "memory usage: 47.0+ KB\n",
      "None\n"
     ]
    },
    {
     "data": {
      "text/html": [
       "<div>\n",
       "<style scoped>\n",
       "    .dataframe tbody tr th:only-of-type {\n",
       "        vertical-align: middle;\n",
       "    }\n",
       "\n",
       "    .dataframe tbody tr th {\n",
       "        vertical-align: top;\n",
       "    }\n",
       "\n",
       "    .dataframe thead th {\n",
       "        text-align: right;\n",
       "    }\n",
       "</style>\n",
       "<table border=\"1\" class=\"dataframe\">\n",
       "  <thead>\n",
       "    <tr style=\"text-align: right;\">\n",
       "      <th></th>\n",
       "      <th>book_id</th>\n",
       "      <th>author_id</th>\n",
       "      <th>title</th>\n",
       "      <th>num_pages</th>\n",
       "      <th>publication_date</th>\n",
       "      <th>publisher_id</th>\n",
       "    </tr>\n",
       "  </thead>\n",
       "  <tbody>\n",
       "    <tr>\n",
       "      <td>0</td>\n",
       "      <td>1</td>\n",
       "      <td>546</td>\n",
       "      <td>'Salem's Lot</td>\n",
       "      <td>594</td>\n",
       "      <td>2005-11-01</td>\n",
       "      <td>93</td>\n",
       "    </tr>\n",
       "    <tr>\n",
       "      <td>1</td>\n",
       "      <td>2</td>\n",
       "      <td>465</td>\n",
       "      <td>1 000 Places to See Before You Die</td>\n",
       "      <td>992</td>\n",
       "      <td>2003-05-22</td>\n",
       "      <td>336</td>\n",
       "    </tr>\n",
       "    <tr>\n",
       "      <td>2</td>\n",
       "      <td>3</td>\n",
       "      <td>407</td>\n",
       "      <td>13 Little Blue Envelopes (Little Blue Envelope...</td>\n",
       "      <td>322</td>\n",
       "      <td>2010-12-21</td>\n",
       "      <td>135</td>\n",
       "    </tr>\n",
       "    <tr>\n",
       "      <td>3</td>\n",
       "      <td>4</td>\n",
       "      <td>82</td>\n",
       "      <td>1491: New Revelations of the Americas Before C...</td>\n",
       "      <td>541</td>\n",
       "      <td>2006-10-10</td>\n",
       "      <td>309</td>\n",
       "    </tr>\n",
       "    <tr>\n",
       "      <td>4</td>\n",
       "      <td>5</td>\n",
       "      <td>125</td>\n",
       "      <td>1776</td>\n",
       "      <td>386</td>\n",
       "      <td>2006-07-04</td>\n",
       "      <td>268</td>\n",
       "    </tr>\n",
       "  </tbody>\n",
       "</table>\n",
       "</div>"
      ],
      "text/plain": [
       "   book_id  author_id                                              title  \\\n",
       "0        1        546                                       'Salem's Lot   \n",
       "1        2        465                 1 000 Places to See Before You Die   \n",
       "2        3        407  13 Little Blue Envelopes (Little Blue Envelope...   \n",
       "3        4         82  1491: New Revelations of the Americas Before C...   \n",
       "4        5        125                                               1776   \n",
       "\n",
       "   num_pages publication_date  publisher_id  \n",
       "0        594       2005-11-01            93  \n",
       "1        992       2003-05-22           336  \n",
       "2        322       2010-12-21           135  \n",
       "3        541       2006-10-10           309  \n",
       "4        386       2006-07-04           268  "
      ]
     },
     "execution_count": 3,
     "metadata": {},
     "output_type": "execute_result"
    }
   ],
   "source": [
    "query = '''\n",
    "        SELECT *\n",
    "        FROM books\n",
    "        '''\n",
    "books = pd.io.sql.read_sql(query, con = engine)\n",
    "print(books.info())\n",
    "books.head()"
   ]
  },
  {
   "cell_type": "markdown",
   "id": "8cc3c727",
   "metadata": {},
   "source": [
    "Анализ таблицы `books`:\n",
    "- пропусков нет\n",
    "- в библиоткеке 1000 книг\n",
    "- дата не соответствует типу данных для дат"
   ]
  },
  {
   "cell_type": "markdown",
   "id": "419e8870",
   "metadata": {},
   "source": [
    "Таблица **authors** - первые строки:"
   ]
  },
  {
   "cell_type": "code",
   "execution_count": 4,
   "id": "a091c36b",
   "metadata": {},
   "outputs": [
    {
     "name": "stdout",
     "output_type": "stream",
     "text": [
      "<class 'pandas.core.frame.DataFrame'>\n",
      "RangeIndex: 636 entries, 0 to 635\n",
      "Data columns (total 2 columns):\n",
      "author_id    636 non-null int64\n",
      "author       636 non-null object\n",
      "dtypes: int64(1), object(1)\n",
      "memory usage: 10.1+ KB\n",
      "None\n"
     ]
    },
    {
     "data": {
      "text/html": [
       "<div>\n",
       "<style scoped>\n",
       "    .dataframe tbody tr th:only-of-type {\n",
       "        vertical-align: middle;\n",
       "    }\n",
       "\n",
       "    .dataframe tbody tr th {\n",
       "        vertical-align: top;\n",
       "    }\n",
       "\n",
       "    .dataframe thead th {\n",
       "        text-align: right;\n",
       "    }\n",
       "</style>\n",
       "<table border=\"1\" class=\"dataframe\">\n",
       "  <thead>\n",
       "    <tr style=\"text-align: right;\">\n",
       "      <th></th>\n",
       "      <th>author_id</th>\n",
       "      <th>author</th>\n",
       "    </tr>\n",
       "  </thead>\n",
       "  <tbody>\n",
       "    <tr>\n",
       "      <td>0</td>\n",
       "      <td>1</td>\n",
       "      <td>A.S. Byatt</td>\n",
       "    </tr>\n",
       "    <tr>\n",
       "      <td>1</td>\n",
       "      <td>2</td>\n",
       "      <td>Aesop/Laura Harris/Laura Gibbs</td>\n",
       "    </tr>\n",
       "    <tr>\n",
       "      <td>2</td>\n",
       "      <td>3</td>\n",
       "      <td>Agatha Christie</td>\n",
       "    </tr>\n",
       "    <tr>\n",
       "      <td>3</td>\n",
       "      <td>4</td>\n",
       "      <td>Alan Brennert</td>\n",
       "    </tr>\n",
       "    <tr>\n",
       "      <td>4</td>\n",
       "      <td>5</td>\n",
       "      <td>Alan Moore/David   Lloyd</td>\n",
       "    </tr>\n",
       "  </tbody>\n",
       "</table>\n",
       "</div>"
      ],
      "text/plain": [
       "   author_id                          author\n",
       "0          1                      A.S. Byatt\n",
       "1          2  Aesop/Laura Harris/Laura Gibbs\n",
       "2          3                 Agatha Christie\n",
       "3          4                   Alan Brennert\n",
       "4          5        Alan Moore/David   Lloyd"
      ]
     },
     "execution_count": 4,
     "metadata": {},
     "output_type": "execute_result"
    }
   ],
   "source": [
    "query = '''\n",
    "        SELECT *\n",
    "        FROM authors\n",
    "        '''\n",
    "authors = pd.io.sql.read_sql(query, con = engine)\n",
    "print(authors.info())\n",
    "authors.head()"
   ]
  },
  {
   "cell_type": "markdown",
   "id": "b1621ca0",
   "metadata": {},
   "source": [
    "Анализ таблицы `authors`:\n",
    "- пропусков нет\n",
    "- в базе данных 636 записей об авторах"
   ]
  },
  {
   "cell_type": "markdown",
   "id": "0c1ac24c",
   "metadata": {},
   "source": [
    "Таблица **publishers** - первые строки:"
   ]
  },
  {
   "cell_type": "code",
   "execution_count": 5,
   "id": "1d943f47",
   "metadata": {},
   "outputs": [
    {
     "name": "stdout",
     "output_type": "stream",
     "text": [
      "<class 'pandas.core.frame.DataFrame'>\n",
      "RangeIndex: 340 entries, 0 to 339\n",
      "Data columns (total 2 columns):\n",
      "publisher_id    340 non-null int64\n",
      "publisher       340 non-null object\n",
      "dtypes: int64(1), object(1)\n",
      "memory usage: 5.4+ KB\n",
      "None\n"
     ]
    },
    {
     "data": {
      "text/html": [
       "<div>\n",
       "<style scoped>\n",
       "    .dataframe tbody tr th:only-of-type {\n",
       "        vertical-align: middle;\n",
       "    }\n",
       "\n",
       "    .dataframe tbody tr th {\n",
       "        vertical-align: top;\n",
       "    }\n",
       "\n",
       "    .dataframe thead th {\n",
       "        text-align: right;\n",
       "    }\n",
       "</style>\n",
       "<table border=\"1\" class=\"dataframe\">\n",
       "  <thead>\n",
       "    <tr style=\"text-align: right;\">\n",
       "      <th></th>\n",
       "      <th>publisher_id</th>\n",
       "      <th>publisher</th>\n",
       "    </tr>\n",
       "  </thead>\n",
       "  <tbody>\n",
       "    <tr>\n",
       "      <td>0</td>\n",
       "      <td>1</td>\n",
       "      <td>Ace</td>\n",
       "    </tr>\n",
       "    <tr>\n",
       "      <td>1</td>\n",
       "      <td>2</td>\n",
       "      <td>Ace Book</td>\n",
       "    </tr>\n",
       "    <tr>\n",
       "      <td>2</td>\n",
       "      <td>3</td>\n",
       "      <td>Ace Books</td>\n",
       "    </tr>\n",
       "    <tr>\n",
       "      <td>3</td>\n",
       "      <td>4</td>\n",
       "      <td>Ace Hardcover</td>\n",
       "    </tr>\n",
       "    <tr>\n",
       "      <td>4</td>\n",
       "      <td>5</td>\n",
       "      <td>Addison Wesley Publishing Company</td>\n",
       "    </tr>\n",
       "  </tbody>\n",
       "</table>\n",
       "</div>"
      ],
      "text/plain": [
       "   publisher_id                          publisher\n",
       "0             1                                Ace\n",
       "1             2                           Ace Book\n",
       "2             3                          Ace Books\n",
       "3             4                      Ace Hardcover\n",
       "4             5  Addison Wesley Publishing Company"
      ]
     },
     "execution_count": 5,
     "metadata": {},
     "output_type": "execute_result"
    }
   ],
   "source": [
    "query = '''\n",
    "        SELECT *\n",
    "        FROM publishers\n",
    "        '''\n",
    "publishers = pd.io.sql.read_sql(query, con = engine)\n",
    "print(publishers.info())\n",
    "publishers.head()"
   ]
  },
  {
   "cell_type": "markdown",
   "id": "01f8b139",
   "metadata": {},
   "source": [
    "Анализ таблицы `publishers`:\n",
    "- пропусков нет\n",
    "- в базе данных 340 записей об издательствах"
   ]
  },
  {
   "cell_type": "markdown",
   "id": "c448baa5",
   "metadata": {},
   "source": [
    "Таблица **ratings** - первые строки:"
   ]
  },
  {
   "cell_type": "code",
   "execution_count": 6,
   "id": "c3efd08b",
   "metadata": {},
   "outputs": [
    {
     "name": "stdout",
     "output_type": "stream",
     "text": [
      "<class 'pandas.core.frame.DataFrame'>\n",
      "RangeIndex: 6456 entries, 0 to 6455\n",
      "Data columns (total 4 columns):\n",
      "rating_id    6456 non-null int64\n",
      "book_id      6456 non-null int64\n",
      "username     6456 non-null object\n",
      "rating       6456 non-null int64\n",
      "dtypes: int64(3), object(1)\n",
      "memory usage: 201.9+ KB\n",
      "None\n"
     ]
    },
    {
     "data": {
      "text/html": [
       "<div>\n",
       "<style scoped>\n",
       "    .dataframe tbody tr th:only-of-type {\n",
       "        vertical-align: middle;\n",
       "    }\n",
       "\n",
       "    .dataframe tbody tr th {\n",
       "        vertical-align: top;\n",
       "    }\n",
       "\n",
       "    .dataframe thead th {\n",
       "        text-align: right;\n",
       "    }\n",
       "</style>\n",
       "<table border=\"1\" class=\"dataframe\">\n",
       "  <thead>\n",
       "    <tr style=\"text-align: right;\">\n",
       "      <th></th>\n",
       "      <th>rating_id</th>\n",
       "      <th>book_id</th>\n",
       "      <th>username</th>\n",
       "      <th>rating</th>\n",
       "    </tr>\n",
       "  </thead>\n",
       "  <tbody>\n",
       "    <tr>\n",
       "      <td>0</td>\n",
       "      <td>1</td>\n",
       "      <td>1</td>\n",
       "      <td>ryanfranco</td>\n",
       "      <td>4</td>\n",
       "    </tr>\n",
       "    <tr>\n",
       "      <td>1</td>\n",
       "      <td>2</td>\n",
       "      <td>1</td>\n",
       "      <td>grantpatricia</td>\n",
       "      <td>2</td>\n",
       "    </tr>\n",
       "    <tr>\n",
       "      <td>2</td>\n",
       "      <td>3</td>\n",
       "      <td>1</td>\n",
       "      <td>brandtandrea</td>\n",
       "      <td>5</td>\n",
       "    </tr>\n",
       "    <tr>\n",
       "      <td>3</td>\n",
       "      <td>4</td>\n",
       "      <td>2</td>\n",
       "      <td>lorichen</td>\n",
       "      <td>3</td>\n",
       "    </tr>\n",
       "    <tr>\n",
       "      <td>4</td>\n",
       "      <td>5</td>\n",
       "      <td>2</td>\n",
       "      <td>mariokeller</td>\n",
       "      <td>2</td>\n",
       "    </tr>\n",
       "  </tbody>\n",
       "</table>\n",
       "</div>"
      ],
      "text/plain": [
       "   rating_id  book_id       username  rating\n",
       "0          1        1     ryanfranco       4\n",
       "1          2        1  grantpatricia       2\n",
       "2          3        1   brandtandrea       5\n",
       "3          4        2       lorichen       3\n",
       "4          5        2    mariokeller       2"
      ]
     },
     "execution_count": 6,
     "metadata": {},
     "output_type": "execute_result"
    }
   ],
   "source": [
    "query = '''\n",
    "        SELECT *\n",
    "        FROM ratings\n",
    "        '''\n",
    "ratings = pd.io.sql.read_sql(query, con = engine)\n",
    "print(ratings.info())\n",
    "ratings.head()"
   ]
  },
  {
   "cell_type": "markdown",
   "id": "ef4dc63c",
   "metadata": {},
   "source": [
    "Анализ таблицы `ratings`:\n",
    "- пропусков нет\n",
    "- в базе данных 6456 записей об оценках пользователей"
   ]
  },
  {
   "cell_type": "markdown",
   "id": "c3676fe8",
   "metadata": {},
   "source": [
    "Таблица **reviews** - первые строки:"
   ]
  },
  {
   "cell_type": "code",
   "execution_count": 7,
   "id": "16af8a8f",
   "metadata": {},
   "outputs": [
    {
     "name": "stdout",
     "output_type": "stream",
     "text": [
      "<class 'pandas.core.frame.DataFrame'>\n",
      "RangeIndex: 2793 entries, 0 to 2792\n",
      "Data columns (total 4 columns):\n",
      "review_id    2793 non-null int64\n",
      "book_id      2793 non-null int64\n",
      "username     2793 non-null object\n",
      "text         2793 non-null object\n",
      "dtypes: int64(2), object(2)\n",
      "memory usage: 87.4+ KB\n",
      "None\n"
     ]
    },
    {
     "data": {
      "text/html": [
       "<div>\n",
       "<style scoped>\n",
       "    .dataframe tbody tr th:only-of-type {\n",
       "        vertical-align: middle;\n",
       "    }\n",
       "\n",
       "    .dataframe tbody tr th {\n",
       "        vertical-align: top;\n",
       "    }\n",
       "\n",
       "    .dataframe thead th {\n",
       "        text-align: right;\n",
       "    }\n",
       "</style>\n",
       "<table border=\"1\" class=\"dataframe\">\n",
       "  <thead>\n",
       "    <tr style=\"text-align: right;\">\n",
       "      <th></th>\n",
       "      <th>review_id</th>\n",
       "      <th>book_id</th>\n",
       "      <th>username</th>\n",
       "      <th>text</th>\n",
       "    </tr>\n",
       "  </thead>\n",
       "  <tbody>\n",
       "    <tr>\n",
       "      <td>0</td>\n",
       "      <td>1</td>\n",
       "      <td>1</td>\n",
       "      <td>brandtandrea</td>\n",
       "      <td>Mention society tell send professor analysis. ...</td>\n",
       "    </tr>\n",
       "    <tr>\n",
       "      <td>1</td>\n",
       "      <td>2</td>\n",
       "      <td>1</td>\n",
       "      <td>ryanfranco</td>\n",
       "      <td>Foot glass pretty audience hit themselves. Amo...</td>\n",
       "    </tr>\n",
       "    <tr>\n",
       "      <td>2</td>\n",
       "      <td>3</td>\n",
       "      <td>2</td>\n",
       "      <td>lorichen</td>\n",
       "      <td>Listen treat keep worry. Miss husband tax but ...</td>\n",
       "    </tr>\n",
       "    <tr>\n",
       "      <td>3</td>\n",
       "      <td>4</td>\n",
       "      <td>3</td>\n",
       "      <td>johnsonamanda</td>\n",
       "      <td>Finally month interesting blue could nature cu...</td>\n",
       "    </tr>\n",
       "    <tr>\n",
       "      <td>4</td>\n",
       "      <td>5</td>\n",
       "      <td>3</td>\n",
       "      <td>scotttamara</td>\n",
       "      <td>Nation purpose heavy give wait song will. List...</td>\n",
       "    </tr>\n",
       "  </tbody>\n",
       "</table>\n",
       "</div>"
      ],
      "text/plain": [
       "   review_id  book_id       username  \\\n",
       "0          1        1   brandtandrea   \n",
       "1          2        1     ryanfranco   \n",
       "2          3        2       lorichen   \n",
       "3          4        3  johnsonamanda   \n",
       "4          5        3    scotttamara   \n",
       "\n",
       "                                                text  \n",
       "0  Mention society tell send professor analysis. ...  \n",
       "1  Foot glass pretty audience hit themselves. Amo...  \n",
       "2  Listen treat keep worry. Miss husband tax but ...  \n",
       "3  Finally month interesting blue could nature cu...  \n",
       "4  Nation purpose heavy give wait song will. List...  "
      ]
     },
     "execution_count": 7,
     "metadata": {},
     "output_type": "execute_result"
    }
   ],
   "source": [
    "query = '''\n",
    "        SELECT *\n",
    "        FROM reviews\n",
    "        '''\n",
    "reviews = pd.io.sql.read_sql(query, con = engine)\n",
    "print(reviews.info())\n",
    "reviews.head()"
   ]
  },
  {
   "cell_type": "markdown",
   "id": "0a247369",
   "metadata": {},
   "source": [
    "Анализ таблицы `reviews`:\n",
    "- пропусков нет\n",
    "- в базе данных 2793 записей-ревью от пользователей"
   ]
  },
  {
   "cell_type": "markdown",
   "id": "351a0af0",
   "metadata": {},
   "source": [
    "### Вывод по исследованию таблиц"
   ]
  },
  {
   "cell_type": "markdown",
   "id": "15804bf3",
   "metadata": {},
   "source": [
    "По всем таблицам получены следующие сведения:\n",
    "- пропуски отсутствуют во всех таблицах\n",
    "- дата публикации в таблице `books` не соответствует типу данных для даты"
   ]
  },
  {
   "cell_type": "markdown",
   "id": "ec98af42",
   "metadata": {},
   "source": [
    "## Решение заданий запросами SQL:"
   ]
  },
  {
   "cell_type": "markdown",
   "id": "72351dd2",
   "metadata": {},
   "source": [
    "### Подсчет количества книг, вышедших после 01.01.2000 г."
   ]
  },
  {
   "cell_type": "code",
   "execution_count": 8,
   "id": "ee1d61a2",
   "metadata": {},
   "outputs": [
    {
     "data": {
      "text/html": [
       "<div>\n",
       "<style scoped>\n",
       "    .dataframe tbody tr th:only-of-type {\n",
       "        vertical-align: middle;\n",
       "    }\n",
       "\n",
       "    .dataframe tbody tr th {\n",
       "        vertical-align: top;\n",
       "    }\n",
       "\n",
       "    .dataframe thead th {\n",
       "        text-align: right;\n",
       "    }\n",
       "</style>\n",
       "<table border=\"1\" class=\"dataframe\">\n",
       "  <thead>\n",
       "    <tr style=\"text-align: right;\">\n",
       "      <th></th>\n",
       "      <th>count</th>\n",
       "    </tr>\n",
       "  </thead>\n",
       "  <tbody>\n",
       "    <tr>\n",
       "      <td>0</td>\n",
       "      <td>821</td>\n",
       "    </tr>\n",
       "  </tbody>\n",
       "</table>\n",
       "</div>"
      ],
      "text/plain": [
       "   count\n",
       "0    821"
      ]
     },
     "execution_count": 8,
     "metadata": {},
     "output_type": "execute_result"
    }
   ],
   "source": [
    "query = '''\n",
    "        SELECT COUNT(book_id)\n",
    "        FROM books\n",
    "        WHERE publication_date >= '2000-01-01'\n",
    "        '''\n",
    "\n",
    "pd.io.sql.read_sql(query, con = engine)"
   ]
  },
  {
   "cell_type": "markdown",
   "id": "578b4d30",
   "metadata": {},
   "source": [
    "#### Вывод по задаче"
   ]
  },
  {
   "cell_type": "markdown",
   "id": "543b07a6",
   "metadata": {},
   "source": [
    "- Количество книг, выпущенных после 01.01.2000 - **821 шт.**\n",
    "- Анализ даты показывает, что тип данных в базе данных указан верно. Pandas(Python) - распознает как текст."
   ]
  },
  {
   "cell_type": "markdown",
   "id": "d17e224f",
   "metadata": {},
   "source": [
    "### Для каждой книги посчитать количество обзоров и среднюю оценку"
   ]
  },
  {
   "cell_type": "code",
   "execution_count": 9,
   "id": "7fb0c4ac",
   "metadata": {},
   "outputs": [
    {
     "data": {
      "text/html": [
       "<div>\n",
       "<style scoped>\n",
       "    .dataframe tbody tr th:only-of-type {\n",
       "        vertical-align: middle;\n",
       "    }\n",
       "\n",
       "    .dataframe tbody tr th {\n",
       "        vertical-align: top;\n",
       "    }\n",
       "\n",
       "    .dataframe thead th {\n",
       "        text-align: right;\n",
       "    }\n",
       "</style>\n",
       "<table border=\"1\" class=\"dataframe\">\n",
       "  <thead>\n",
       "    <tr style=\"text-align: right;\">\n",
       "      <th></th>\n",
       "      <th>book_id</th>\n",
       "      <th>mean_rat</th>\n",
       "      <th>count_rev</th>\n",
       "    </tr>\n",
       "  </thead>\n",
       "  <tbody>\n",
       "    <tr>\n",
       "      <td>0</td>\n",
       "      <td>672</td>\n",
       "      <td>5.00</td>\n",
       "      <td>NaN</td>\n",
       "    </tr>\n",
       "    <tr>\n",
       "      <td>1</td>\n",
       "      <td>17</td>\n",
       "      <td>5.00</td>\n",
       "      <td>4.0</td>\n",
       "    </tr>\n",
       "    <tr>\n",
       "      <td>2</td>\n",
       "      <td>553</td>\n",
       "      <td>5.00</td>\n",
       "      <td>3.0</td>\n",
       "    </tr>\n",
       "    <tr>\n",
       "      <td>3</td>\n",
       "      <td>444</td>\n",
       "      <td>5.00</td>\n",
       "      <td>3.0</td>\n",
       "    </tr>\n",
       "    <tr>\n",
       "      <td>4</td>\n",
       "      <td>516</td>\n",
       "      <td>5.00</td>\n",
       "      <td>2.0</td>\n",
       "    </tr>\n",
       "    <tr>\n",
       "      <td>...</td>\n",
       "      <td>...</td>\n",
       "      <td>...</td>\n",
       "      <td>...</td>\n",
       "    </tr>\n",
       "    <tr>\n",
       "      <td>995</td>\n",
       "      <td>915</td>\n",
       "      <td>2.25</td>\n",
       "      <td>3.0</td>\n",
       "    </tr>\n",
       "    <tr>\n",
       "      <td>996</td>\n",
       "      <td>202</td>\n",
       "      <td>2.00</td>\n",
       "      <td>3.0</td>\n",
       "    </tr>\n",
       "    <tr>\n",
       "      <td>997</td>\n",
       "      <td>371</td>\n",
       "      <td>2.00</td>\n",
       "      <td>2.0</td>\n",
       "    </tr>\n",
       "    <tr>\n",
       "      <td>998</td>\n",
       "      <td>316</td>\n",
       "      <td>2.00</td>\n",
       "      <td>2.0</td>\n",
       "    </tr>\n",
       "    <tr>\n",
       "      <td>999</td>\n",
       "      <td>303</td>\n",
       "      <td>1.50</td>\n",
       "      <td>2.0</td>\n",
       "    </tr>\n",
       "  </tbody>\n",
       "</table>\n",
       "<p>1000 rows × 3 columns</p>\n",
       "</div>"
      ],
      "text/plain": [
       "     book_id  mean_rat  count_rev\n",
       "0        672      5.00        NaN\n",
       "1         17      5.00        4.0\n",
       "2        553      5.00        3.0\n",
       "3        444      5.00        3.0\n",
       "4        516      5.00        2.0\n",
       "..       ...       ...        ...\n",
       "995      915      2.25        3.0\n",
       "996      202      2.00        3.0\n",
       "997      371      2.00        2.0\n",
       "998      316      2.00        2.0\n",
       "999      303      1.50        2.0\n",
       "\n",
       "[1000 rows x 3 columns]"
      ]
     },
     "execution_count": 9,
     "metadata": {},
     "output_type": "execute_result"
    }
   ],
   "source": [
    "query = '''\n",
    "        WITH\n",
    "        rat AS (SELECT book_id,\n",
    "                       AVG(rating) AS mean_rat\n",
    "                FROM ratings\n",
    "                GROUP BY book_id),\n",
    "        rev AS (SELECT book_id,\n",
    "                       COUNT(*) AS count_rev\n",
    "                FROM reviews\n",
    "                GROUP BY book_id)\n",
    "\n",
    "        SELECT b.book_id,\n",
    "               rat.mean_rat,\n",
    "               rev.count_rev\n",
    "        FROM books AS b\n",
    "        LEFT JOIN rat ON b.book_id=rat.book_id\n",
    "        LEFT JOIN rev ON b.book_id=rev.book_id\n",
    "        ORDER BY mean_rat DESC, count_rev DESC\n",
    "        '''\n",
    "\n",
    "pd.io.sql.read_sql(query, con = engine)"
   ]
  },
  {
   "cell_type": "markdown",
   "id": "3a2f9009",
   "metadata": {},
   "source": [
    "#### Вывод по задаче"
   ]
  },
  {
   "cell_type": "markdown",
   "id": "8a79cbbc",
   "metadata": {},
   "source": [
    "- **по некоторым книгам нет ревью от пользователей**"
   ]
  },
  {
   "cell_type": "markdown",
   "id": "24b9338f",
   "metadata": {},
   "source": [
    "### Определение издательство, которое выпустило наибольшее число книг толще 50 страниц - таким образом, исключим брошюры из анализа"
   ]
  },
  {
   "cell_type": "code",
   "execution_count": 10,
   "id": "c1d3d2ee",
   "metadata": {},
   "outputs": [
    {
     "data": {
      "text/html": [
       "<div>\n",
       "<style scoped>\n",
       "    .dataframe tbody tr th:only-of-type {\n",
       "        vertical-align: middle;\n",
       "    }\n",
       "\n",
       "    .dataframe tbody tr th {\n",
       "        vertical-align: top;\n",
       "    }\n",
       "\n",
       "    .dataframe thead th {\n",
       "        text-align: right;\n",
       "    }\n",
       "</style>\n",
       "<table border=\"1\" class=\"dataframe\">\n",
       "  <thead>\n",
       "    <tr style=\"text-align: right;\">\n",
       "      <th></th>\n",
       "      <th>publisher_id</th>\n",
       "      <th>publisher</th>\n",
       "      <th>count_books</th>\n",
       "    </tr>\n",
       "  </thead>\n",
       "  <tbody>\n",
       "    <tr>\n",
       "      <td>0</td>\n",
       "      <td>212</td>\n",
       "      <td>Penguin Books</td>\n",
       "      <td>42</td>\n",
       "    </tr>\n",
       "    <tr>\n",
       "      <td>1</td>\n",
       "      <td>309</td>\n",
       "      <td>Vintage</td>\n",
       "      <td>31</td>\n",
       "    </tr>\n",
       "    <tr>\n",
       "      <td>2</td>\n",
       "      <td>116</td>\n",
       "      <td>Grand Central Publishing</td>\n",
       "      <td>25</td>\n",
       "    </tr>\n",
       "    <tr>\n",
       "      <td>3</td>\n",
       "      <td>217</td>\n",
       "      <td>Penguin Classics</td>\n",
       "      <td>24</td>\n",
       "    </tr>\n",
       "    <tr>\n",
       "      <td>4</td>\n",
       "      <td>35</td>\n",
       "      <td>Bantam</td>\n",
       "      <td>19</td>\n",
       "    </tr>\n",
       "  </tbody>\n",
       "</table>\n",
       "</div>"
      ],
      "text/plain": [
       "   publisher_id                 publisher  count_books\n",
       "0           212             Penguin Books           42\n",
       "1           309                   Vintage           31\n",
       "2           116  Grand Central Publishing           25\n",
       "3           217          Penguin Classics           24\n",
       "4            35                    Bantam           19"
      ]
     },
     "execution_count": 10,
     "metadata": {},
     "output_type": "execute_result"
    }
   ],
   "source": [
    "query = '''\n",
    "        SELECT pub.publisher_id, \n",
    "               pub.publisher,\n",
    "               COUNT (book_id) AS count_books\n",
    "        FROM books AS b\n",
    "        LEFT JOIN publishers AS pub ON b.publisher_id=pub.publisher_id\n",
    "        WHERE num_pages > 50\n",
    "        GROUP BY pub.publisher_id, pub.publisher\n",
    "        ORDER BY count_books DESC\n",
    "        LIMIT 5\n",
    "        '''\n",
    "\n",
    "pd.io.sql.read_sql(query, con = engine)"
   ]
  },
  {
   "cell_type": "markdown",
   "id": "73d09afc",
   "metadata": {},
   "source": [
    "#### Вывод по задаче"
   ]
  },
  {
   "cell_type": "markdown",
   "id": "fc04c78b",
   "metadata": {},
   "source": [
    "- **издательство** с самым **большим количеством изданных книг** (больше 50 страниц) - **Penguin Books: 42 шт**"
   ]
  },
  {
   "cell_type": "markdown",
   "id": "ac81c1e9",
   "metadata": {},
   "source": [
    "### Определение автора с самой высокой средней оценкой книг - необходимо учитывать только книги с 50 и более оценками"
   ]
  },
  {
   "cell_type": "code",
   "execution_count": 11,
   "id": "4777ea8b",
   "metadata": {},
   "outputs": [
    {
     "data": {
      "text/html": [
       "<div>\n",
       "<style scoped>\n",
       "    .dataframe tbody tr th:only-of-type {\n",
       "        vertical-align: middle;\n",
       "    }\n",
       "\n",
       "    .dataframe tbody tr th {\n",
       "        vertical-align: top;\n",
       "    }\n",
       "\n",
       "    .dataframe thead th {\n",
       "        text-align: right;\n",
       "    }\n",
       "</style>\n",
       "<table border=\"1\" class=\"dataframe\">\n",
       "  <thead>\n",
       "    <tr style=\"text-align: right;\">\n",
       "      <th></th>\n",
       "      <th>author</th>\n",
       "      <th>round</th>\n",
       "    </tr>\n",
       "  </thead>\n",
       "  <tbody>\n",
       "    <tr>\n",
       "      <td>0</td>\n",
       "      <td>J.K. Rowling/Mary GrandPré</td>\n",
       "      <td>4.41</td>\n",
       "    </tr>\n",
       "    <tr>\n",
       "      <td>1</td>\n",
       "      <td>J.R.R. Tolkien</td>\n",
       "      <td>4.39</td>\n",
       "    </tr>\n",
       "    <tr>\n",
       "      <td>2</td>\n",
       "      <td>J.K. Rowling/Mary GrandPré</td>\n",
       "      <td>4.29</td>\n",
       "    </tr>\n",
       "    <tr>\n",
       "      <td>3</td>\n",
       "      <td>Markus Zusak/Cao Xuân Việt Khương</td>\n",
       "      <td>4.26</td>\n",
       "    </tr>\n",
       "    <tr>\n",
       "      <td>4</td>\n",
       "      <td>J.K. Rowling/Mary GrandPré</td>\n",
       "      <td>4.25</td>\n",
       "    </tr>\n",
       "  </tbody>\n",
       "</table>\n",
       "</div>"
      ],
      "text/plain": [
       "                              author  round\n",
       "0         J.K. Rowling/Mary GrandPré   4.41\n",
       "1                     J.R.R. Tolkien   4.39\n",
       "2         J.K. Rowling/Mary GrandPré   4.29\n",
       "3  Markus Zusak/Cao Xuân Việt Khương   4.26\n",
       "4         J.K. Rowling/Mary GrandPré   4.25"
      ]
     },
     "execution_count": 11,
     "metadata": {},
     "output_type": "execute_result"
    }
   ],
   "source": [
    "query = '''\n",
    "        WITH\n",
    "        rat AS (SELECT book_id,\n",
    "                       AVG(rating) AS mean_rat\n",
    "                FROM ratings\n",
    "                GROUP BY book_id\n",
    "                HAVING COUNT(*) > 50)\n",
    "\n",
    "        SELECT a.author,\n",
    "               ROUND(rat.mean_rat, 2)\n",
    "        FROM rat\n",
    "        LEFT JOIN books AS b ON rat.book_id=b.book_id\n",
    "        LEFT JOIN authors AS a ON b.author_id=a.author_id\n",
    "        ORDER BY rat.mean_rat DESC\n",
    "        LIMIT 5\n",
    "        '''\n",
    "\n",
    "pd.io.sql.read_sql(query, con = engine)"
   ]
  },
  {
   "cell_type": "markdown",
   "id": "df576f32",
   "metadata": {},
   "source": [
    "#### Вывод по задаче"
   ]
  },
  {
   "cell_type": "markdown",
   "id": "c758487d",
   "metadata": {},
   "source": [
    "- самый **высокорейтинговый** писатель с оценкой **4,41** - **Джоан Роулинг**\n",
    "- также указана в соавторстве **Мэри Грандпре** - иллюстратор книг Джоан Роулинг о Гарри Поттере\n",
    "- значит культовые книги про мальчика, который выжил (Гарри Поттер) сделали эту пару самой рейтинговой"
   ]
  },
  {
   "cell_type": "markdown",
   "id": "c28681ae",
   "metadata": {},
   "source": [
    "### Подсчет среднего количества обзоров от пользователей, которые поставили больше 50 оценок"
   ]
  },
  {
   "cell_type": "code",
   "execution_count": 12,
   "id": "794ebafc",
   "metadata": {},
   "outputs": [
    {
     "data": {
      "text/html": [
       "<div>\n",
       "<style scoped>\n",
       "    .dataframe tbody tr th:only-of-type {\n",
       "        vertical-align: middle;\n",
       "    }\n",
       "\n",
       "    .dataframe tbody tr th {\n",
       "        vertical-align: top;\n",
       "    }\n",
       "\n",
       "    .dataframe thead th {\n",
       "        text-align: right;\n",
       "    }\n",
       "</style>\n",
       "<table border=\"1\" class=\"dataframe\">\n",
       "  <thead>\n",
       "    <tr style=\"text-align: right;\">\n",
       "      <th></th>\n",
       "      <th>round</th>\n",
       "    </tr>\n",
       "  </thead>\n",
       "  <tbody>\n",
       "    <tr>\n",
       "      <td>0</td>\n",
       "      <td>24.3</td>\n",
       "    </tr>\n",
       "  </tbody>\n",
       "</table>\n",
       "</div>"
      ],
      "text/plain": [
       "   round\n",
       "0   24.3"
      ]
     },
     "execution_count": 12,
     "metadata": {},
     "output_type": "execute_result"
    }
   ],
   "source": [
    "query = '''\n",
    "        WITH\n",
    "        rev AS (SELECT username, \n",
    "                COUNT(*) AS count_reviews\n",
    "        FROM reviews\n",
    "        WHERE username IN (SELECT username\n",
    "                           FROM ratings\n",
    "                           GROUP BY username\n",
    "                           HAVING COUNT(*) > 50)\n",
    "        GROUP BY username)\n",
    "        \n",
    "        SELECT ROUND(AVG(count_reviews), 1)\n",
    "        FROM rev\n",
    "\n",
    "        '''\n",
    "pd.io.sql.read_sql(query, con = engine)"
   ]
  },
  {
   "cell_type": "markdown",
   "id": "c8bc51a4",
   "metadata": {},
   "source": [
    "#### Вывод по задаче"
   ]
  },
  {
   "cell_type": "markdown",
   "id": "4da6f90a",
   "metadata": {},
   "source": [
    "- в 24% случаев те, кто оценивает прочитанное оставляют и обзор на прочитанное. Почти каждый четвертый."
   ]
  }
 ],
 "metadata": {
  "ExecuteTimeLog": [
   {
    "duration": 598,
    "start_time": "2022-08-18T13:22:46.349Z"
   },
   {
    "duration": 11046,
    "start_time": "2022-08-18T13:22:46.950Z"
   },
   {
    "duration": 398,
    "start_time": "2022-08-18T13:22:57.997Z"
   },
   {
    "duration": 90,
    "start_time": "2022-08-18T13:22:58.397Z"
   },
   {
    "duration": 83,
    "start_time": "2022-08-18T13:22:58.490Z"
   },
   {
    "duration": 106,
    "start_time": "2022-08-18T13:22:58.575Z"
   },
   {
    "duration": 101,
    "start_time": "2022-08-18T13:22:58.683Z"
   },
   {
    "duration": 444,
    "start_time": "2022-08-18T13:22:58.786Z"
   },
   {
    "duration": 0,
    "start_time": "2022-08-18T13:22:59.232Z"
   },
   {
    "duration": 0,
    "start_time": "2022-08-18T13:22:59.233Z"
   },
   {
    "duration": 0,
    "start_time": "2022-08-18T13:22:59.234Z"
   },
   {
    "duration": 0,
    "start_time": "2022-08-18T13:22:59.235Z"
   },
   {
    "duration": 77,
    "start_time": "2022-08-18T13:24:51.256Z"
   },
   {
    "duration": 76,
    "start_time": "2022-08-18T13:24:55.659Z"
   },
   {
    "duration": 112,
    "start_time": "2022-08-18T13:25:58.037Z"
   },
   {
    "duration": 115,
    "start_time": "2022-08-18T13:32:06.321Z"
   },
   {
    "duration": 113,
    "start_time": "2022-08-18T13:32:14.539Z"
   },
   {
    "duration": 102,
    "start_time": "2022-08-18T13:32:33.327Z"
   },
   {
    "duration": 113,
    "start_time": "2022-08-18T13:32:39.043Z"
   },
   {
    "duration": 284,
    "start_time": "2022-08-18T13:33:17.655Z"
   },
   {
    "duration": 211,
    "start_time": "2022-08-18T13:39:08.123Z"
   },
   {
    "duration": 159,
    "start_time": "2022-08-18T13:39:11.765Z"
   },
   {
    "duration": 110,
    "start_time": "2022-08-18T13:39:36.447Z"
   },
   {
    "duration": 463,
    "start_time": "2022-08-18T13:40:01.770Z"
   },
   {
    "duration": 110,
    "start_time": "2022-08-18T13:41:41.936Z"
   },
   {
    "duration": 82,
    "start_time": "2022-08-18T13:42:00.759Z"
   },
   {
    "duration": 85,
    "start_time": "2022-08-18T13:42:50.974Z"
   },
   {
    "duration": 80,
    "start_time": "2022-08-18T13:43:56.357Z"
   },
   {
    "duration": 290,
    "start_time": "2022-08-18T13:46:03.418Z"
   },
   {
    "duration": 198,
    "start_time": "2022-08-18T13:46:15.913Z"
   },
   {
    "duration": 187,
    "start_time": "2022-08-18T13:46:23.368Z"
   },
   {
    "duration": 84,
    "start_time": "2022-08-18T13:46:45.424Z"
   },
   {
    "duration": 81,
    "start_time": "2022-08-18T13:48:11.108Z"
   },
   {
    "duration": 84,
    "start_time": "2022-08-18T13:48:28.088Z"
   },
   {
    "duration": 79,
    "start_time": "2022-08-18T13:48:35.433Z"
   },
   {
    "duration": 81,
    "start_time": "2022-08-18T13:48:42.124Z"
   },
   {
    "duration": 89,
    "start_time": "2022-08-18T13:52:47.940Z"
   },
   {
    "duration": 576,
    "start_time": "2022-08-18T13:54:47.121Z"
   },
   {
    "duration": 20029,
    "start_time": "2022-08-18T13:54:47.700Z"
   },
   {
    "duration": 307,
    "start_time": "2022-08-18T13:55:07.732Z"
   },
   {
    "duration": 91,
    "start_time": "2022-08-18T13:55:08.042Z"
   },
   {
    "duration": 88,
    "start_time": "2022-08-18T13:55:08.135Z"
   },
   {
    "duration": 130,
    "start_time": "2022-08-18T13:55:08.225Z"
   },
   {
    "duration": 146,
    "start_time": "2022-08-18T13:55:08.357Z"
   },
   {
    "duration": 80,
    "start_time": "2022-08-18T13:55:08.506Z"
   },
   {
    "duration": 93,
    "start_time": "2022-08-18T13:55:08.588Z"
   },
   {
    "duration": 80,
    "start_time": "2022-08-18T13:55:08.684Z"
   },
   {
    "duration": 82,
    "start_time": "2022-08-18T13:55:08.766Z"
   },
   {
    "duration": 80,
    "start_time": "2022-08-18T13:55:08.850Z"
   }
  ],
  "kernelspec": {
   "display_name": "Python 3 (ipykernel)",
   "language": "python",
   "name": "python3"
  },
  "language_info": {
   "codemirror_mode": {
    "name": "ipython",
    "version": 3
   },
   "file_extension": ".py",
   "mimetype": "text/x-python",
   "name": "python",
   "nbconvert_exporter": "python",
   "pygments_lexer": "ipython3",
   "version": "3.7.8"
  },
  "toc": {
   "base_numbering": 1,
   "nav_menu": {},
   "number_sections": true,
   "sideBar": true,
   "skip_h1_title": true,
   "title_cell": "Table of Contents",
   "title_sidebar": "Contents",
   "toc_cell": true,
   "toc_position": {
    "height": "calc(100% - 180px)",
    "left": "10px",
    "top": "150px",
    "width": "349.047px"
   },
   "toc_section_display": true,
   "toc_window_display": true
  }
 },
 "nbformat": 4,
 "nbformat_minor": 5
}
